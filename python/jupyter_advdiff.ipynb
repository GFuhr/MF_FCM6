{
 "cells": [
  {
   "cell_type": "markdown",
   "metadata": {},
   "source": [
    "# Student name and e-mail"
   ]
  },
  {
   "cell_type": "markdown",
   "metadata": {},
   "source": [
    "name : \n",
    "\n",
    "e-mail : "
   ]
  },
  {
   "cell_type": "code",
   "execution_count": null,
   "metadata": {},
   "outputs": [],
   "source": [
    "USE_GOOGLE_COLAB = False"
   ]
  },
  {
   "cell_type": "code",
   "execution_count": null,
   "metadata": {},
   "outputs": [],
   "source": []
  },
  {
   "cell_type": "markdown",
   "metadata": {},
   "source": [
    "# python modules"
   ]
  },
  {
   "cell_type": "code",
   "execution_count": null,
   "metadata": {},
   "outputs": [],
   "source": [
    "%reload_ext cython"
   ]
  },
  {
   "cell_type": "code",
   "execution_count": null,
   "metadata": {},
   "outputs": [],
   "source": [
    "\n",
    "from IPython.display import HTML\n",
    "import matplotlib.pyplot as plt\n",
    "from matplotlib import animation\n",
    "\n",
    "import cython\n",
    "import datetime\n",
    "import numpy as np\n",
    "try:\n",
    "    import yaml\n",
    "    HAS_YAML=True\n",
    "    display('Good News, YAML format accepted')\n",
    "except ImportError:\n",
    "    import json as js\n",
    "    HAS_YAML=False\n",
    "    display('only json accepted')\n",
    "\n",
    "%matplotlib inline"
   ]
  },
  {
   "cell_type": "markdown",
   "metadata": {},
   "source": [
    "function used to generate animations and compute computation time"
   ]
  },
  {
   "cell_type": "markdown",
   "metadata": {},
   "source": [
    "# Additional functions\n",
    "\n",
    "<font size=3>\n",
    "    Functions defined here have been made to simplify representation of outputs. These functions are not part of the labs and can be used directly\n",
    "</font>"
   ]
  },
  {
   "cell_type": "code",
   "execution_count": null,
   "metadata": {},
   "outputs": [],
   "source": [
    "from utils.timer import Timer\n",
    "from utils.plotting import plot_results, plot_profile, figformat"
   ]
  },
  {
   "cell_type": "code",
   "execution_count": null,
   "metadata": {},
   "outputs": [],
   "source": [
    "from utils.file import save_outputs\n",
    "\n",
    "def save_with_params(output, params):\n",
    "    prefix = ''\n",
    "    if params.get('C', None) is not None:\n",
    "        prefix = 'diff_'\n",
    "    if params.get('V', None) is not None:\n",
    "        prefix += 'adv_'\n",
    "    prefix += '{0:03d}_'.format(params['Nx'])\n",
    "    save_outputs([params, output], prefix=prefix)"
   ]
  },
  {
   "cell_type": "code",
   "execution_count": null,
   "metadata": {},
   "outputs": [],
   "source": [
    "def load_from_string(params_str:str):\n",
    "    \"\"\"\n",
    "    function used to load parameters from a string and load it into a dict used by simulations\n",
    "    return : dict or ValueError if scheme is not correct\n",
    "    \"\"\"\n",
    "    if not HAS_YAML:\n",
    "        data = js.loads(params_str)\n",
    "    else:\n",
    "        data = yaml.safe_load (params_str)\n",
    "    data['V'] = np.double(data['V'])\n",
    "    try:\n",
    "        data['Nx'] = np.int(data['Nx'])\n",
    "    except TypeError:\n",
    "        raise ValueError('Nx Value missing or not written as a number')\n",
    "    try:\n",
    "        data['Ny'] = np.int(data['Ny'])\n",
    "    except TypeError:\n",
    "        raise ValueError('Ny Value missing or not written as a number')\n",
    "    except KeyError:\n",
    "        print('Ny key not found')\n",
    "    data['scheme'] = data['scheme'].lower().strip()\n",
    "    if data['scheme'] not in ('eule', 'euli', 'rk2', 'rk4', 'cn'):\n",
    "        raise ValueError('unknown time scheme')\n",
    "    return data"
   ]
  },
  {
   "cell_type": "code",
   "execution_count": null,
   "metadata": {},
   "outputs": [],
   "source": [
    "# function extracting the max value and his position for each serie of a list of profiles\n",
    "def extract_max(Frames):\n",
    "    list_max = np.zeros(shape=(2, len(Frames)))\n",
    "    idx = 0\n",
    "    for frame in Frames:\n",
    "        list_max[:,idx] = (frame.argmax(), frame.max())\n",
    "        idx += 1\n",
    "    return np.asarray(list_max)"
   ]
  },
  {
   "cell_type": "markdown",
   "metadata": {},
   "source": [
    "# Definition of Finite difference functions used to resolve convection-diffusion equation"
   ]
  },
  {
   "cell_type": "code",
   "execution_count": null,
   "metadata": {},
   "outputs": [],
   "source": [
    "%%cython -f \n",
    "# distutils: extra_compile_args = -fopenmp\n",
    "# distutils: extra_link_args = -fopenmp\n",
    "# cython: boundscheck = False\n",
    "# cython: wraparound = False\n",
    "\n",
    "import setuptools\n",
    "import numpy as np\n",
    "cimport cython\n",
    "from cython.parallel import prange, parallel\n",
    "cimport numpy as np\n",
    "DTYPE = np.double\n",
    "ctypedef np.double_t DTYPE_t\n",
    "\n",
    "\n",
    "# definition of a matrix representation used for implicit schemes\n",
    "# \n",
    "cdef class linearmatrix(object):\n",
    "    cdef int size\n",
    "    cdef double[:] tridiag_a\n",
    "    cdef double[:]  tridiag_b\n",
    "    cdef double[:]  tridiag_c\n",
    "    cdef double[:]  tridiag_gam\n",
    "    cdef double[:]  tridiag_bet\n",
    "    cdef double[:, :] matrix\n",
    "    cdef bint isinit\n",
    "    cdef tuple shape\n",
    "\n",
    "    def __cinit__(self, int size):\n",
    "        self.size = size\n",
    "        self.shape = (size, size)\n",
    "        self.init_tridiag()\n",
    "\n",
    "    def init_tridiag(self):\n",
    "        self.isinit = True\n",
    "        self.tridiag_b = np.zeros(self.size, dtype=DTYPE)\n",
    "        self.tridiag_a = np.zeros(self.size-1, dtype=DTYPE)\n",
    "        self.tridiag_c = np.zeros(self.size-1, dtype=DTYPE)\n",
    "        self.tridiag_gam = np.zeros(self.size, dtype=DTYPE)\n",
    "        self.tridiag_bet = np.zeros(self.size, dtype=DTYPE)\n",
    "        self.matrix = np.zeros(self.shape, dtype = DTYPE)\n",
    "\n",
    "    def initInvMat1D(self):\n",
    "        \"\"\"\n",
    "        initialisation des donnees pour l'inversion d'une matrice tridiagonale\n",
    "        :param a: diagonale inferieure\n",
    "        :param b: diagonale principale\n",
    "        :param c: diagonale superieure\n",
    "        :param pGam:\n",
    "        :param pBet:\n",
    "        :return: None\n",
    "        \"\"\"\n",
    "        cdef int k=0\n",
    "        cdef int iSizeX = self.tridiag_b.shape[0]-1\n",
    "\n",
    "\n",
    "        self.tridiag_bet[1]=self.tridiag_b[1]\n",
    "        for k in range(2, iSizeX-1):\n",
    "            self.tridiag_gam[k] = self.tridiag_c[k-1]/self.tridiag_bet[k-1]\n",
    "            self.tridiag_bet[k] = self.tridiag_b[k]-self.tridiag_a[k]*self.tridiag_gam[k]\n",
    "\n",
    "        for k in range(1, iSizeX-1):\n",
    "            self.tridiag_bet[k] = 1./self.tridiag_bet[k]\n",
    "\n",
    "    # routine d'inversion d'une matrice tridiagonale\n",
    "    def solve(self, np.ndarray[DTYPE_t, ndim=1, negative_indices=False, mode='c'] rhs,\n",
    "                 np.ndarray[DTYPE_t, ndim=1, negative_indices=False, mode='c'] inv):\n",
    "        \"\"\"\n",
    "        routine d'inversion d'une matrice tridiagonale : A * inv = rhs\n",
    "        :param rhs: vector\n",
    "        :param inv: vector\n",
    "        :param a:\n",
    "        :param pGam:\n",
    "        :param pBet:\n",
    "        :return: No return\n",
    "        \"\"\"\n",
    "        cdef long iSizeX = rhs.shape[0]\n",
    "        cdef long k\n",
    "\n",
    "        inv[1]=rhs[1]*self.tridiag_bet[1]\n",
    "        for k in range(2, iSizeX-1):\n",
    "            inv[k] = (rhs[k]-self.tridiag_a[k]*inv[k-1])*self.tridiag_bet[k]\n",
    "        for k in range(iSizeX-2, 0, -1):\n",
    "            inv[k] -= self.tridiag_gam[k+1]*rhs[k+1]\n",
    "\n",
    "\n",
    "    def add_diffusion(self, double C, double dx):\n",
    "        if  self.isinit is False:\n",
    "            self.init_tridiag()\n",
    "        for k in range(0, self.size-1):\n",
    "            self.tridiag_b[k] += -2.*C/dx**2\n",
    "            self.tridiag_a[k] += C/dx**2\n",
    "            self.tridiag_c[k] += C/dx**2\n",
    "        self.tridiag_b[self.size-1] += -2.*C/dx**2\n",
    "\n",
    "    def add_advection(self, double V, double dx):\n",
    "        if self.isinit is False:\n",
    "            self.init_tridiag()\n",
    "        for k in range(0, self.size-1):\n",
    "            self.tridiag_b[k] += -V/dx\n",
    "            self.tridiag_a[k] += 0\n",
    "            self.tridiag_c[k] += V/dx\n",
    "        self.tridiag_b[self.size-1] += -V/dx\n",
    "\n",
    "    def add_diag_constant(self, double C):\n",
    "        for k in range(0, self.size):\n",
    "            self.tridiag_b[k] += C\n",
    "\n",
    "    def as_dense_matrix(self):\n",
    "        self.matrix = np.diag(self.tridiag_b) + np.diag(self.tridiag_a, -1) \\\n",
    "                      + np.diag(self.tridiag_c, 1)\n",
    "\n",
    "        \n",
    "        \n",
    "# function used to compute diffusion\n",
    "cdef diffusion(double dx, double C, \\\n",
    "    np.ndarray[DTYPE_t, ndim=1, negative_indices=False, mode='c'] v, \\\n",
    "    np.ndarray[DTYPE_t, ndim=1, negative_indices=False, mode='c'] u):\n",
    "    cdef int m = u.shape[0]-1\n",
    "    cdef int i\n",
    "    cdef double hx = C/dx**2\n",
    "\n",
    "    with nogil, parallel(num_threads=4):\n",
    "        for i in prange(1, m):\n",
    "            u[i] += hx*(v[i+1] + v[i-1] - 2*v[i])\n",
    "\n",
    "\n",
    "cdef advection(double dx, double V, \\\n",
    "    np.ndarray[DTYPE_t, ndim=1, negative_indices=False, mode='c'] v, \\\n",
    "    np.ndarray[DTYPE_t, ndim=1, negative_indices=False, mode='c'] u):\n",
    "    cdef int m = u.shape[0]-1\n",
    "    cdef int i, start = 1\n",
    "    cdef double hx = (V/dx)\n",
    "    with nogil, parallel(num_threads=4):\n",
    "        for i in prange(start, m):\n",
    "                u[i] += hx*(v[i]  - v[i-1])\n",
    "\n",
    "\n",
    "\n",
    "cdef boundary(\n",
    "    np.ndarray[DTYPE_t, ndim=1, negative_indices=False, mode='c'] u):\n",
    "    cdef int m = u.shape[0]-1\n",
    "    # periodic\n",
    "    u[0] = u[m-1]\n",
    "    u[m] = u[1]\n",
    "    # neumann\n",
    "    # u[0] = u[2]\n",
    "    # u[m] = u[m-2]\n",
    "    # dirichlet\n",
    "    # u[0] = -u[2]\n",
    "    # u[m] = -u[m-2]\n",
    "    \n",
    "    \n",
    "\n",
    "def time_step(\n",
    "    np.ndarray[DTYPE_t, ndim=1, negative_indices=False, mode='c'] Field_p, \\\n",
    "    np.ndarray[DTYPE_t, ndim=1, negative_indices=False, mode='c'] pp1, **kwargs):\n",
    "    cdef double dx = kwargs.get('dx')\n",
    "    cdef double C = kwargs.get('C', .001)\n",
    "    cdef double V = kwargs.get('V', -.001)\n",
    "    diffusion(dx, C, Field_p, pp1 )\n",
    "    advection(dx, V, Field_p, pp1 )\n",
    "    \n",
    "\n",
    "def eule(\n",
    "    np.ndarray[DTYPE_t, ndim=1, negative_indices=False, mode='c'] rhs, \\\n",
    "    np.ndarray[DTYPE_t, ndim=1, negative_indices=False, mode='c'] Field_p, **kwargs):\n",
    "    \"\"\"\n",
    "        compute explicit euler time step\n",
    "        Field_p = Field_p + dt* (-V d/dx + C d2/dx2)\n",
    "        params Field_p :\n",
    "        params rhs : temporary array to compute RHS of equation\n",
    "        params kwargs : physical parameters (C, V, dx, dt)\n",
    "    \"\"\"\n",
    "\n",
    "    cdef int m = Field_p.shape[0]-1\n",
    "    cdef int idx_x, start = 1\n",
    "\n",
    "    with nogil, parallel(num_threads=4):\n",
    "        for idx_x in prange(start, m):\n",
    "            rhs[idx_x] = 0\n",
    "    time_step(Field_p, rhs, **kwargs)\n",
    "    with nogil, parallel(num_threads=4):\n",
    "        for idx_x in prange(start, m):\n",
    "            Field_p[idx_x] += rhs[idx_x]\n",
    "    boundary(Field_p)\n",
    "\n",
    "\n",
    "def euli(linearmatrix matA, \\\n",
    "    np.ndarray[DTYPE_t, ndim=1, negative_indices=False, mode='c'] pp1, \\\n",
    "    np.ndarray[DTYPE_t, ndim=1, negative_indices=False, mode='c'] Field_p, **kwargs):\n",
    "\n",
    "    cdef int m = Field_p.shape[0]\n",
    "    cdef int idx_x, start = 1\n",
    "    matA.solve(Field_p, pp1)\n",
    "    #boundary(pp1)\n",
    "    for idx_x in range(0, m):\n",
    "            Field_p[idx_x] = pp1[idx_x]\n",
    "    boundary(Field_p)\n",
    "\n",
    "    \n",
    "def CranckN(linearmatrix matA, \\\n",
    "    np.ndarray[DTYPE_t, ndim=1, negative_indices=False, mode='c'] rhs, \\\n",
    "    np.ndarray[DTYPE_t, ndim=1, negative_indices=False, mode='c'] Field_p, **kwargs):\n",
    "\n",
    "    eule(rhs, Field_p, **kwargs)\n",
    "    euli(matA, rhs, Field_p, **kwargs)\n",
    "\n",
    "\n",
    "def RK_step(\n",
    "    np.ndarray[DTYPE_t, ndim=1, negative_indices=False, mode='c'] Field_p, \\\n",
    "    np.ndarray[DTYPE_t, ndim=1, negative_indices=False, mode='c'] ki, \\\n",
    "    np.ndarray[DTYPE_t, ndim=1, negative_indices=False, mode='c'] ppi, **kwargs):\n",
    "\n",
    "    cdef int m = Field_p.shape[0]-1\n",
    "    cdef int idx_x, start = 1\n",
    "    cdef double gamma = kwargs.get('gamma', .5)\n",
    "    time_step(Field_p, ki, **kwargs)\n",
    "    with nogil, parallel(num_threads=4):\n",
    "        for idx_x in prange(start, m):\n",
    "                ppi[idx_x] = Field_p[idx_x] + gamma*ki[idx_x]\n",
    "    boundary(ppi)\n",
    "\n",
    "\n",
    "def RK4(\n",
    "    np.ndarray[DTYPE_t, ndim=1, negative_indices=False, mode='c'] k1, \\\n",
    "    np.ndarray[DTYPE_t, ndim=1, negative_indices=False, mode='c'] k2, \\\n",
    "    np.ndarray[DTYPE_t, ndim=1, negative_indices=False, mode='c'] k3, \\\n",
    "    np.ndarray[DTYPE_t, ndim=1, negative_indices=False, mode='c'] k4, \\\n",
    "    np.ndarray[DTYPE_t, ndim=1, negative_indices=False, mode='c'] y1, \\\n",
    "    np.ndarray[DTYPE_t, ndim=1, negative_indices=False, mode='c'] y2, \\\n",
    "    np.ndarray[DTYPE_t, ndim=1, negative_indices=False, mode='c'] y3, \\\n",
    "    np.ndarray[DTYPE_t, ndim=1, negative_indices=False, mode='c'] Field_p, \\\n",
    "    **kwargs):\n",
    "\n",
    "    cdef int m = Field_p.shape[0]-1\n",
    "    cdef int idx_x, idx_y, start = 1\n",
    "\n",
    "    with nogil, parallel(num_threads=4):\n",
    "        for idx_x in prange(start, m):\n",
    "                k1[idx_x] = 0\n",
    "                k2[idx_x] = 0\n",
    "                k3[idx_x] = 0\n",
    "                k4[idx_x] = 0\n",
    "                y1[idx_x] = 0\n",
    "                y2[idx_x] = 0\n",
    "                y3[idx_x] = 0\n",
    "    kwargs['gamma'] = .5\n",
    "    RK_step(Field_p, k1, y1, **kwargs)\n",
    "    kwargs['gamma'] = .5\n",
    "    RK_step(y1, k2, y2, **kwargs)\n",
    "    kwargs['gamma'] = 1\n",
    "    RK_step(y2, k3, y3, **kwargs)\n",
    "    time_step(y3, k4, **kwargs)\n",
    "\n",
    "    with nogil, parallel(num_threads=4):\n",
    "        for idx_x in prange(start, m):\n",
    "                Field_p[idx_x] = Field_p[idx_x] + \\\n",
    "                                    (1./6.)*(k1[idx_x]+2.*(k2[idx_x]+k3[idx_x])+k4[idx_x])\n",
    "    boundary(Field_p)\n",
    "\n",
    "\n",
    "def RK2(\n",
    "    np.ndarray[DTYPE_t, ndim=1, negative_indices=False, mode='c'] k1, \\\n",
    "    np.ndarray[DTYPE_t, ndim=1, negative_indices=False, mode='c'] k2, \\\n",
    "    np.ndarray[DTYPE_t, ndim=1, negative_indices=False, mode='c'] y1, \\\n",
    "    np.ndarray[DTYPE_t, ndim=1, negative_indices=False, mode='c'] Field_p, \\\n",
    "             **kwargs):\n",
    "\n",
    "    cdef int m = Field_p.shape[0]-1\n",
    "    cdef int idx_x, idx_y, start = 1\n",
    "\n",
    "    with nogil, parallel(num_threads=4):\n",
    "        for idx_x in prange(start, m):\n",
    "                k1[idx_x] = 0\n",
    "                k2[idx_x] = 0\n",
    "                y1[idx_x] = 0\n",
    "    kwargs['gamma'] = .5\n",
    "    RK_step(Field_p, k1, y1, **kwargs)\n",
    "    kwargs['gamma'] = 1\n",
    "    time_step(y1, k2, **kwargs)\n",
    "\n",
    "    with nogil, parallel(num_threads=4):\n",
    "        for idx_x in prange(start, m):\n",
    "                Field_p[idx_x] = Field_p[idx_x] + k2[idx_x]\n",
    "    boundary(Field_p)\n",
    "    \n",
    "    "
   ]
  },
  {
   "cell_type": "markdown",
   "metadata": {},
   "source": [
    "## function used for initial condition\n",
    "If/When you modify this function, don't forget to execute again the cell (press shift+enter for that)"
   ]
  },
  {
   "cell_type": "code",
   "execution_count": null,
   "metadata": {},
   "outputs": [],
   "source": [
    "def initfield_1D(x: np.array):\n",
    "    \"\"\"\n",
    "    generate initial profile for advdiff simulations,\n",
    "    :param x: meshgrid for X values\n",
    "    :return: 1D field\n",
    "    \"\"\"\n",
    "    u0 = np.zeros(x.shape)\n",
    "    u0 = np.exp(-(x-.5*x.max())**2/10)\n",
    "\n",
    "    # exemple for gate\n",
    "#     u0[:] = 1\n",
    "#     u0[0:u0.shape[0]//4] = 0\n",
    "#     u0[3*u0.shape[0] // 4:] = 0\n",
    "    return u0"
   ]
  },
  {
   "cell_type": "code",
   "execution_count": null,
   "metadata": {},
   "outputs": [],
   "source": [
    "\n",
    "# run the simulation corresponding to given parameters\n",
    "def simulate(verbose=False, **kwargs):\n",
    "    global_params = kwargs.copy()\n",
    "    \n",
    "    Nx = global_params['Nx']\n",
    "    dx = global_params['dx']\n",
    "    dt = global_params['dt']\n",
    "    Tmax = global_params['Tmax']\n",
    "    Toutput = global_params['Toutput']\n",
    "    C = global_params['C']\n",
    "    V = global_params['V']\n",
    "\n",
    "    # init fields and constants\n",
    "    X = dx*np.linspace(0, Nx-1, num=Nx)\n",
    "\n",
    "    Field_p_init = initfield_1D(X)\n",
    "\n",
    "    #RK Fields\n",
    "    k1 = np.zeros(Nx)\n",
    "    k2 = np.zeros(Nx)\n",
    "    k3 = np.zeros(Nx)\n",
    "    k4 = np.zeros(Nx)\n",
    "    y1 = np.zeros(Nx)\n",
    "    y2 = np.zeros(Nx)\n",
    "    y3 = np.zeros(Nx)\n",
    "\n",
    "    # matrix for implicit schemes\n",
    "    Mat = linearmatrix(Nx)\n",
    "\n",
    "    # init fields and constants\n",
    "    if verbose:\n",
    "        display(global_params)\n",
    "        display('stability analysis : ')\n",
    "        display('advection : {0}'.format(np.abs(V)*dt/dx))\n",
    "        display('diffusion : {0}'.format(C*dt/dx**2))\n",
    "\n",
    "    t = 0\n",
    "    tlast = 0\n",
    "    global_params['C'] *= dt\n",
    "    global_params['V'] *= dt\n",
    "\n",
    "\n",
    "    Field_p = Field_p_init.copy()\n",
    "    Frames = []\n",
    "    Frames.append(Field_p_init.copy())\n",
    "\n",
    "    # generate matrix for implicit part I + Vdu/dx - C d2u/dx2\n",
    "    scheme = global_params['scheme'].lower().strip()\n",
    "    if scheme == 'cn':\n",
    "        global_params['V'] *= .5\n",
    "        global_params['C'] *= .5\n",
    "    C = global_params['C']\n",
    "    V = global_params['V']\n",
    "    Mat.add_advection(-V, dx)\n",
    "    Mat.add_diffusion(-C, dx)\n",
    "    Mat.add_diag_constant(1)\n",
    "    Mat.initInvMat1D()\n",
    "\n",
    "    iterations = 0\n",
    "    with Timer() as tf:\n",
    "        while(t<Tmax):\n",
    "            # uncomment line depending on choosen scheme\n",
    "            if scheme == 'eule':\n",
    "                eule(k1, Field_p, **global_params)\n",
    "            elif scheme == 'euli':\n",
    "                euli(Mat, k1, Field_p, **global_params)\n",
    "            elif scheme == 'rk2':\n",
    "                RK2(k1, k2, y1, Field_p, **global_params)\n",
    "            elif scheme == 'rk4':\n",
    "                RK4(k1, k2, k3, k4, y1, y2, y3, Field_p, **global_params)\n",
    "            elif scheme == 'cn':\n",
    "                CranckN(Mat, k1, Field_p, **global_params)\n",
    "            else:\n",
    "                raise ValueError('scheme not specified : '+scheme)\n",
    "\n",
    "            if (t - tlast) > Toutput:\n",
    "                #print('processing.... {0}%'.format(int(100.*t/Tmax)))\n",
    "                tlast += Toutput\n",
    "                Frames.append(np.array(Field_p))\n",
    "            t += dt\n",
    "            iterations += 1\n",
    "    if verbose:\n",
    "        display('total execution time in µs : {0}'.format(tf.interval))\n",
    "        display('number of snapshots : {0}'.format(len(Frames)))\n",
    "        display('used time for 1 time step : {0:.2f} µs'.format(tf.interval/iterations))\n",
    "    return Frames\n",
    "\n"
   ]
  },
  {
   "cell_type": "markdown",
   "metadata": {},
   "source": [
    "## definition of simulation's parameters"
   ]
  },
  {
   "cell_type": "code",
   "execution_count": null,
   "metadata": {},
   "outputs": [],
   "source": [
    "\n",
    "# list of parameters used in both advdiff et H2D.\n",
    "# Remark : the # starting line indicates a comment and is not necessary\n",
    "\n",
    "# definition of parameter input to be used\n",
    "\"\"\"\n",
    "# time step\n",
    "dt: .000001\n",
    "\n",
    "# x step\n",
    "dx:  .015\n",
    "\n",
    "# y step (used only for H2D simulations)\n",
    "dy: .01\n",
    "\n",
    "# Points in X direction\n",
    "Nx:  128\n",
    "\n",
    "# Points in Y direction\n",
    "Ny: 128\n",
    "\n",
    "# modes in Y direction\n",
    "Nm:  32\n",
    "\n",
    "# wave number in Y direction\n",
    "ky: .1\n",
    "\n",
    "# end time\n",
    "Tmax: .00001\n",
    "\n",
    "# output time\n",
    "Toutput: .000001\n",
    "\n",
    "# diffusion coefficient\n",
    "C:  .02\n",
    "\n",
    "# advection coefficient\n",
    "V:  -.2\n",
    "\n",
    "# time scheme\n",
    "# can be\n",
    "# eule for euler explicit (default)\n",
    "# euli for euler implicit\n",
    "# RK2 for Runge-Kutta 2\n",
    "# RK4 for Runge-Kutta 4\n",
    "# CN for Cranck-Nicholson\n",
    "scheme: eule\n",
    "\"\"\"\n",
    ";"
   ]
  },
  {
   "cell_type": "markdown",
   "metadata": {},
   "source": [
    "# Section 0 : Introduction"
   ]
  },
  {
   "cell_type": "markdown",
   "metadata": {
    "slideshow": {
     "slide_type": "notes"
    }
   },
   "source": [
    "Solve convection-diffusion equation : \n",
    "$$\\Large \\frac{\\partial u(x,t)}{\\partial t}+V\\frac{\\partial u(x,t)}{\\partial x} = C\\frac{\\partial^2 u(x,t)}{\\partial x^2}$$\n",
    "$$\\Large u(x, t=0) = u_0(x) $$\n",
    "$$\\Large u(0, t) = u(L_x, t) $$"
   ]
  },
  {
   "cell_type": "markdown",
   "metadata": {},
   "source": [
    "<font size=4>\n",
    "<p>First, we define parameters in a string which will then be used for the simulation. All the parameters are described in the upper cell.\n",
    "This variable is converted to an usable dict through the function load_from_string.\n",
    "    </p>\n",
    "</font>"
   ]
  },
  {
   "cell_type": "markdown",
   "metadata": {},
   "source": [
    "### Diffusion Only\n",
    "\n",
    "$$\\Large \\frac{\\partial u(x,t)}{\\partial t} = C\\frac{\\partial^2 u(x,t)}{\\partial x^2}$$\n",
    "$$\\Large u(0, t) = u(L_x, t) $$\n",
    "$$\\Large u(x, 0) = \\exp\\left( -x^2/\\sigma^2\\right) $$"
   ]
  },
  {
   "cell_type": "markdown",
   "metadata": {},
   "source": [
    "<font size=4>\n",
    "    If YAML format is not accepted, parameters should be written in the following format : each variable must have \" around is name and each line terminated with a comma\n",
    "</font>"
   ]
  },
  {
   "cell_type": "code",
   "execution_count": null,
   "metadata": {},
   "outputs": [],
   "source": [
    "params_ex_diff_str = \"\"\"{\n",
    "\"C\": 0.04,\n",
    "\"Nx\": 256,\n",
    "\"Tmax\": .000001,\n",
    "\"Toutput\": .0000001, \n",
    "\"V\": 0,\n",
    "\"dt\": 0.000000001,\n",
    "\"dx\": 0.1,\n",
    "\"scheme\": \"eule\"\n",
    "}\n",
    "\"\"\"\n",
    "params_ex_diff = load_from_string(params_ex_diff_str)\n",
    "display(params_ex_diff)"
   ]
  },
  {
   "cell_type": "markdown",
   "metadata": {},
   "source": [
    "<font size=4>\n",
    "    If YAML format is accepted, parameters can be written following this format. If YAML is not recognized, you will have an error message.\n",
    "</font>"
   ]
  },
  {
   "cell_type": "code",
   "execution_count": null,
   "metadata": {},
   "outputs": [],
   "source": [
    "params_ex_diff_str = \"\"\"\n",
    "C: 0.04\n",
    "Nx: 256\n",
    "Tmax: 500\n",
    "Toutput: 1 \n",
    "V: 0\n",
    "dt: 0.12\n",
    "dx: 0.1\n",
    "scheme: eule\n",
    "\"\"\"\n",
    "params_ex_diff = load_from_string(params_ex_diff_str)\n",
    "display(params_ex_diff)"
   ]
  },
  {
   "cell_type": "markdown",
   "metadata": {},
   "source": [
    "<font size=4> \n",
    "    To run a new simulation you just need to use the function simulate with the parameters written previously as argument\n",
    "</font>"
   ]
  },
  {
   "cell_type": "code",
   "execution_count": null,
   "metadata": {},
   "outputs": [],
   "source": [
    "%%time\n",
    "output_ex_diff = simulate(**params_ex_diff, verbose=False)"
   ]
  },
  {
   "cell_type": "markdown",
   "metadata": {},
   "source": [
    "<font size=4> \n",
    "    To see the result as an animation you can use the function plot_results with the returned value from the function simulate as argument\n",
    "</font>"
   ]
  },
  {
   "cell_type": "code",
   "execution_count": null,
   "metadata": {},
   "outputs": [],
   "source": [
    "%%time\n",
    "plot_results(output_ex_diff)"
   ]
  },
  {
   "cell_type": "markdown",
   "metadata": {},
   "source": [
    "<font size=4>\n",
    "    to plot last snapshot\n",
    "</font>"
   ]
  },
  {
   "cell_type": "code",
   "execution_count": null,
   "metadata": {},
   "outputs": [],
   "source": [
    "plot_profile(output_ex_diff, -1)"
   ]
  },
  {
   "cell_type": "markdown",
   "metadata": {},
   "source": [
    "<font size=4>\n",
    "    to plot evolution of max(u(x,t)) in time\n",
    "</font>"
   ]
  },
  {
   "cell_type": "code",
   "execution_count": null,
   "metadata": {},
   "outputs": [],
   "source": [
    "figformat().apply()\n",
    "plt.figure(figsize=(10,10))\n",
    "plt.grid(False)\n",
    "ax = plt.gca()\n",
    "x = extract_max(output_ex_diff)[0]\n",
    "y = extract_max(output_ex_diff)[1]\n",
    "t = 1+np.arange(*x.shape)\n",
    "ax.scatter(t, y, c=t)\n",
    "# set log scale in y\n",
    "ax.set_yscale('log')\n",
    "# set log scale in x\n",
    "# ax.set_xscale('log')\n",
    "\n",
    "plt.xlabel('time')\n",
    "plt.ylabel('max')\n",
    ";"
   ]
  },
  {
   "cell_type": "markdown",
   "metadata": {},
   "source": [
    "To save results of a simulation : "
   ]
  },
  {
   "cell_type": "code",
   "execution_count": null,
   "metadata": {},
   "outputs": [],
   "source": [
    "save_with_params(output_ex_diff, params_ex_diff)"
   ]
  },
  {
   "cell_type": "markdown",
   "metadata": {},
   "source": [
    "### Section 1 : diffusion"
   ]
  },
  {
   "cell_type": "code",
   "execution_count": null,
   "metadata": {},
   "outputs": [],
   "source": [
    "# fill this parameters to resolve time evolution of 1D diffusion\n",
    "\n",
    "params_for_diff = \"\"\"\n",
    "C: \n",
    "Nx: \n",
    "Tmax: \n",
    "Toutput: \n",
    "V: 0\n",
    "dt: \n",
    "dx: \n",
    "scheme: eule\n",
    "\"\"\"\n",
    "params_diff = load_from_string(params_for_diff)\n",
    "display(params_diff)"
   ]
  },
  {
   "cell_type": "markdown",
   "metadata": {},
   "source": [
    "## Stability analysis"
   ]
  },
  {
   "cell_type": "markdown",
   "metadata": {},
   "source": [
    "Compute and plot outputs for the following conditions :"
   ]
  },
  {
   "cell_type": "markdown",
   "metadata": {},
   "source": [
    "### $C\\Delta t /\\Delta x^2 < 1/2$"
   ]
  },
  {
   "cell_type": "code",
   "execution_count": null,
   "metadata": {},
   "outputs": [],
   "source": []
  },
  {
   "cell_type": "code",
   "execution_count": null,
   "metadata": {},
   "outputs": [],
   "source": []
  },
  {
   "cell_type": "markdown",
   "metadata": {},
   "source": [
    "### $C\\Delta t /\\Delta x^2 = 1/2$"
   ]
  },
  {
   "cell_type": "code",
   "execution_count": null,
   "metadata": {},
   "outputs": [],
   "source": []
  },
  {
   "cell_type": "code",
   "execution_count": null,
   "metadata": {},
   "outputs": [],
   "source": []
  },
  {
   "cell_type": "markdown",
   "metadata": {},
   "source": [
    "### $C\\Delta t /\\Delta x^2 > 1/2$"
   ]
  },
  {
   "cell_type": "code",
   "execution_count": null,
   "metadata": {},
   "outputs": [],
   "source": []
  },
  {
   "cell_type": "code",
   "execution_count": null,
   "metadata": {},
   "outputs": [],
   "source": []
  },
  {
   "cell_type": "markdown",
   "metadata": {},
   "source": [
    "### $C\\Delta t /\\Delta x^2 = 1/2 - \\epsilon$"
   ]
  },
  {
   "cell_type": "code",
   "execution_count": null,
   "metadata": {},
   "outputs": [],
   "source": []
  },
  {
   "cell_type": "code",
   "execution_count": null,
   "metadata": {},
   "outputs": [],
   "source": []
  },
  {
   "cell_type": "markdown",
   "metadata": {},
   "source": [
    "### $C\\Delta t /\\Delta x^2 = 1/2 + \\epsilon$"
   ]
  },
  {
   "cell_type": "code",
   "execution_count": null,
   "metadata": {},
   "outputs": [],
   "source": []
  },
  {
   "cell_type": "markdown",
   "metadata": {},
   "source": [
    "<font size=4> Comparing previous results, is CFL condition confirmed numerically?</font>"
   ]
  },
  {
   "cell_type": "markdown",
   "metadata": {},
   "source": []
  },
  {
   "cell_type": "markdown",
   "metadata": {},
   "source": [
    "### compute growth rate of diffusion in the case where CFL < 1/2\n",
    "\n",
    "You can use the function extract_max to obtain usefull infos concerning maximal value of the profile at each output time step"
   ]
  },
  {
   "cell_type": "code",
   "execution_count": null,
   "metadata": {},
   "outputs": [],
   "source": []
  },
  {
   "cell_type": "markdown",
   "metadata": {},
   "source": [
    "<font size=4>\n",
    "    Analytic growth rate for diffusion is equal to  :\n",
    "<font>\n",
    "$$ u(x,0) = A \\sin \\left( k_x x\\right) \\Rightarrow \\gamma = -C k_x^2$$\n",
    "Are the numerical and analytical values comparable?"
   ]
  },
  {
   "cell_type": "markdown",
   "metadata": {},
   "source": []
  },
  {
   "cell_type": "markdown",
   "metadata": {},
   "source": [
    "## Runge-Kutta 4 scheme"
   ]
  },
  {
   "cell_type": "code",
   "execution_count": null,
   "metadata": {},
   "outputs": [],
   "source": [
    "params['scheme'] = 'RK4'\n",
    "params['V'] = 0"
   ]
  },
  {
   "cell_type": "markdown",
   "metadata": {},
   "source": [
    "<font size=4> \n",
    "    estimate stability limit using RK4 scheme\n",
    "</font>"
   ]
  },
  {
   "cell_type": "code",
   "execution_count": null,
   "metadata": {},
   "outputs": [],
   "source": []
  },
  {
   "cell_type": "code",
   "execution_count": null,
   "metadata": {},
   "outputs": [],
   "source": []
  },
  {
   "cell_type": "markdown",
   "metadata": {},
   "source": [
    "## Implicit Euler scheme"
   ]
  },
  {
   "cell_type": "code",
   "execution_count": null,
   "metadata": {},
   "outputs": [],
   "source": [
    "params['scheme'] = 'euli'\n",
    "params['V'] = 0"
   ]
  },
  {
   "cell_type": "markdown",
   "metadata": {},
   "source": [
    "Plot results for CFL = .1, .5, 1"
   ]
  },
  {
   "cell_type": "code",
   "execution_count": null,
   "metadata": {},
   "outputs": [],
   "source": []
  },
  {
   "cell_type": "code",
   "execution_count": null,
   "metadata": {},
   "outputs": [],
   "source": []
  },
  {
   "cell_type": "code",
   "execution_count": null,
   "metadata": {},
   "outputs": [],
   "source": []
  },
  {
   "cell_type": "markdown",
   "metadata": {},
   "source": [
    "Is implicit scheme always stable?"
   ]
  },
  {
   "cell_type": "code",
   "execution_count": null,
   "metadata": {},
   "outputs": [],
   "source": []
  },
  {
   "cell_type": "markdown",
   "metadata": {},
   "source": [
    "# Part 2 :  Advection"
   ]
  },
  {
   "cell_type": "code",
   "execution_count": null,
   "metadata": {},
   "outputs": [],
   "source": [
    "# fill this parameters to resolve time evolution of 1D diffusion\n",
    "\n",
    "params_for_diff = \"\"\"\n",
    "C: 0\n",
    "Nx: \n",
    "Tmax: \n",
    "Toutput: \n",
    "V: ??\n",
    "dt: \n",
    "dx: \n",
    "scheme: eule\n",
    "\"\"\"\n",
    "params_diff = load_from_string(params_for_diff)\n",
    "display(params_diff)"
   ]
  },
  {
   "cell_type": "markdown",
   "metadata": {},
   "source": [
    "kind of derivatives :"
   ]
  },
  {
   "cell_type": "markdown",
   "metadata": {},
   "source": []
  },
  {
   "cell_type": "markdown",
   "metadata": {},
   "source": [
    "definition of advection :"
   ]
  },
  {
   "cell_type": "markdown",
   "metadata": {},
   "source": []
  },
  {
   "cell_type": "markdown",
   "metadata": {},
   "source": [
    "simulation with $u(x,t=0) = sin$, modify the function initfield_1D"
   ]
  },
  {
   "cell_type": "code",
   "execution_count": null,
   "metadata": {},
   "outputs": [],
   "source": [
    "def initfield_1D(x: np.array):\n",
    "    \"\"\"\n",
    "    generate initial profile for advdiff simulations,\n",
    "    :param x: meshgrid for X values\n",
    "    :return: 1D field\n",
    "    \"\"\"\n",
    "    u0 = np.zeros(x.shape)\n",
    "    u0 = np.exp(-(x-.5*x.max())**2/10)\n",
    "\n",
    "    # exemple for gate\n",
    "#     u0[:] = 1\n",
    "#     u0[0:u0.shape[0]//4] = 0\n",
    "#     u0[3*u0.shape[0] // 4:] = 0\n",
    "    return u0"
   ]
  },
  {
   "cell_type": "code",
   "execution_count": null,
   "metadata": {},
   "outputs": [],
   "source": []
  },
  {
   "cell_type": "code",
   "execution_count": null,
   "metadata": {},
   "outputs": [],
   "source": []
  },
  {
   "cell_type": "markdown",
   "metadata": {},
   "source": [
    "simulation with $u(x,t=0) = gate$, modify the function initfield_1D"
   ]
  },
  {
   "cell_type": "code",
   "execution_count": null,
   "metadata": {},
   "outputs": [],
   "source": [
    "def initfield_1D(x: np.array):\n",
    "    \"\"\"\n",
    "    generate initial profile for advdiff simulations,\n",
    "    :param x: meshgrid for X values\n",
    "    :return: 1D field\n",
    "    \"\"\"\n",
    "    u0 = np.zeros(x.shape)\n",
    "    u0 = np.exp(-(x-.5*x.max())**2/10)\n",
    "\n",
    "    # exemple for gate\n",
    "#     u0[:] = 1\n",
    "#     u0[0:u0.shape[0]//4] = 0\n",
    "#     u0[3*u0.shape[0] // 4:] = 0\n",
    "    return u0"
   ]
  },
  {
   "cell_type": "code",
   "execution_count": null,
   "metadata": {},
   "outputs": [],
   "source": []
  },
  {
   "cell_type": "code",
   "execution_count": null,
   "metadata": {},
   "outputs": [],
   "source": []
  },
  {
   "cell_type": "markdown",
   "metadata": {},
   "source": [
    "Comments : "
   ]
  },
  {
   "cell_type": "markdown",
   "metadata": {},
   "source": []
  },
  {
   "cell_type": "markdown",
   "metadata": {},
   "source": [
    "estimation of diffusion rate"
   ]
  },
  {
   "cell_type": "code",
   "execution_count": null,
   "metadata": {},
   "outputs": [],
   "source": []
  },
  {
   "cell_type": "code",
   "execution_count": null,
   "metadata": {},
   "outputs": [],
   "source": []
  },
  {
   "cell_type": "markdown",
   "metadata": {},
   "source": [
    "$V\\Delta t/ \\Delta x <1$"
   ]
  },
  {
   "cell_type": "code",
   "execution_count": null,
   "metadata": {},
   "outputs": [],
   "source": []
  },
  {
   "cell_type": "markdown",
   "metadata": {},
   "source": [
    "$V\\Delta t/ \\Delta x == 1$"
   ]
  },
  {
   "cell_type": "code",
   "execution_count": null,
   "metadata": {},
   "outputs": [],
   "source": []
  },
  {
   "cell_type": "markdown",
   "metadata": {},
   "source": [
    "$V\\Delta t/ \\Delta x >1$"
   ]
  },
  {
   "cell_type": "code",
   "execution_count": null,
   "metadata": {},
   "outputs": [],
   "source": []
  },
  {
   "cell_type": "markdown",
   "metadata": {},
   "source": [
    "$V\\Delta t/ \\Delta x =1-\\epsilon$"
   ]
  },
  {
   "cell_type": "code",
   "execution_count": null,
   "metadata": {},
   "outputs": [],
   "source": []
  },
  {
   "cell_type": "markdown",
   "metadata": {},
   "source": [
    "$V\\Delta t/ \\Delta x =1+\\epsilon$"
   ]
  },
  {
   "cell_type": "code",
   "execution_count": null,
   "metadata": {},
   "outputs": [],
   "source": []
  },
  {
   "cell_type": "markdown",
   "metadata": {},
   "source": [
    "estimation of stability limit using RK4 scheme"
   ]
  },
  {
   "cell_type": "code",
   "execution_count": null,
   "metadata": {},
   "outputs": [],
   "source": []
  },
  {
   "cell_type": "markdown",
   "metadata": {},
   "source": []
  },
  {
   "cell_type": "markdown",
   "metadata": {},
   "source": [
    "# Part 3 :  Advection+Diffusion"
   ]
  },
  {
   "cell_type": "markdown",
   "metadata": {},
   "source": [
    "Estimation of diffusion rate"
   ]
  },
  {
   "cell_type": "code",
   "execution_count": null,
   "metadata": {},
   "outputs": [],
   "source": []
  },
  {
   "cell_type": "code",
   "execution_count": null,
   "metadata": {},
   "outputs": [],
   "source": []
  },
  {
   "cell_type": "code",
   "execution_count": null,
   "metadata": {},
   "outputs": [],
   "source": []
  },
  {
   "cell_type": "markdown",
   "metadata": {},
   "source": [
    "Estimation of diffusion rate with centered differences for convection"
   ]
  },
  {
   "cell_type": "code",
   "execution_count": null,
   "metadata": {},
   "outputs": [],
   "source": []
  },
  {
   "cell_type": "code",
   "execution_count": null,
   "metadata": {},
   "outputs": [],
   "source": []
  }
 ],
 "metadata": {
  "kernelspec": {
   "display_name": "Python 3",
   "language": "python",
   "name": "python3"
  },
  "language_info": {
   "codemirror_mode": {
    "name": "ipython",
    "version": 3
   },
   "file_extension": ".py",
   "mimetype": "text/x-python",
   "name": "python",
   "nbconvert_exporter": "python",
   "pygments_lexer": "ipython3",
   "version": "3.7.4"
  }
 },
 "nbformat": 4,
 "nbformat_minor": 4
}
