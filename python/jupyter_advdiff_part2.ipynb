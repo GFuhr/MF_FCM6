{
 "cells": [
  {
   "cell_type": "markdown",
   "metadata": {},
   "source": [
    "# Student name and e-mail"
   ]
  },
  {
   "cell_type": "markdown",
   "metadata": {},
   "source": [
    "name : \n",
    "\n",
    "e-mail : "
   ]
  },
  {
   "cell_type": "code",
   "execution_count": null,
   "metadata": {},
   "outputs": [],
   "source": [
    "USE_GOOGLE_COLAB = False\n",
    "MY_GOOGLE_DRIVE_PATH = 'TP_Modeling' # where files will be stored"
   ]
  },
  {
   "cell_type": "code",
   "execution_count": null,
   "metadata": {},
   "outputs": [],
   "source": [
    "if USE_GOOGLE_COLAB:\n",
    "  from google.colab import drive\n",
    "  from os.path import join \n",
    "  import os\n",
    "  ROOT = \"/content/drive/\"     # default location for the drive\n",
    "\n",
    "  PROJECT_PATH = join(ROOT, 'MyDrive', MY_GOOGLE_DRIVE_PATH)\n",
    "  BASE_PATH = join(ROOT, 'MyDrive')\n",
    "  \n",
    "  drive.mount(ROOT, force_remount=False)           # we mount the google drive at /content/drive\n",
    "\n",
    "  os.chdir(BASE_PATH)\n",
    "\n",
    "  try:\n",
    "    os.mkdir(PROJECT_PATH)\n",
    "  except FileExistsError:\n",
    "    pass\n",
    "  os.chdir(PROJECT_PATH)\n",
    "\n",
    "  ! git clone https://github.com/GFuhr/MF_FCM6.git\n",
    "  \n",
    "  os.chdir('./MF_FCM6/')\n",
    "  ! git pull origin master\n",
    "  os.chdir('./python')\n",
    "\n",
    "  print('current folder')\n",
    "  print(os.getcwd())"
   ]
  },
  {
   "cell_type": "markdown",
   "metadata": {},
   "source": [
    "# python modules"
   ]
  },
  {
   "cell_type": "code",
   "execution_count": null,
   "metadata": {},
   "outputs": [],
   "source": [
    "%load_ext cython"
   ]
  },
  {
   "cell_type": "code",
   "execution_count": null,
   "metadata": {},
   "outputs": [],
   "source": [
    "\n",
    "from IPython.display import HTML\n",
    "import matplotlib.pyplot as plt\n",
    "from matplotlib import animation\n",
    "\n",
    "import os\n",
    "import cython\n",
    "import datetime\n",
    "import numpy as np\n",
    "try:\n",
    "    import yaml\n",
    "    HAS_YAML=True\n",
    "    display('Good News, YAML format accepted')\n",
    "except ImportError:\n",
    "    import json as js\n",
    "    HAS_YAML=False\n",
    "    display('only json accepted')\n",
    "\n",
    "%matplotlib inline\n"
   ]
  },
  {
   "cell_type": "markdown",
   "metadata": {},
   "source": [
    "# function used to generate animations and compute computation time"
   ]
  },
  {
   "cell_type": "markdown",
   "metadata": {},
   "source": [
    "# Simulation kernel\n",
    "Section where the main simulation code is compiled and loaded. A *run* folder will be created and used to store all the simulations output"
   ]
  },
  {
   "cell_type": "code",
   "execution_count": null,
   "metadata": {
    "tags": []
   },
   "outputs": [],
   "source": [
    "os.getcwd()\n",
    "folder = os.path.split(os.getcwd())\n",
    "if ('h2d' in folder) or ('advdiff' in folder):\n",
    "    try:\n",
    "        os.mkdir('../run')\n",
    "    except FileExistsError:\n",
    "        pass\n",
    "    os.chdir('../run')\n",
    "elif ('run' in folder):\n",
    "    pass\n",
    "elif ('python' in folder):\n",
    "    try:\n",
    "        os.mkdir('./run')\n",
    "    except FileExistsError:\n",
    "        pass\n",
    "    os.chdir('./run')\n",
    "    \n",
    "display(HTML('<font size=4> data saved in the ./run subfolder </font>'))"
   ]
  },
  {
   "cell_type": "code",
   "execution_count": null,
   "metadata": {
    "tags": []
   },
   "outputs": [],
   "source": [
    "%%cython\n",
    "import numpy as np\n",
    "import pyximport\n",
    "\n",
    "pyximport.install(reload_support=True, setup_args = {'include_dirs': np.get_include()})"
   ]
  },
  {
   "cell_type": "code",
   "execution_count": null,
   "metadata": {
    "tags": []
   },
   "outputs": [],
   "source": [
    "import importlib\n",
    "os.chdir('../advdiff')\n",
    "try: \n",
    "    importlib.reload(advdiff); import advdiff\n",
    "except NameError:\n",
    "    import advdiff\n",
    "os.chdir('../run')\n",
    "\n",
    "display(HTML('AdvDiff imported in current notebook'))"
   ]
  },
  {
   "cell_type": "markdown",
   "metadata": {},
   "source": [
    "# Additional functions\n",
    "\n",
    "<font size=3>\n",
    "    Functions defined here have been made to simplify representation of outputs. These functions are not part of the labs and can be used directly\n",
    "</font>"
   ]
  },
  {
   "cell_type": "code",
   "execution_count": null,
   "metadata": {},
   "outputs": [],
   "source": [
    "from utils.timer import Timer\n",
    "from utils.plotting import plot_results, plot_profile, figformat"
   ]
  },
  {
   "cell_type": "code",
   "execution_count": null,
   "metadata": {},
   "outputs": [],
   "source": [
    "from utils.file import save_outputs\n",
    "\n",
    "def save_with_params(output, params):\n",
    "    prefix = ''\n",
    "    if params.get('C', None) is not None:\n",
    "        prefix = 'diff_'\n",
    "    if params.get('V', None) is not None:\n",
    "        prefix += 'adv_'\n",
    "    prefix += '{0:03d}_'.format(params['Nx'])\n",
    "    save_outputs(output, prefix=prefix)"
   ]
  },
  {
   "cell_type": "code",
   "execution_count": null,
   "metadata": {},
   "outputs": [],
   "source": [
    "def load_from_string(params_str:str):\n",
    "    \"\"\"\n",
    "    function used to load parameters from a string and load it into a dict used by simulations\n",
    "    return : dict or ValueError if scheme is not correct\n",
    "    \"\"\"\n",
    "    if not HAS_YAML:\n",
    "        data = js.loads(params_str)\n",
    "    else:\n",
    "        data = yaml.safe_load (params_str)\n",
    "    data['V'] = np.double(data['V'])\n",
    "    try:\n",
    "        data['Nx'] = int(data['Nx'])\n",
    "    except TypeError:\n",
    "        raise ValueError('Nx Value missing or not written as a number')\n",
    "    try:\n",
    "        data['Ny'] = int(data['Ny'])\n",
    "    except TypeError:\n",
    "        raise ValueError('Ny Value missing or not written as a number')\n",
    "    except KeyError:\n",
    "        print('Ny key not found')\n",
    "    data['scheme'] = data['scheme'].lower().strip()\n",
    "    if data['scheme'] not in ('eule', 'euli', 'rk2', 'rk4', 'cn'):\n",
    "        raise ValueError('unknown time scheme')\n",
    "    return data"
   ]
  },
  {
   "cell_type": "code",
   "execution_count": null,
   "metadata": {},
   "outputs": [],
   "source": [
    "# function extracting the max value and his position for each serie of a list of profiles\n",
    "def extract_max(Frames):\n",
    "    list_max = np.zeros(shape=(2, len(Frames)))\n",
    "    idx = 0\n",
    "    for frame in Frames:\n",
    "        list_max[:,idx] = (frame.argmax(), frame.max())\n",
    "        idx += 1\n",
    "    return np.asarray(list_max)"
   ]
  },
  {
   "cell_type": "code",
   "execution_count": null,
   "metadata": {
    "tags": []
   },
   "outputs": [],
   "source": [
    "# compute Fourier transform for a given field\n",
    "def fourier_transform(field:(list, np.array), dx:float)->(list,np.array):\n",
    "    if isinstance(field, list):\n",
    "        ffield = [np.fft.rfft(f[1:-1]) for f in field]\n",
    "        kx = 2*np.pi/(dx*(field[0].shape[0]-2))\n",
    "        kfield = kx*np.arange(ffield[0].shape[0])\n",
    "    else:\n",
    "        ffield = np.fft.rfft(field[1:-1])\n",
    "        kx = 2*np.pi/(dx*(field.shape[0]-2))\n",
    "        kfield = kx*np.arange(ffield.shape[0])\n",
    "    return ffield, kfield\n",
    "                          "
   ]
  },
  {
   "cell_type": "markdown",
   "metadata": {},
   "source": [
    "# Definition of Finite difference functions used to resolve convection-diffusion equation"
   ]
  },
  {
   "cell_type": "markdown",
   "metadata": {},
   "source": [
    "## function used for initial condition\n",
    "If/When you modify this function, don't forget to execute again the cell (press shift+enter for that)"
   ]
  },
  {
   "cell_type": "code",
   "execution_count": null,
   "metadata": {},
   "outputs": [],
   "source": [
    "def initfield_1D(x: np.array):\n",
    "    \"\"\"\n",
    "    generate initial profile for advdiff simulations,\n",
    "    :param x: meshgrid for X values\n",
    "    :return: 1D field\n",
    "    \"\"\"\n",
    "    u0 = np.zeros(x.shape)\n",
    "    u0 = np.exp(-(x-.5*x.max())**2/10)\n",
    "\n",
    "    # exemple for gate\n",
    "#     u0[:] = 1\n",
    "#     u0[0:u0.shape[0]//4] = 0\n",
    "#     u0[3*u0.shape[0] // 4:] = 0\n",
    "    return u0"
   ]
  },
  {
   "cell_type": "markdown",
   "metadata": {},
   "source": [
    "## definition of simulation's parameters"
   ]
  },
  {
   "cell_type": "code",
   "execution_count": null,
   "metadata": {},
   "outputs": [],
   "source": [
    "\n",
    "# list of parameters used in both advdiff et H2D.\n",
    "# Remark : the # starting line indicates a comment and is not necessary\n",
    "\n",
    "# definition of parameter input to be used\n",
    "\"\"\"\n",
    "# time step\n",
    "dt: .000001\n",
    "\n",
    "# x step\n",
    "dx:  .015\n",
    "\n",
    "# y step (used only for H2D simulations)\n",
    "dy: .01\n",
    "\n",
    "# Points in X direction\n",
    "Nx:  128\n",
    "\n",
    "# Points in Y direction\n",
    "Ny: 128\n",
    "\n",
    "# modes in Y direction\n",
    "Nm:  32\n",
    "\n",
    "# wave number in Y direction\n",
    "ky: .1\n",
    "\n",
    "# end time\n",
    "Tmax: .00001\n",
    "\n",
    "# output time\n",
    "Toutput: .000001\n",
    "\n",
    "# diffusion coefficient\n",
    "C:  .02\n",
    "\n",
    "# advection coefficient\n",
    "V:  -.2\n",
    "\n",
    "# time scheme\n",
    "# can be\n",
    "# eule for euler explicit (default)\n",
    "# euli for euler implicit\n",
    "# RK2 for Runge-Kutta 2\n",
    "# RK4 for Runge-Kutta 4\n",
    "# CN for Cranck-Nicholson\n",
    "scheme: eule\n",
    "\n",
    "\n",
    "\n",
    "# first order derivatives\n",
    "# fwd for forward [default] (u[i+1]-u[i])/dx\n",
    "# bwd for backward (u[i]-u[i-1])/dx\n",
    "# cent for centered (u[i+1]-u[i-1])/(2dx)\n",
    "derivative = \"fwd\"\n",
    "\n",
    "# boundary condition\n",
    "# dir for Dirichlet u[0] = 0\n",
    "# neu for Von Neumann du/dx[0] = 0\n",
    "# per for periodic u[0] = u[Lx]\n",
    "boundaries = \"dir\"\n",
    "\n",
    "\"\"\"\n",
    ";"
   ]
  },
  {
   "cell_type": "markdown",
   "metadata": {},
   "source": [
    "# Section 0 : Introduction"
   ]
  },
  {
   "cell_type": "markdown",
   "metadata": {
    "slideshow": {
     "slide_type": "notes"
    }
   },
   "source": [
    "Solve convection-diffusion equation : \n",
    "$$\\Large \\frac{\\partial u(x,t)}{\\partial t}+V\\frac{\\partial u(x,t)}{\\partial x} = C\\frac{\\partial^2 u(x,t)}{\\partial x^2}$$\n",
    "$$\\Large u(x, t=0) = u_0(x) $$\n",
    "$$\\Large u(0, t) = u(L_x, t) $$"
   ]
  },
  {
   "cell_type": "markdown",
   "metadata": {},
   "source": [
    "<font size=4>\n",
    "<p>First, we define parameters in a string which will then be used for the simulation. All the parameters are described in the upper cell.\n",
    "This variable is converted to an usable dict through the function load_from_string.\n",
    "    </p>\n",
    "</font>"
   ]
  },
  {
   "cell_type": "code",
   "execution_count": null,
   "metadata": {},
   "outputs": [],
   "source": [
    "params_ex_diff_str = \"\"\"\n",
    "C: 0.1\n",
    "Nx: 1024\n",
    "Tmax: 500\n",
    "Toutput: 100 \n",
    "V: -0.2\n",
    "dt: 0.12\n",
    "dx: 0.1\n",
    "scheme: rk4\n",
    "boundaries: per\n",
    "derivative: bwd\n",
    "\"\"\"\n",
    "params_ex_diff = load_from_string(params_ex_diff_str)\n",
    "display(params_ex_diff)"
   ]
  },
  {
   "cell_type": "markdown",
   "metadata": {},
   "source": [
    "<font size=4> \n",
    "    To run a new simulation you just need to use the function simulate with the parameters written previously as argument\n",
    "</font>"
   ]
  },
  {
   "cell_type": "code",
   "execution_count": null,
   "metadata": {
    "tags": []
   },
   "outputs": [],
   "source": [
    "time_output, output_ex_diff, time_exec = advdiff.simulate_1d(**params_ex_diff, verbose=False, init=initfield_1D)"
   ]
  },
  {
   "cell_type": "code",
   "execution_count": null,
   "metadata": {
    "tags": []
   },
   "outputs": [],
   "source": [
    "ffield, kx=fourier_transform(output_ex_diff , params_ex_diff['dx'])"
   ]
  },
  {
   "cell_type": "code",
   "execution_count": null,
   "metadata": {
    "tags": []
   },
   "outputs": [],
   "source": [
    "for f in ffield:\n",
    "    plt.semilogy(kx, np.abs(f), '+')"
   ]
  },
  {
   "cell_type": "code",
   "execution_count": null,
   "metadata": {},
   "outputs": [],
   "source": []
  }
 ],
 "metadata": {
  "kernelspec": {
   "display_name": "Python 3 (ipykernel)",
   "language": "python",
   "name": "python3"
  },
  "language_info": {
   "codemirror_mode": {
    "name": "ipython",
    "version": 3
   },
   "file_extension": ".py",
   "mimetype": "text/x-python",
   "name": "python",
   "nbconvert_exporter": "python",
   "pygments_lexer": "ipython3",
   "version": "3.10.8"
  }
 },
 "nbformat": 4,
 "nbformat_minor": 4
}
