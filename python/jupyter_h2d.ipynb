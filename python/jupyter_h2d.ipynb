{
 "cells": [
  {
   "cell_type": "markdown",
   "metadata": {},
   "source": [
    "# Student name and e-mail"
   ]
  },
  {
   "cell_type": "markdown",
   "metadata": {},
   "source": [
    "name : \n",
    "\n",
    "e-mail : "
   ]
  },
  {
   "cell_type": "code",
   "execution_count": 1,
   "metadata": {
    "tags": []
   },
   "outputs": [],
   "source": [
    "USE_GOOGLE_COLAB = False\n",
    "MY_GOOGLE_DRIVE_PATH = 'TP_Modeling' # where files will be stored"
   ]
  },
  {
   "cell_type": "code",
   "execution_count": 2,
   "metadata": {
    "tags": []
   },
   "outputs": [],
   "source": [
    "if USE_GOOGLE_COLAB:\n",
    "  from google.colab import drive\n",
    "  from os.path import join \n",
    "  import os\n",
    "  ROOT = \"/content/drive/\"     # default location for the drive\n",
    "\n",
    "  PROJECT_PATH = join(ROOT, 'MyDrive', MY_GOOGLE_DRIVE_PATH)\n",
    "  BASE_PATH = join(ROOT, 'MyDrive')\n",
    "  \n",
    "  drive.mount(ROOT, force_remount=False)           # we mount the google drive at /content/drive\n",
    "\n",
    "  os.chdir(BASE_PATH)\n",
    "\n",
    "  try:\n",
    "    os.mkdir(PROJECT_PATH)\n",
    "  except FileExistsError:\n",
    "    pass\n",
    "  os.chdir(PROJECT_PATH)\n",
    "\n",
    "  ! git clone https://github.com/GFuhr/MF_FCM6.git\n",
    "  \n",
    "  os.chdir('./MF_FCM6/')\n",
    "  ! git pull origin master\n",
    "  os.chdir('./python')\n",
    "\n",
    "  print('current folder')\n",
    "  print(os.getcwd())"
   ]
  },
  {
   "cell_type": "markdown",
   "metadata": {},
   "source": [
    "# python modules"
   ]
  },
  {
   "cell_type": "code",
   "execution_count": 3,
   "metadata": {
    "tags": []
   },
   "outputs": [],
   "source": [
    "%load_ext cython"
   ]
  },
  {
   "cell_type": "code",
   "execution_count": 4,
   "metadata": {},
   "outputs": [
    {
     "data": {
      "text/plain": [
       "'Good News, YAML format accepted'"
      ]
     },
     "metadata": {},
     "output_type": "display_data"
    }
   ],
   "source": [
    "import matplotlib\n",
    "# matplotlib.use('Qt5Agg')\n",
    "from IPython.display import HTML\n",
    "import matplotlib.pyplot as plt\n",
    "from matplotlib import animation\n",
    "\n",
    "import cython\n",
    "import datetime\n",
    "import numpy as np\n",
    "import os\n",
    "try:\n",
    "    import yaml\n",
    "    HAS_YAML=True\n",
    "    display('Good News, YAML format accepted')\n",
    "except ImportError:\n",
    "    import json as js\n",
    "    HAS_YAML=False\n",
    "    display('only json accepted')\n",
    "\n",
    "%matplotlib inline"
   ]
  },
  {
   "cell_type": "markdown",
   "metadata": {},
   "source": [
    "function used to generate animations and compute computation time"
   ]
  },
  {
   "cell_type": "markdown",
   "metadata": {},
   "source": [
    "# Additional functions\n",
    "\n",
    "<font size=3>\n",
    "    Functions defined here have been made to simplify representation of outputs. These functions are not part of the labs and can be used directly\n",
    "</font>"
   ]
  },
  {
   "cell_type": "code",
   "execution_count": 5,
   "metadata": {},
   "outputs": [],
   "source": [
    "from utils.timer import Timer\n",
    "from utils.plotting import plot_results, plot_profile, figformat, plot_2d_profile"
   ]
  },
  {
   "cell_type": "code",
   "execution_count": 6,
   "metadata": {},
   "outputs": [],
   "source": [
    "from utils.file import save_outputs\n",
    "\n",
    "def save_with_params(output, params):\n",
    "    prefix = ''\n",
    "    if params.get('C', None) is not None:\n",
    "        prefix = 'diff_'\n",
    "    if params.get('V', None) is not None:\n",
    "        prefix += 'adv_'\n",
    "    prefix += '{0:03d}_'.format(params['Nx'])\n",
    "    save_outputs(output, prefix=prefix)"
   ]
  },
  {
   "cell_type": "code",
   "execution_count": 7,
   "metadata": {},
   "outputs": [],
   "source": [
    "def load_from_string(params_str:str):\n",
    "    \"\"\"\n",
    "    function used to load parameters from a string and load it into a dict used by simulations\n",
    "    return : dict or ValueError if scheme is not correct\n",
    "    \"\"\"\n",
    "    if not HAS_YAML:\n",
    "        data = js.loads(params_str)\n",
    "    else:\n",
    "        data = yaml.safe_load (params_str)\n",
    "    data['V'] = float(data['V'])\n",
    "    try:\n",
    "        data['Nx'] = int(data['Nx'])\n",
    "    except TypeError:\n",
    "        raise ValueError('Nx Value missing or not written as a number')\n",
    "    try:\n",
    "        data['Ny'] = int(data['Ny'])\n",
    "    except TypeError:\n",
    "        raise ValueError('Ny Value missing or not written as a number')\n",
    "    except KeyError:\n",
    "        print('Ny key not found')\n",
    "    data['scheme'] = data['scheme'].lower().strip()\n",
    "    if data['scheme'] not in ('eule', 'euli', 'rk2', 'rk4', 'cn'):\n",
    "        raise ValueError('unknown time scheme')\n",
    "    return data"
   ]
  },
  {
   "cell_type": "markdown",
   "metadata": {},
   "source": [
    "# Finite difference solver imported from the h2d directory"
   ]
  },
  {
   "cell_type": "code",
   "execution_count": 8,
   "metadata": {},
   "outputs": [
    {
     "data": {
      "text/html": [
       "<font size=4> data saved in the ./run subfolder </font>"
      ],
      "text/plain": [
       "<IPython.core.display.HTML object>"
      ]
     },
     "metadata": {},
     "output_type": "display_data"
    }
   ],
   "source": [
    "os.getcwd()\n",
    "folder = os.path.split(os.getcwd())\n",
    "if ('h2d' in folder) or ('advdiff' in folder):\n",
    "    try:\n",
    "        os.mkdir('../run')\n",
    "    except FileExistsError:\n",
    "        pass\n",
    "    os.chdir('../run')\n",
    "elif ('run' in folder):\n",
    "    pass\n",
    "elif ('python' in folder):\n",
    "    try:\n",
    "        os.mkdir('./run')\n",
    "    except FileExistsError:\n",
    "        pass\n",
    "    os.chdir('./run')\n",
    "    \n",
    "display(HTML('<font size=4> data saved in the ./run subfolder </font>'))"
   ]
  },
  {
   "cell_type": "code",
   "execution_count": 9,
   "metadata": {},
   "outputs": [],
   "source": [
    "%%cython\n",
    "import numpy as np\n",
    "import pyximport\n",
    "import setuptools\n",
    "\n",
    "pyximport.install(reload_support=True, setup_args = {'include_dirs': np.get_include()})"
   ]
  },
  {
   "cell_type": "code",
   "execution_count": 10,
   "metadata": {},
   "outputs": [
    {
     "name": "stderr",
     "output_type": "stream",
     "text": [
      "In file included from /home/guillaume/miniconda/lib/python3.10/site-packages/numpy/core/include/numpy/ndarraytypes.h:1940,\n",
      "                 from /home/guillaume/miniconda/lib/python3.10/site-packages/numpy/core/include/numpy/ndarrayobject.h:12,\n",
      "                 from /home/guillaume/miniconda/lib/python3.10/site-packages/numpy/core/include/numpy/arrayobject.h:5,\n",
      "                 from /home/guillaume/.pyxbld/temp.linux-x86_64-cpython-310/pyrex/operators_2d.c:746:\n",
      "/home/guillaume/miniconda/lib/python3.10/site-packages/numpy/core/include/numpy/npy_1_7_deprecated_api.h:17:2: warning: #warning \"Using deprecated NumPy API, disable it with \" \"#define NPY_NO_DEPRECATED_API NPY_1_7_API_VERSION\" [-Wcpp]\n",
      "   17 | #warning \"Using deprecated NumPy API, disable it with \" \\\n",
      "      |  ^~~~~~~\n",
      "/home/guillaume/miniconda/lib/python3.10/site-packages/Cython/Compiler/Main.py:369: FutureWarning: Cython directive 'language_level' not set, using 2 for now (Py2). This will change in a later release! File: /mnt/d/amubox/git_repos_codes/M2_FCM6/python/h2d/matrix2D.pyx\n",
      "  tree = Parsing.p_module(s, pxd, full_module_name)\n",
      "In file included from /home/guillaume/miniconda/lib/python3.10/site-packages/numpy/core/include/numpy/ndarraytypes.h:1940,\n",
      "                 from /home/guillaume/miniconda/lib/python3.10/site-packages/numpy/core/include/numpy/ndarrayobject.h:12,\n",
      "                 from /home/guillaume/miniconda/lib/python3.10/site-packages/numpy/core/include/numpy/arrayobject.h:5,\n",
      "                 from /home/guillaume/.pyxbld/temp.linux-x86_64-cpython-310/pyrex/matrix2D.c:746:\n",
      "/home/guillaume/miniconda/lib/python3.10/site-packages/numpy/core/include/numpy/npy_1_7_deprecated_api.h:17:2: warning: #warning \"Using deprecated NumPy API, disable it with \" \"#define NPY_NO_DEPRECATED_API NPY_1_7_API_VERSION\" [-Wcpp]\n",
      "   17 | #warning \"Using deprecated NumPy API, disable it with \" \\\n",
      "      |  ^~~~~~~\n",
      "In file included from /home/guillaume/miniconda/lib/python3.10/site-packages/numpy/core/include/numpy/ndarraytypes.h:1940,\n",
      "                 from /home/guillaume/miniconda/lib/python3.10/site-packages/numpy/core/include/numpy/ndarrayobject.h:12,\n",
      "                 from /home/guillaume/miniconda/lib/python3.10/site-packages/numpy/core/include/numpy/arrayobject.h:5,\n",
      "                 from /home/guillaume/.pyxbld/temp.linux-x86_64-cpython-310/pyrex/operators_2d_spectral.c:746:\n",
      "/home/guillaume/miniconda/lib/python3.10/site-packages/numpy/core/include/numpy/npy_1_7_deprecated_api.h:17:2: warning: #warning \"Using deprecated NumPy API, disable it with \" \"#define NPY_NO_DEPRECATED_API NPY_1_7_API_VERSION\" [-Wcpp]\n",
      "   17 | #warning \"Using deprecated NumPy API, disable it with \" \\\n",
      "      |  ^~~~~~~\n"
     ]
    },
    {
     "data": {
      "text/html": [
       "H2D imported in current notebook"
      ],
      "text/plain": [
       "<IPython.core.display.HTML object>"
      ]
     },
     "metadata": {},
     "output_type": "display_data"
    }
   ],
   "source": [
    "import importlib\n",
    "os.chdir('../h2d')\n",
    "try: \n",
    "    importlib.reload(h2d); import h2d\n",
    "    importlib.reload(h2d_spectral); import h2d_spectral \n",
    "except NameError:\n",
    "    import h2d\n",
    "    import h2d_spectral \n",
    "os.chdir('../run')\n",
    "\n",
    "display(HTML('H2D imported in current notebook'))"
   ]
  },
  {
   "cell_type": "markdown",
   "metadata": {},
   "source": [
    "## definition of simulation's parameters"
   ]
  },
  {
   "cell_type": "code",
   "execution_count": 11,
   "metadata": {},
   "outputs": [
    {
     "data": {
      "text/plain": [
       "''"
      ]
     },
     "execution_count": 11,
     "metadata": {},
     "output_type": "execute_result"
    }
   ],
   "source": [
    "\n",
    "# list of parameters used in both advdiff et H2D.\n",
    "# Remark : the # starting line indicates a comment and is not necessary\n",
    "\n",
    "# definition of parameter input to be used\n",
    "\"\"\"\n",
    "# time step\n",
    "dt: .000001\n",
    "\n",
    "# x step\n",
    "dx:  .015\n",
    "\n",
    "# y step (used only for H2D simulations)\n",
    "dy: .01\n",
    "\n",
    "# Points in X direction\n",
    "Nx:  128\n",
    "\n",
    "# Points in Y direction\n",
    "Ny: 128\n",
    "\n",
    "# modes in Y direction\n",
    "Nm:  32\n",
    "\n",
    "# wave number in Y direction\n",
    "ky: .1\n",
    "\n",
    "# end time\n",
    "Tmax: .00001\n",
    "\n",
    "# output time\n",
    "Toutput: .000001\n",
    "\n",
    "# diffusion coefficient\n",
    "C:  .02\n",
    "\n",
    "# advection coefficient\n",
    "V:  -.2\n",
    "\n",
    "# time scheme\n",
    "# can be\n",
    "# eule for euler explicit (default)\n",
    "# euli for euler implicit\n",
    "# RK2 for Runge-Kutta 2\n",
    "# RK4 for Runge-Kutta 4\n",
    "# CN for Cranck-Nicholson\n",
    "scheme: eule\n",
    "\"\"\"\n",
    ";"
   ]
  },
  {
   "cell_type": "markdown",
   "metadata": {},
   "source": [
    "# Section 0 : Introduction"
   ]
  },
  {
   "cell_type": "markdown",
   "metadata": {
    "slideshow": {
     "slide_type": "notes"
    }
   },
   "source": [
    "Solve diffusion equation : \n",
    "$$\\Large \\frac{\\partial u(x,y,t)}{\\partial t}  = C\\frac{\\partial^2 u(x,y,t)}{\\partial x^2}+C\\frac{\\partial^2 u(x,y,t)}{\\partial y^2}$$\n",
    "$$\\Large u(x,y, t=0) = u_0(x,y) $$\n",
    "$$\\Large u(0,y, t) = u(L_x,y, t)=0 $$\n",
    "$$\\Large u(x,0, t) = u(x, L_y, t) $$"
   ]
  },
  {
   "cell_type": "markdown",
   "metadata": {},
   "source": [
    "<font size=4>\n",
    "<p>First, we define parameters in a string which will then be used for the simulation. All the parameters are described in the upper cell.\n",
    "This variable is converted to an usable dict through the function load_from_string.\n",
    "    </p>\n",
    "</font>"
   ]
  },
  {
   "cell_type": "code",
   "execution_count": 12,
   "metadata": {},
   "outputs": [
    {
     "data": {
      "text/plain": [
       "{'C': 0.04,\n",
       " 'Nx': 16,\n",
       " 'Ny': 16,\n",
       " 'Tmax': 1e-06,\n",
       " 'Toutput': 1e-07,\n",
       " 'V': 0.0,\n",
       " 'dt': 1e-09,\n",
       " 'dx': 0.1,\n",
       " 'dy': 0.1,\n",
       " 'scheme': 'eule'}"
      ]
     },
     "metadata": {},
     "output_type": "display_data"
    }
   ],
   "source": [
    "params_ex_diff_str = \"\"\"{\n",
    "\"C\": 0.04,\n",
    "\"Nx\": 16,\n",
    "\"Ny\": 16,\n",
    "\"Tmax\": .000001,\n",
    "\"Toutput\": .0000001, \n",
    "\"V\": 0,\n",
    "\"dt\": 0.000000001,\n",
    "\"dx\": 0.1,\n",
    "\"dy\": 0.1,\n",
    "\"scheme\": \"eule\"\n",
    "}\n",
    "\"\"\"\n",
    "params_ex_diff = load_from_string(params_ex_diff_str)\n",
    "display(params_ex_diff)"
   ]
  },
  {
   "cell_type": "markdown",
   "metadata": {},
   "source": [
    "<font size=4>\n",
    "    If YAML format is accepted, parameters can be written following this format. If YAML is not recognized, you will have an error message.\n",
    "</font>"
   ]
  },
  {
   "cell_type": "code",
   "execution_count": 13,
   "metadata": {},
   "outputs": [
    {
     "data": {
      "text/plain": [
       "{'C': 0.04,\n",
       " 'Nx': 16,\n",
       " 'Ny': 16,\n",
       " 'Tmax': 0.0001,\n",
       " 'Toutput': 1e-05,\n",
       " 'V': 0.0,\n",
       " 'dt': 1e-09,\n",
       " 'dx': 0.1,\n",
       " 'dy': 0.1,\n",
       " 'scheme': 'eule',\n",
       " 'boundary': 'default'}"
      ]
     },
     "metadata": {},
     "output_type": "display_data"
    }
   ],
   "source": [
    "params_ex_diff_str = \"\"\"\n",
    "C: 0.04\n",
    "Nx: 16\n",
    "Ny: 16\n",
    "Tmax: .0001\n",
    "Toutput: .00001 \n",
    "V: 0\n",
    "dt: 0.000000001\n",
    "dx: 0.1\n",
    "dy: 0.1\n",
    "scheme: eule\n",
    "# boundary can be default to use default boundaries implemented\n",
    "# or null to use the function null_bc (as asked in section 3.1)\n",
    "boundary: default\n",
    "\"\"\"\n",
    "params_ex_diff = load_from_string(params_ex_diff_str)\n",
    "display(params_ex_diff)"
   ]
  },
  {
   "cell_type": "markdown",
   "metadata": {},
   "source": [
    "<font size=4> \n",
    "    To run a new simulation you just need to use the function simulate with the parameters written previously as argument\n",
    "</font>"
   ]
  },
  {
   "cell_type": "code",
   "execution_count": 14,
   "metadata": {},
   "outputs": [],
   "source": [
    "def initfield_2D(x: np.array, y: np.array):\n",
    "    \"\"\"\n",
    "    generate initial profile for H2D simulations,\n",
    "    :param x: meshgrid for X values\n",
    "    :param y: meshgrid for Y values\n",
    "    :return: 2D field\n",
    "    \"\"\"\n",
    "    u0 = x+y\n",
    "    return u0"
   ]
  },
  {
   "cell_type": "code",
   "execution_count": 18,
   "metadata": {},
   "outputs": [
    {
     "name": "stdout",
     "output_type": "stream",
     "text": [
      "number of frames 10\n",
      "loop time  in µs 63762\n",
      "used time for 1 time step in µs: 0.64\n",
      "Data saved to file : ./data_2D.npy\n"
     ]
    }
   ],
   "source": [
    "output_ex_diff = h2d.simulate(**params_ex_diff, init=initfield_2D, verbose=False)"
   ]
  },
  {
   "cell_type": "markdown",
   "metadata": {},
   "source": [
    "<font size=4> \n",
    "    To see the result as an animation you can use the function plot_results with the returned value from the function simulate as argument\n",
    "</font>"
   ]
  },
  {
   "cell_type": "code",
   "execution_count": null,
   "metadata": {},
   "outputs": [],
   "source": [
    "%matplotlib inline\n",
    "plot_results(output_ex_diff)"
   ]
  },
  {
   "cell_type": "markdown",
   "metadata": {},
   "source": [
    "<font size=4>\n",
    "    to plot last snapshot\n",
    "</font>"
   ]
  },
  {
   "cell_type": "code",
   "execution_count": null,
   "metadata": {},
   "outputs": [],
   "source": [
    "%matplotlib inline\n",
    "plot_2d_profile(output_ex_diff, -1)"
   ]
  },
  {
   "cell_type": "markdown",
   "metadata": {},
   "source": [
    "<font size=4>\n",
    "    to plot evolution of max(u(x,y,t)) in time\n",
    "</font>"
   ]
  },
  {
   "cell_type": "code",
   "execution_count": null,
   "metadata": {},
   "outputs": [],
   "source": [
    "from mpl_toolkits.mplot3d import Axes3D\n",
    "from utils.tools import extract_max\n",
    "figformat().apply()\n",
    "fig = plt.figure(figsize=(10,10))\n",
    "ax = fig.add_subplot(111, projection='3d')\n",
    "\n",
    "x = extract_max(output_ex_diff)[0]\n",
    "y = extract_max(output_ex_diff)[1]\n",
    "m = extract_max(output_ex_diff)[2]\n",
    "t = 1+np.arange(0, m.shape[0])\n",
    "ax.scatter(x,y,m, c=t, marker='o')\n",
    "# set log scale in y\n",
    "# ax.set_yscale('log')\n",
    "# set log scale in x\n",
    "# ax.set_xscale('log')\n",
    "\n",
    "plt.xlabel('x')\n",
    "plt.ylabel('y')\n",
    "\n",
    "plt.show()"
   ]
  },
  {
   "cell_type": "markdown",
   "metadata": {},
   "source": [
    "### Section 1 : diffusion in real space"
   ]
  },
  {
   "cell_type": "code",
   "execution_count": null,
   "metadata": {},
   "outputs": [],
   "source": [
    "# fill this parameters to resolve time evolution of 1D diffusion\n",
    "\n",
    "params_for_diff = \"\"\"\n",
    "C: \n",
    "Nx: \n",
    "Tmax: \n",
    "Toutput: \n",
    "V: 0\n",
    "dt: \n",
    "dx: \n",
    "scheme: eule\n",
    "\"\"\"\n",
    "params_diff = load_from_string(params_for_diff)\n",
    "display(params_diff)"
   ]
  },
  {
   "cell_type": "markdown",
   "metadata": {},
   "source": [
    "### Section 2 : diffusion using Fourier decomposition"
   ]
  },
  {
   "cell_type": "markdown",
   "metadata": {},
   "source": [
    "When using Fourier decomposition, this time the main module is not any more h2d but h2d_spectral.\n",
    "So to run a new simulation you have to use the function h2d.simulate.\n",
    "\n",
    "Please note that the initial condition must be written as the function in real and not Fourier space. Moreover, outputs/snapshots are by default transformed to real spaces expressions"
   ]
  },
  {
   "cell_type": "code",
   "execution_count": null,
   "metadata": {},
   "outputs": [],
   "source": []
  },
  {
   "cell_type": "code",
   "execution_count": null,
   "metadata": {},
   "outputs": [],
   "source": [
    "params_ex_diff_fourier_str = \"\"\"\n",
    "C: 0.04\n",
    "Nx: 16\n",
    "Ny: 16\n",
    "Nm: 4\n",
    "Tmax: .0001\n",
    "Toutput: .00001 \n",
    "V: 0\n",
    "dt: 0.000000001\n",
    "dx: 0.1\n",
    "ky: 0.1\n",
    "scheme: eule\n",
    "# boundary can be default to use default boundaries implemented\n",
    "# or null to use the function null_bc (as asked in section 3.1)\n",
    "boundary: default\n",
    "\"\"\"\n",
    "params_ex_diff_fourier = load_from_string(params_ex_diff_fourier_str)\n",
    "display(params_ex_diff_fourier)"
   ]
  },
  {
   "cell_type": "code",
   "execution_count": null,
   "metadata": {},
   "outputs": [],
   "source": [
    "output_ex_diff_fourier = h2d_spectral.simulate(**params_ex_diff, init=initfield_2D, verbose=False)"
   ]
  },
  {
   "cell_type": "code",
   "execution_count": null,
   "metadata": {},
   "outputs": [],
   "source": [
    "%matplotlib inline\n",
    "\n",
    "plot_results(output_ex_diff_fourier, -1)"
   ]
  },
  {
   "cell_type": "code",
   "execution_count": null,
   "metadata": {},
   "outputs": [],
   "source": [
    "%matplotlib inline\n",
    "\n",
    "plot_2d_profile(output_ex_diff_fourier, -1)"
   ]
  },
  {
   "cell_type": "code",
   "execution_count": null,
   "metadata": {},
   "outputs": [],
   "source": []
  }
 ],
 "metadata": {
  "kernelspec": {
   "display_name": "Python 3 (ipykernel)",
   "language": "python",
   "name": "python3"
  },
  "language_info": {
   "codemirror_mode": {
    "name": "ipython",
    "version": 3
   },
   "file_extension": ".py",
   "mimetype": "text/x-python",
   "name": "python",
   "nbconvert_exporter": "python",
   "pygments_lexer": "ipython3",
   "version": "3.10.8"
  }
 },
 "nbformat": 4,
 "nbformat_minor": 4
}
