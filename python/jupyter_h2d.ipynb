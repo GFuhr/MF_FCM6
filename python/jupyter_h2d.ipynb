{
 "cells": [
  {
   "cell_type": "markdown",
   "metadata": {},
   "source": [
    "# Student name and e-mail"
   ]
  },
  {
   "cell_type": "markdown",
   "metadata": {},
   "source": [
    "name : \n",
    "\n",
    "e-mail : "
   ]
  },
  {
   "cell_type": "code",
   "execution_count": 1,
   "metadata": {},
   "outputs": [],
   "source": [
    "USE_GOOGLE_COLAB = False"
   ]
  },
  {
   "cell_type": "code",
   "execution_count": null,
   "metadata": {},
   "outputs": [],
   "source": []
  },
  {
   "cell_type": "markdown",
   "metadata": {},
   "source": [
    "# python modules"
   ]
  },
  {
   "cell_type": "code",
   "execution_count": 2,
   "metadata": {},
   "outputs": [],
   "source": [
    "%load_ext cython"
   ]
  },
  {
   "cell_type": "code",
   "execution_count": 3,
   "metadata": {},
   "outputs": [
    {
     "data": {
      "text/plain": [
       "'Good News, YAML format accepted'"
      ]
     },
     "metadata": {},
     "output_type": "display_data"
    }
   ],
   "source": [
    "import matplotlib\n",
    "# matplotlib.use('Qt5Agg')\n",
    "from IPython.display import HTML\n",
    "import matplotlib.pyplot as plt\n",
    "from matplotlib import animation\n",
    "\n",
    "import cython\n",
    "import datetime\n",
    "import numpy as np\n",
    "import os\n",
    "try:\n",
    "    import yaml\n",
    "    HAS_YAML=True\n",
    "    display('Good News, YAML format accepted')\n",
    "except ImportError:\n",
    "    import json as js\n",
    "    HAS_YAML=False\n",
    "    display('only json accepted')\n",
    "\n",
    "%matplotlib inline"
   ]
  },
  {
   "cell_type": "markdown",
   "metadata": {},
   "source": [
    "function used to generate animations and compute computation time"
   ]
  },
  {
   "cell_type": "markdown",
   "metadata": {},
   "source": [
    "# Additional functions\n",
    "\n",
    "<font size=3>\n",
    "    Functions defined here have been made to simplify representation of outputs. These functions are not part of the labs and can be used directly\n",
    "</font>"
   ]
  },
  {
   "cell_type": "code",
   "execution_count": 4,
   "metadata": {},
   "outputs": [],
   "source": [
    "from utils.timer import Timer\n",
    "from utils.plotting import plot_results, plot_profile, figformat, plot_2d_profile"
   ]
  },
  {
   "cell_type": "code",
   "execution_count": 5,
   "metadata": {},
   "outputs": [],
   "source": [
    "from utils.file import save_outputs\n",
    "\n",
    "def save_with_params(output, params):\n",
    "    prefix = ''\n",
    "    if params.get('C', None) is not None:\n",
    "        prefix = 'diff_'\n",
    "    if params.get('V', None) is not None:\n",
    "        prefix += 'adv_'\n",
    "    prefix += '{0:03d}_'.format(params['Nx'])\n",
    "    save_outputs(output, prefix=prefix)"
   ]
  },
  {
   "cell_type": "code",
   "execution_count": 6,
   "metadata": {},
   "outputs": [],
   "source": [
    "def load_from_string(params_str:str):\n",
    "    \"\"\"\n",
    "    function used to load parameters from a string and load it into a dict used by simulations\n",
    "    return : dict or ValueError if scheme is not correct\n",
    "    \"\"\"\n",
    "    if not HAS_YAML:\n",
    "        data = js.loads(params_str)\n",
    "    else:\n",
    "        data = yaml.safe_load (params_str)\n",
    "    data['V'] = np.double(data['V'])\n",
    "    try:\n",
    "        data['Nx'] = np.int(data['Nx'])\n",
    "    except TypeError:\n",
    "        raise ValueError('Nx Value missing or not written as a number')\n",
    "    try:\n",
    "        data['Ny'] = np.int(data['Ny'])\n",
    "    except TypeError:\n",
    "        raise ValueError('Ny Value missing or not written as a number')\n",
    "    except KeyError:\n",
    "        print('Ny key not found')\n",
    "    data['scheme'] = data['scheme'].lower().strip()\n",
    "    if data['scheme'] not in ('eule', 'euli', 'rk2', 'rk4', 'cn'):\n",
    "        raise ValueError('unknown time scheme')\n",
    "    return data"
   ]
  },
  {
   "cell_type": "markdown",
   "metadata": {},
   "source": [
    "# Finite difference solver imported from the h2d directory"
   ]
  },
  {
   "cell_type": "code",
   "execution_count": 7,
   "metadata": {},
   "outputs": [
    {
     "data": {
      "text/html": [
       "<font size=4> data saved in the ./run subfolder </font>"
      ],
      "text/plain": [
       "<IPython.core.display.HTML object>"
      ]
     },
     "metadata": {},
     "output_type": "display_data"
    }
   ],
   "source": [
    "os.getcwd()\n",
    "folder = os.path.split(os.getcwd())\n",
    "if ('h2d' in folder) or ('advdiff' in folder):\n",
    "    try:\n",
    "        os.mkdir('../run')\n",
    "    except FileExistsError:\n",
    "        pass\n",
    "    os.chdir('../run')\n",
    "elif ('run' in folder):\n",
    "    pass\n",
    "elif ('python' in folder):\n",
    "    try:\n",
    "        os.mkdir('./run')\n",
    "    except FileExistsError:\n",
    "        pass\n",
    "    os.chdir('./run')\n",
    "    \n",
    "display(HTML('<font size=4> data saved in the ./run subfolder </font>'))"
   ]
  },
  {
   "cell_type": "code",
   "execution_count": 8,
   "metadata": {},
   "outputs": [],
   "source": [
    "%%cython\n",
    "import numpy as np\n",
    "import pyximport\n",
    "import setuptools\n",
    "\n",
    "pyximport.install(reload_support=True, setup_args = {'include_dirs': np.get_include()})"
   ]
  },
  {
   "cell_type": "code",
   "execution_count": 9,
   "metadata": {},
   "outputs": [
    {
     "data": {
      "text/html": [
       "H2D imported in current notebook"
      ],
      "text/plain": [
       "<IPython.core.display.HTML object>"
      ]
     },
     "metadata": {},
     "output_type": "display_data"
    }
   ],
   "source": [
    "import importlib\n",
    "os.chdir('../h2d')\n",
    "try: \n",
    "    importlib.reload(h2d); import h2d\n",
    "    importlib.reload(h2d_spectral); import h2d_spectral \n",
    "except NameError:\n",
    "    import h2d\n",
    "    import h2d_spectral \n",
    "os.chdir('../run')\n",
    "\n",
    "display(HTML('H2D imported in current notebook'))"
   ]
  },
  {
   "cell_type": "markdown",
   "metadata": {},
   "source": [
    "## definition of simulation's parameters"
   ]
  },
  {
   "cell_type": "code",
   "execution_count": 10,
   "metadata": {},
   "outputs": [
    {
     "data": {
      "text/plain": [
       "''"
      ]
     },
     "execution_count": 10,
     "metadata": {},
     "output_type": "execute_result"
    }
   ],
   "source": [
    "\n",
    "# list of parameters used in both advdiff et H2D.\n",
    "# Remark : the # starting line indicates a comment and is not necessary\n",
    "\n",
    "# definition of parameter input to be used\n",
    "\"\"\"\n",
    "# time step\n",
    "dt: .000001\n",
    "\n",
    "# x step\n",
    "dx:  .015\n",
    "\n",
    "# y step (used only for H2D simulations)\n",
    "dy: .01\n",
    "\n",
    "# Points in X direction\n",
    "Nx:  128\n",
    "\n",
    "# Points in Y direction\n",
    "Ny: 128\n",
    "\n",
    "# modes in Y direction\n",
    "Nm:  32\n",
    "\n",
    "# wave number in Y direction\n",
    "ky: .1\n",
    "\n",
    "# end time\n",
    "Tmax: .00001\n",
    "\n",
    "# output time\n",
    "Toutput: .000001\n",
    "\n",
    "# diffusion coefficient\n",
    "C:  .02\n",
    "\n",
    "# advection coefficient\n",
    "V:  -.2\n",
    "\n",
    "# time scheme\n",
    "# can be\n",
    "# eule for euler explicit (default)\n",
    "# euli for euler implicit\n",
    "# RK2 for Runge-Kutta 2\n",
    "# RK4 for Runge-Kutta 4\n",
    "# CN for Cranck-Nicholson\n",
    "scheme: eule\n",
    "\"\"\"\n",
    ";"
   ]
  },
  {
   "cell_type": "markdown",
   "metadata": {},
   "source": [
    "# Section 0 : Introduction"
   ]
  },
  {
   "cell_type": "markdown",
   "metadata": {
    "slideshow": {
     "slide_type": "notes"
    }
   },
   "source": [
    "Solve diffusion equation : \n",
    "$$\\Large \\frac{\\partial u(x,y,t)}{\\partial t}  = C\\frac{\\partial^2 u(x,y,t)}{\\partial x^2}+C\\frac{\\partial^2 u(x,y,t)}{\\partial y^2}$$\n",
    "$$\\Large u(x,y, t=0) = u_0(x,y) $$\n",
    "$$\\Large u(0,y, t) = u(L_x,y, t)=0 $$\n",
    "$$\\Large u(x,0, t) = u(x, L_y, t) $$"
   ]
  },
  {
   "cell_type": "markdown",
   "metadata": {},
   "source": [
    "<font size=4>\n",
    "<p>First, we define parameters in a string which will then be used for the simulation. All the parameters are described in the upper cell.\n",
    "This variable is converted to an usable dict through the function load_from_string.\n",
    "    </p>\n",
    "</font>"
   ]
  },
  {
   "cell_type": "code",
   "execution_count": 11,
   "metadata": {},
   "outputs": [
    {
     "data": {
      "text/plain": [
       "{'C': 0.04,\n",
       " 'Nx': 16,\n",
       " 'Ny': 16,\n",
       " 'Tmax': 1e-06,\n",
       " 'Toutput': 1e-07,\n",
       " 'V': 0.0,\n",
       " 'dt': 1e-09,\n",
       " 'dx': 0.1,\n",
       " 'dy': 0.1,\n",
       " 'scheme': 'eule'}"
      ]
     },
     "metadata": {},
     "output_type": "display_data"
    }
   ],
   "source": [
    "params_ex_diff_str = \"\"\"{\n",
    "\"C\": 0.04,\n",
    "\"Nx\": 16,\n",
    "\"Ny\": 16,\n",
    "\"Tmax\": .000001,\n",
    "\"Toutput\": .0000001, \n",
    "\"V\": 0,\n",
    "\"dt\": 0.000000001,\n",
    "\"dx\": 0.1,\n",
    "\"dy\": 0.1,\n",
    "\"scheme\": \"eule\"\n",
    "}\n",
    "\"\"\"\n",
    "params_ex_diff = load_from_string(params_ex_diff_str)\n",
    "display(params_ex_diff)"
   ]
  },
  {
   "cell_type": "markdown",
   "metadata": {},
   "source": [
    "<font size=4>\n",
    "    If YAML format is accepted, parameters can be written following this format. If YAML is not recognized, you will have an error message.\n",
    "</font>"
   ]
  },
  {
   "cell_type": "code",
   "execution_count": 12,
   "metadata": {},
   "outputs": [
    {
     "data": {
      "text/plain": [
       "{'C': 0.04,\n",
       " 'Nx': 16,\n",
       " 'Ny': 16,\n",
       " 'Tmax': 0.0001,\n",
       " 'Toutput': 1e-05,\n",
       " 'V': 0.0,\n",
       " 'dt': 1e-09,\n",
       " 'dx': 0.1,\n",
       " 'dy': 0.1,\n",
       " 'scheme': 'eule',\n",
       " 'boundary': 'base'}"
      ]
     },
     "metadata": {},
     "output_type": "display_data"
    }
   ],
   "source": [
    "params_ex_diff_str = \"\"\"\n",
    "C: 0.04\n",
    "Nx: 16\n",
    "Ny: 16\n",
    "Tmax: .0001\n",
    "Toutput: .00001 \n",
    "V: 0\n",
    "dt: 0.000000001\n",
    "dx: 0.1\n",
    "dy: 0.1\n",
    "scheme: eule\n",
    "# boundary can be default to use default boundaries implemented\n",
    "# or null to use the function null_bc (as asked in section 3.1)\n",
    "boundary: default\n",
    "\"\"\"\n",
    "params_ex_diff = load_from_string(params_ex_diff_str)\n",
    "display(params_ex_diff)"
   ]
  },
  {
   "cell_type": "markdown",
   "metadata": {},
   "source": [
    "<font size=4> \n",
    "    To run a new simulation you just need to use the function simulate with the parameters written previously as argument\n",
    "</font>"
   ]
  },
  {
   "cell_type": "code",
   "execution_count": 13,
   "metadata": {},
   "outputs": [],
   "source": [
    "def initfield_2D(x: np.array, y: np.array):\n",
    "    \"\"\"\n",
    "    generate initial profile for H2D simulations,\n",
    "    :param x: meshgrid for X values\n",
    "    :param y: meshgrid for Y values\n",
    "    :return: 2D field\n",
    "    \"\"\"\n",
    "    u0 = x+y\n",
    "    return u0"
   ]
  },
  {
   "cell_type": "code",
   "execution_count": 14,
   "metadata": {},
   "outputs": [
    {
     "name": "stdout",
     "output_type": "stream",
     "text": [
      "number of frames 10\n",
      "loop time  in µs 923993\n",
      "used time for 1 time step in µs: 9.24\n",
      "Data saved to file : ./data_2D.npy\n"
     ]
    }
   ],
   "source": [
    "output_ex_diff = h2d.simulate(**params_ex_diff, init=initfield_2D, verbose=False)"
   ]
  },
  {
   "cell_type": "markdown",
   "metadata": {},
   "source": [
    "<font size=4> \n",
    "    To see the result as an animation you can use the function plot_results with the returned value from the function simulate as argument\n",
    "</font>"
   ]
  },
  {
   "cell_type": "code",
   "execution_count": 30,
   "metadata": {},
   "outputs": [
    {
     "data": {
      "text/html": [
       "<video width=\"432\" height=\"288\" controls autoplay loop>\n",
       "  <source type=\"video/mp4\" src=\"data:video/mp4;base64,AAAAHGZ0eXBNNFYgAAACAGlzb21pc28yYXZjMQAAAAhmcmVlAAAjL21kYXQAAAKtBgX//6ncRem9\n",
       "5tlIt5Ys2CDZI+7veDI2NCAtIGNvcmUgMTU4IHIyOTg0IDM3NTlmY2IgLSBILjI2NC9NUEVHLTQg\n",
       "QVZDIGNvZGVjIC0gQ29weWxlZnQgMjAwMy0yMDE5IC0gaHR0cDovL3d3dy52aWRlb2xhbi5vcmcv\n",
       "eDI2NC5odG1sIC0gb3B0aW9uczogY2FiYWM9MSByZWY9MyBkZWJsb2NrPTE6MDowIGFuYWx5c2U9\n",
       "MHgzOjB4MTEzIG1lPWhleCBzdWJtZT03IHBzeT0xIHBzeV9yZD0xLjAwOjAuMDAgbWl4ZWRfcmVm\n",
       "PTEgbWVfcmFuZ2U9MTYgY2hyb21hX21lPTEgdHJlbGxpcz0xIDh4OGRjdD0xIGNxbT0wIGRlYWR6\n",
       "b25lPTIxLDExIGZhc3RfcHNraXA9MSBjaHJvbWFfcXBfb2Zmc2V0PS0yIHRocmVhZHM9OSBsb29r\n",
       "YWhlYWRfdGhyZWFkcz0xIHNsaWNlZF90aHJlYWRzPTAgbnI9MCBkZWNpbWF0ZT0xIGludGVybGFj\n",
       "ZWQ9MCBibHVyYXlfY29tcGF0PTAgY29uc3RyYWluZWRfaW50cmE9MCBiZnJhbWVzPTMgYl9weXJh\n",
       "bWlkPTIgYl9hZGFwdD0xIGJfYmlhcz0wIGRpcmVjdD0xIHdlaWdodGI9MSBvcGVuX2dvcD0wIHdl\n",
       "aWdodHA9MiBrZXlpbnQ9MjUwIGtleWludF9taW49NSBzY2VuZWN1dD00MCBpbnRyYV9yZWZyZXNo\n",
       "PTAgcmNfbG9va2FoZWFkPTQwIHJjPWNyZiBtYnRyZWU9MSBjcmY9MjMuMCBxY29tcD0wLjYwIHFw\n",
       "bWluPTAgcXBtYXg9NjkgcXBzdGVwPTQgaXBfcmF0aW89MS40MCBhcT0xOjEuMDAAgAAAGg5liIQA\n",
       "E//+97GPgU3IAA2XOop6H+EVsfSQUXqx2aBk6gAAAwAAiYGOFkC1uVpxUAEjj+HWci4ADoBYVmSi\n",
       "L1tR7MSqjNdguagGx0SVqUo0uA1TBYS6JKlmCzuK4JMxekz0YnJGeZGb8a9/NMnqSSFzd2CF/nzo\n",
       "h8VqrQxC8Cuh5ZX3hRyEhJT8nU82wO3yRssikzYLlioJsTDISXzTHmMe9Dyc8sho06rhtZMVExy/\n",
       "9gZObpRVtzGbosBYUscV3BVvEt/+XT7U4xQIGKn6XReAE/02NI1knsyZIs9YUAlDd3vmU1+X5gy/\n",
       "PyCFkq+yE8jmwrYNoJt78jmePLpVytRo09VXTy1RHkeaEWJHpXWlavZkoxthoME4O9OCchPTCl9B\n",
       "W5Vvlsx9l6soNNp+ZbKhkLDa99LX6S/y/vS4UdavkaVA75uA6y1blBdSkGBPkUGp7jPuGDk/3ogo\n",
       "X6fH/hFClRd2/Yy9sIJ+8S9YdpbXAHs2zunBOs17Y6KpTSyHOUNavHaZLr17MYzECKGAcpaTZ0Bb\n",
       "fFqGw8LKHgXLY8tsqu0uGiyQbK0GVjf41LWd5oK3ZjHBt63jR8Xo23y0AqA0vZm7ZQSPsnJCKXel\n",
       "XHKBuV1myke+kra5voh/XdsXRTfF1GINvgmqNkwIj/p1RvyzUIZDM4mBMeTCWTTDh/GJDuoaZ+2t\n",
       "iClvAuE8iP+b5QkAqDyV+BKgCHqrGvaDT2j5JexOkicTEJ6gbLGAbQyDe1/S6O0ivM1F4+ZkNIx4\n",
       "QBrNT+VngRobsGAeUSG/H97ABjoshm3zX3hhIKp0XqOqAhkK4bEZ//H3d7ha8MXR0581macqK0lR\n",
       "kAeCV8zT2j+qFG8jEjIu+cJ4zyLT+2O13+sTAYXoGEXkfXe/J2JpG9/BiyTcUTFPq7NYorNjr95z\n",
       "ZWpp2cj1PZopNdzl/qxjwnQ2dbXojP2zpOEirvH1Zjsv5VtOg2qKPFNLj45J1wtLA//L9jAEnDLo\n",
       "h6qEkc0brM1ZupptxOmewhloP5psbHV04BkiJ51W+cF0FnacE9udqlAxoffJ9YIdy7z0Jwz7KbOi\n",
       "uBQnN13FN12x/NxVvWyvQhYXU/htbu+haebHEnx7WuBwpfWGYokFNu7uLquDgYM5qNc6mpp/UknS\n",
       "A+XOAtgQHaL6XfRL0dTT2gAYLI/ld62KBTBW+DEuTY+Yp+2J3SG0zr1qHPWFJY+OSM/k9lq+O5P2\n",
       "6j5f40/Pp7ml0WTb9P91iHy4vUWPjxst/bQ/wV2Oz9ACc+ZkVLQzR+j0ws7DMxnaysKErSx3ZzhU\n",
       "HOAquGou/FgPfDp/XiCLeYJfoPR110+fnvxo41DPP5urFCq9Z+Tq67Fn9nUoAn6zqardplLSTkIZ\n",
       "t10d64YAGsKVZD+VQWfved+6Oat3wVNxhAoUIhDK8K5fSEpQpHoCz6jelL2qlfZfbhyjJIsCo/wk\n",
       "+5LBm7jGw1mXyA3zxZ7GlBbsdU0otB9jAoqghdrVsyWcnLowSvJwj0rbmK+6tH7pJPGvlsPuacIU\n",
       "Q+wcb+L2tKnwIp0oFCMA6AI8VLCrZ20spLBepzwbC2YG9J6XJTcxTcXGfMtV9b9bse60ZfrNMjUa\n",
       "PxAJQcVA3yYgVfJhyjqJ6o24fL8o/TN9+fY1Q6IG+9L9P0lLQ8APzVJxtKC447IKnXj1ww6KN9p+\n",
       "jxxQmZswKAFn50CkoPpxuRSQATyRSjltIHabzWlSDmE4KzdxF8aFIRhTpQP7SibyShHlyKbrqrx8\n",
       "d8FGsl3CjjnqnOA8bsxOf5EgfcD08lL+e7w4e4B+WcjB/rSKTsZ2AkXdAlm64De2ZrLEBRL77t37\n",
       "MUhCoNc0P50auUsjqsTyvjhbtBS+QbOYsQ9o04Jo0KpDp49zTCj7szY7ng5nx1UExo7B2XyePyE7\n",
       "+T32gJWwVj8LlPQhWLtuqzgcnsedW6IV5NhSvl8TsPiQYpSJvyz4ixCGsD///zIZuI8hiqr4u7Es\n",
       "ypDAgVPcOi7oXy4HkxPOAcETiHUot7yQs5AbiMp9aBQRCLyttXRDfM+RSkpnnXpv7AEqYkanSxGT\n",
       "Wbxt/a3srhZE98RkEZbAL5WoE/YsmbrtDWXPY17cYpH/XSl6TfQeTrdRdbdDSVsuuq0Bm4xRNLPS\n",
       "hfIkPVFsZ3xI7kwXfK+DZRKxZ5HbW6ox2BubFTdkrG5521U27HMZRmScr17SNhKzdETDtEE4xZtM\n",
       "Lh8RpuGDQ8nQ3v4zPRZM8wkkv43+MDyMj6Uq9CgGS0vdTpYCl8KGjp1UtY95rMAKwPcW4gtplELm\n",
       "BJofLA1Xvcb702krGHKwCNur67nAunOLrv4WpW50PXm4wu3zD6lyJ7gM0RYIFTGPNZuNkTkK37fs\n",
       "2Pnuq5BV3/BYVOQBstqbX3gdR2uJ6ZP2wE0Yn6U+bDxUwzsNyFQ/bqvO9YEuOSKU3K2fTmyChYfl\n",
       "TJpULX9GLknSvtmV/Yv/PdunIaJWCutJh3QB5KmIRTq8RZ6ursPyUSwo/E9OQn/L/8gNhVPuTqmK\n",
       "AHluG1uaa8j6vrr6tzqoniTf/yA+NuJV/xoz81gEklBQyGUq4XLr04lxzn+/ZGnC1yBU0G87FhnQ\n",
       "KdpmURfBeaa9g1fNQte+WNWJfPymsvzPogt0g6sk7jFmXnFYuWdcf0Yg8Ld9txMh2yGZ8OvxNA+f\n",
       "ip3ZBAF2GxSGOMu49kLFOaP1T2FLHVtHvnFwTsislvthuSk2KhPxuzAF2byqN4p9vVA2e/6+O753\n",
       "HqzpXQz43ab+c6LX1HFp4ItWhtrGx/xUPg88mDe97jXuH8ILlxs/fmlb42DtbXSKG6qem6lUzi68\n",
       "MbfybPAKChz5/O4eEH1DbDrxvPXnyujKFODKbP3DTDT7yKdeag87sSAcfyZhyh3H8CvLNYwBaN75\n",
       "tOpYGfrwGhAWvme8AWxFjwq3xX/CilCdm4PvhxV2SPr3+YyIs77MohSr7Eql+9noc9e77vTWtVkZ\n",
       "TKlI6lHxiZUUsH/PRJyMHg529dV2+E85zNEqhZdzNtYe9dWACEeuRIilILEK595e5NFdXMHAqqNU\n",
       "JEWh9eHIgaxElJhbzbIrouw7HnZv6x8CciOZ4GUBNQ/Qgul5LV6oCHRVRm1WS7jfjMZF6zEv4vQD\n",
       "n0J8z0eP0FyEyS6q43ukdyzlUh8+7ss5iqtQEoEfPJDJHqCyfddPN58zFR0RnVObYFG/NoBdr4TP\n",
       "4ApqaPODpy6pPQDZNclJHriw09itAV2tEbYZqA28OFhDLj1kw1H+FObkyXf291KwQZhAqbbZ9Lt6\n",
       "r9bkao9UflnXJXiRYdK3bswd/PBZgZKrDcxH1Qm2Hl56txt090xT0sLL1pTTY8+X8nryAM7lCyA5\n",
       "oYGMr/6mg2FMnMow9nQbzVJlUGrhoY0siVrFnsdnN0KatfXtoNBR5iNxmeSiyI8Llw3Y50Y4KqhQ\n",
       "i6/RWSoVBuu9SoQhiLAiGN4lCWJanyKkMnoBd+5l5llUVSls3g2ercHdoONXDLPIrP93dUwc3/5+\n",
       "FAxKRFKNQL8+MhcK4iHzF3+MQ9g5+OrGqlV4AFuwBNlesD+y33MwN2vw9AjE4enN+Wq0TqRzayfU\n",
       "H0N3yidvbWakxfdvgC3Kivyj9Xv3KiDio+PImnwlt/ykwA6YTBTjme7oR5LM7hdUmx/A+2U5D4fx\n",
       "e6fcD9zCHqpv44cvTJ51E4gdkCV1jBJdOt6uHXYMiGF8Ab8GUThS9S19pcu0ltXuHLy/81r6UHio\n",
       "wBM26uXsIqi5kNaH5ISkEQLfQDJkkQkezloIE7riXaO/yyuJi2zS4xzf/NW1bdAVDmkGkHwcudE5\n",
       "xACWl2E9NUJltuBnM3u5eGlROnT0US2Ys3D1xLBwHqdIB+XHGK3OqNq3eH3StSbKEiK+oQyz2nS9\n",
       "k4UcOWqxXhJpPEoW+qtcxFh9bZIP77wxKW97NJ160Uj7krq49qTt14Y9WyY7UkRVL3ZgeGyxL1LU\n",
       "6NJQXfCU1/7BlFrZrC1pqGWIzp9I1elUpLJIjHA8U/WBMCi1lw1Xsl/GqkrGLkDMv+LRjpk5bkTM\n",
       "OFG2maXnyunDUpVrHm46JojHXSJlq6hw6GQDdPMeDIcNqNUkXR1GwrV/hk4brmQxlA6ar8giBtgA\n",
       "F+N/suHurraX/ut1FD5GNYXyClnnUAxf/StNAqUKvyLfkrPdeK3IHWGnLG/onAM4M8E57dX1NEgl\n",
       "XaOJaEHH3JTBGkqzXo8ieRVVkiVfx6XO42qGUaz9RVFYUlfg+W8ttSvrwFJTgko9BhRd+UI4/mQe\n",
       "CAYmpPPdvFNpY97jxbfgN7pc2tFdjhJFLbtQ2c1X96bucEshBKnVTumFwWOvD0KNuyeH4rJEJqY/\n",
       "QI/rmIfN06mbpuvuRjJeJCIXs1rJp+64HoQ8z2MOAQb/SvjLXd6FfDG9Wkz7KuQTBAv3d5sSYLEZ\n",
       "QX+puqcZWMn8iSi/9I/I/Ww9wt3ED9U6TbZ2dbuNgQr8bYaQ7S9CAWoZHlgqVIjrMm9vzetpjGoW\n",
       "pu83ocCBB0Ev40HGv98vmo4NofjYVFBvJXqVzsSiyJNFA09diErwyhf+O/sllogVb+YYah2WdEJp\n",
       "BVJYAg808tRrYmXV/oo/uij/nx/JFfL0BYgktap2KZ22T2Q8xMKzRRdgOf3kOtB1w84wH8NCLbUK\n",
       "PEbjVhpyaAolYk4CUbgCl1WRp195IqFwzTqhcOWdQEjUToPZo8kb4C/UkbN+OlEVa1tcPveSQVBT\n",
       "pq6eRwjyuSvE/1CVAlOkqMoIAZfxB9j+bysIz6bpT8WJzza4bQ5+iOE52I1N/sKIwy3xpA2ZGBE2\n",
       "+iLOmqO4ckA2h+xIwSqbPzmF5Z7q/272qYGBFHYB2Typ2sjfvJmQdVB4OjbuChw6Z9bQ8HvwfPYB\n",
       "+vFb0tIpYXK50Ls26weIfdSdnVYyaBhHRFGY6yoblPT+YNtVfXV6Ebkd5RHrIlRni+oEwBdNf3TY\n",
       "ciu//3E1bJ1PqNhpvsZcunfQL+kivvsm+ZNOs3ve4FAZfAvGpS0cWmT3DUDgDE+ya7xrpRN2wJlW\n",
       "BgFVl9lR9HoeKHvAACmuAse/yc/AO1UGWIWYTNiAS+zEeBtzCVlu0/LiMsuEyQVl6taZNqfT18QL\n",
       "D9FFIcSNiAo38aXzwLGR2YWHbLTNomQrgeub1ltb5FMUBwFNLwJjO40ZfEeUl1tFjExgAU+N0Zd2\n",
       "vsXMBQrk1zfp/IIZq4CZgTtSo9JUTWe9pqPnK0mgx5AiFs+KYg058QPB+TnZo99At+Ti8ZbRXp9r\n",
       "6KZexll2zPX7a28tJGu40SxWnSMjgQTBo+PIJwzGZoi5l4NFkvP59edsaG1n4Dp3jpTcB8K0tByZ\n",
       "fM4Ru7bOhW8bO93+5VBTc7bJYurYE/bM6DrRC6LphaLHjzr5EUmpNkvq5hgegB5VqYWL/OgjNMi/\n",
       "RkWM7Ot+BzzRoOFwyr+9KPo5eFRburv6oWWLt6zBol/S116hWUaEU//0SSvHH/DNVQDRfjVIeQgP\n",
       "bkQD89cLyfOp5HXzYT1WPux8WtBvfLedEiNrABq9ixycBC1Apdrj9Heo9QOnpMI8rx1JMijAv0E/\n",
       "X5RE8216QxCwsiQnrOff3+kfLW+z5/SRNBphtFZef25wNKL89LYh6wOmyvNgoBq/O4nc+0Zgg/HJ\n",
       "egKABe/SpYpZKF1LPBSKS/LU0auFGzCGLir7vkjIBvQViiZrKiuhxFR+A+ColFoId3wV/p1myLdb\n",
       "Nlb7ozaB70dNgamjfKKZG6fTHDfbIjjcu3zGp6bC6BKSbrdCLiUIEDVbidzpqxDv6xLmICYIopp1\n",
       "3LvIujo+ehC6zIdnAcTVlUSiHtv5DEB6bJzDRpX51Yuz9KxopHj2hN6LiRb4s2y2pS1hPLjFXieG\n",
       "xBtjoAFkEQtgUFQ3BJpLRPMJwipX5Pv7TVyytNnS5NCrggSG0zurqKgl9SZZElG060cSBPI8g44A\n",
       "eR+baPKdCOnyq1TvOe5u/QWs/uKE/MgGAvy/J8wSY0f9+Lqfm/KxSW3skcP/RvTrH2Ug+sXgHbCH\n",
       "o55xvQOLUxEMbzhYbbgstQVfN2gwBYqbfF4+2KHf6ofk8ikh0zUE4sfsQy9EWP9+b7v17gzqQw8q\n",
       "72KKMf3wHn6hxXwmyHjOgDiKl2l9xPE2xZFzauY9eeSm6XGYA/LU2Lc44akuz6CazTl+XMWphkNP\n",
       "SQBtdRFXbfqPXCJ2KnfrmrGxQ6tLqNyAYFf6UTRTSpxY0LbMl4AsTmw7kcSiQoF0NBGg2i3KDjog\n",
       "S8Vo81hhfEWu+aSWmdP7jflViGLaQL4O6pAz6Bx9F0aFALC3PCMZZsQZTP8IqVaOAT42nirUz3F+\n",
       "VhslOYxJgaz5wV/JDFyNVA6r/y2dbA94h6QwzEAfvxMy+4CTAbaZsM0jq1tVNU2jEB7+jUdvyG5S\n",
       "mEANygbvPW5XEvjveaQYsP1dDdY5Tz7HvaWRLb6zdGUUWL+M5A4/tBTr9/Hmh/Y6UWEXbkYnY87A\n",
       "xt2HelFRm5kaFty2fqiqzBBufQujVEExPZ3di7EgvVv/yX9HVpbEmzFuO/ilnsUWmw36X8QFth+m\n",
       "GCvikwwNaWK0wEY9D4Luv1AnQJ6hCosc98HbD06tV8BGdNMNlPENALEauNdwnv/KE2ryKeqMGgpg\n",
       "d77IGuWrm6rG1jR7Hf39n0b9l1sJazfY+U/AW1r3PjPhzjnSJDKZkWcE88GoZeMd+OwpsgW6XvSv\n",
       "QKTfCTo9bbm1KF8UBnLgjqun/VcYhf8zkxlOJZ+BL1A+/0OKMZbhiB+iocf5z4oZ53u3Mg3KVy14\n",
       "JLVg5aa3+rHffagYjCiQHowExKUavJrWTr4gcav9ZrenfYsRW84rlvtZ63iBdZivZQyw/Qjg7S+9\n",
       "OZ0h9sBHxzJg2rTytxVWH4Xq6cfhor5PovNeoeio8/fDd1lrYsF5nTncxEjWRyyt+1Tlt/Gzzqnu\n",
       "gmnz/4DmO/escrNc1bQLw0qTYPTvkS46IUAhd/bJshwx7J7e8NkgouKN8AEGESVxyWpm/jVJIX7F\n",
       "s6EeG5TZV2h03Lt2HVqW44iQKjnxvGi8nKjSumc+Od0vITcpogvGoxduK0BJ9MUYSlpOSizxBJWj\n",
       "E3c/o2j2xqaLPiwgGmNKBMIBBGzx0sLOLFj+AEtbyhUB4VQxvJcDaEaEG492JqKGCvzOMJRKm2br\n",
       "Tfmwh8CDH7rh+/Zd7BNx4Ei5MHgJ+L09bENuSX4mo9CaLLp1t1wfcQz/qxFY28fT3qpdnY7kazEE\n",
       "lu+Uy/T2xUoPHuYNfe9/asmlgS1O6mCoRZNef6Cr5DjPG5YKIXuEadTnD3h8TtaZkBKPgWTD6hwi\n",
       "ykG3U8v8prl2mxsFWYcHCsWo3JfJblUQ3xKhyhjLBxWqdOA1cJNQYiHSI6CKykWQuD4JpHuOriVy\n",
       "gpPi5crWpJ5ivoH0Ef2JdvSmwGGX9ilCodIqWJ8QN0Ovf5nbpDplCPW12eTrToMJi1W5OKnFgyqT\n",
       "vYNbCxPccUxu5Um0WNReQpr6zl06Gs28JV75A/rv61Kf2WAo5F6nwwLXsfaXIZFrOoZZo9FRpGER\n",
       "VjZucIXksptwgA+GtW8qeRguWPKDOaP3cBnE7PDeGZrmK5l3M6qIRZrE99lbyVObbKZVW1uOnBUv\n",
       "x6Zu85M3W/eTSG++lLLB6YOWYi3iqc32p1T+fupwslCIgUoJAI8ndclV7siaGoIfvVBG+HkF63Q3\n",
       "7ns2i7rfAeWZas0lqeXVxAElvqYBFRx3w2lVDAXFdrPwjG6YZfA1gFewjbB7QwnhSBo4bqVaClZ3\n",
       "Tp3yQsqYOSpysQNDEs+VQl/df0igSDROJ5sZrK4WNoogn7DMUbATzVC75F6ShewA5rCNFlAoH7Zp\n",
       "5F/PokstzL8ABXP4lP//gdLF9PLCeKepVZsip3PbAvlHgXrgeTCTubeLpPaekn9n0mMj0M/r6mxj\n",
       "OlizaQidFcolemjRCNYN7vrXhacFdOSBW+qiKwtFa7NKo9u8vb/0HYKJR4T47O7LPxrMB35u60kc\n",
       "b8p3O6kxyLJCih6snDPC/ivkIdJbDXzS+73LhpnGPgesdQGv/x+Ch62pCHtQMf4/Il36Djixu2pi\n",
       "LcIBJ9hAs002xcW6w5Fz/VNRPTZ2vpzeCqXnR6V89xDNROpd7GcuYfWon61Sq0BKHmXsOEgFkZOq\n",
       "4ge4mPq2f2vUDi0gY/iqtetaiBX6uFiKEyFeBpIaInCgDRJzRw4QtkO4/STTSarkiXPPdsk5JQwz\n",
       "5X4XQ0oJ416okjA6QGfpf3ROK90aAAcOPfUyYIMLyCpwuwsiw/V/h6e6p4B/4cFdmyrrAupbSoRv\n",
       "ZHieE9PmZ6jpg0Zd5atSmoJvr/yKaJE+VJsKV3oQm4qWiahy3dkI/JY9vWrzcNy6RTFn/Sx7t8Yg\n",
       "4GbrQquvTwL74Wn17oohAJdarNV4FNOMl5JPyHweF+8lDELiPe9LwOfZcKft1J7HhP78f6ddXiom\n",
       "Vlt2Uq1FgFa9EsbZGOTrT87KfL1RFsZs6+yr3enzUgrvkWkbY7tcvUDYnxM8ZxNxQlvZ8rwtxp3i\n",
       "giJ0jHB6p6wv9ZsqPvUx3uNhGir5Xc3uIivy6qjLvDq0uf9L0ZTAu6AodQE5nq8dR1jAFyzE2yQG\n",
       "Ec6mTcoKpPNc5+sMz7XhcsEFufExGCqedbFYxMuwa3VZwlfwMbK8gBQ5pQjrMeX8l5+j2JiQW6rp\n",
       "I68rTnizQJlU9H3T27H//yUZGX/nPKvfYPols+4s5/jea7grfdd3q1htTzi5VrtL8Ghuytx0au6T\n",
       "a+LCYI4mSYWp01siYV/A27LUps1WrYbJhOnDyy1PBU1V9Y59u1ryfoxLa5Z/JJ6cPubcys2xAnY+\n",
       "TTn162+xLvCocb8+CzAWsUU21vRz5Q9QckE7lZiwUXe+bo5rg/zhfINrW8FJ0JJMAAJzQFHBAAAE\n",
       "mUGaJGxBL/61KoAiixWIASuQ6/kGXRJlP9aAxa1xfRShyhsGezANMYsNaBj1x8scrqMcEJISyXDs\n",
       "Xv+ZfrZ3ZJwFey1/Er3UiVZ6myBX+9+IrJe4fWtsOZj4vdTCOR5bsMeg4BA3mliriOvH4sRdEUL5\n",
       "gG6d4CN+TIMP7DDtuT4XAcbywcDbO6RW2hwyWboCM9F9KR1Q5tkNSRHFyzB0ObuUVBmDyt/foNrw\n",
       "9RUeZYBDwxxPLy+MgyLBINd3NzlUqSeWFQuPdqkto+wqKJ2iPW9tGdXfp+6A4UNFSHn0E9rtRISg\n",
       "MkL6E1Ctb7l1nqS775r9aAIiSCogfVhcTAHaJluzWJ8r9WqSzFnw57oULW4lY0wNkVhJx+9gaaD1\n",
       "EZfVx+thVlRGEVMndhTPz6Y5dFHxa4PfA2qAbEQEn6taDNOeHKH6wXlkN1pFyQiMIX7Qy/JzL9tt\n",
       "hx5B6Va0q2XS8xGx+iRE569avGgK0ipXBwkERAG0xez5MolVauT5mYR8GUcsRBTDnOE24kn0HpR+\n",
       "s71ekRsNnQ3bq8JmCqbIVLkHYPzWM81D7XKMLexMq+8whQXNCDLR6TwrWZwZc30ZKnwxNgJYw1/P\n",
       "/REMkqqjvkxAY0+D1KkTbdypFHFS/egl3zTEsrUDqMlQv2+hvnsGisKTwPGmPA5njtVi+yWTgtzh\n",
       "TToBFhd0zfvZ/PSpg4Ds4t45nnc1v/dkBtNhsJ+MHLtl+0qFZWfzqr9dMcAtB2mFnYJlP/rpN1EG\n",
       "+/yEZmJ7em5y2mkU7fNd8whxPfvt35G/EKhgYYEvfX28VgQu9XgNmzWRdbY+H9KPDQVeoyriMNtq\n",
       "mxMsY7qiXVSDVPi5rxF4XbvPH0BlJRghvs7kEGVXlrbnf+st9G1VZLTvFS7HHm0r0PHDmSqDY71z\n",
       "mlUo1m+3wkcGU6h2WnjKAfkhsvl09faE9Ab4cB4mjS7KBB0oUIWYJMnG5mSY/it1IBOQvBfn2Cc9\n",
       "fPo0uWr5H2dTDXEzZjUdiRCnWa38P0bIiBOtNHDcTWJ3Au/QhHaIPdb8iWnG/ghtVc1l67CL6r+8\n",
       "v8Fi2CyL8gSee40SUvIztqm4uUg2PqjC4dJbp/wwo5Kb4/zghpSCJDWJAtAy+fttFvuJBTF9KgHK\n",
       "txFkV37K+nmmsfK+gCxYeKi2PsLBH5VWJ/D4YzbONZpk+Z03LjttKN22pxpct6j0HlwoZo4XkdDA\n",
       "syIk63xBqba3nXhOqvmmFekuKUt0a9n5c9qkZmjMgbQ1zBPYrrUPgPeaTWw28Ej3JwxvCfKBpa33\n",
       "yujoQzGWM6XPQUmkXf4oeJRwaHxI3tskJnVhOfYSh+xy+rxq0aBFw1o1wNGjB9rN62rf6GDdpeJ/\n",
       "wGmysy+kPO4IOIdq/3HAwJ9FU/E+O4C03rx7EKrMqrDWG1ioejyzFMmIErJkUQzPBSND9V5mGHew\n",
       "D7mqsa6uR3CqGHz2huT4aiHdxQqzjfn1y7kE0rakd/34QTAUu5QqR3tUUKNar1LllduHf/Dkn7Ri\n",
       "mfCZcQ+FD03WWPMR68KUA5duO1Sx+/8yuYX7tNWs8NPjeNFgckAAAACUQZ5CeIIfACOIdqgpW0oN\n",
       "pvQALDXMKgXWYzbydiMC/hz449WtNAohc5c4co9rwrkadppz/illQRUgtBbgXKAVZCpNNCO8dAnh\n",
       "8WLyzpIIDpDEWCzLFKfM75yF+6v+RRw55KLqwoTsQOxoaF9YN8yYRo1QQ7chLyyl1exriqmHFpUf\n",
       "v3Fx3cpKcat/Ls2RAr+rC4cJyQAAAFcBnmF0Q/8AZSJup4FCFm/ylN8nw/gWQ5rfooBWaIBaTdmB\n",
       "CHj059Bm640VXGI6Yryfc6RiroxA1KuP7jPkTQTwXtV8vIJo7EW/g/HFY+Xq1dfipXbIxYAAAAAm\n",
       "AZ5jakP/AGUQgcP50c+cW7wbs3po8ah3vmuiJFEPw9DXYpUStzUAAAA0QZpoSahBaJlMCH///qmW\n",
       "AJAs3LsUnAB3RD363b9ZM1u6nuPu/nPH3Lk1Dbfhg5xH4ujeEQAAADJBnoZFESwQ/wAXL5+2crB6\n",
       "4lgzzZZO8CbJ4pHQAduEvcIcJqoihONjB77yGHnXJvc6gQAAAB0BnqV0Q/8AMzdKVf13/KTr0HFK\n",
       "Ok7CDhrjz6IqYQAAABcBnqdqQ/8AAAUdH5iesdrnceYctFUjgAAAA5ptb292AAAAbG12aGQAAAAA\n",
       "AAAAAAAAAAAAAAPoAAAHCAABAAABAAAAAAAAAAAAAAAAAQAAAAAAAAAAAAAAAAAAAAEAAAAAAAAA\n",
       "AAAAAAAAAEAAAAAAAAAAAAAAAAAAAAAAAAAAAAAAAAAAAAAAAAACAAACxHRyYWsAAABcdGtoZAAA\n",
       "AAMAAAAAAAAAAAAAAAEAAAAAAAAHCAAAAAAAAAAAAAAAAAAAAAAAAQAAAAAAAAAAAAAAAAAAAAEA\n",
       "AAAAAAAAAAAAAAAAAEAAAAABsAAAASAAAAAAACRlZHRzAAAAHGVsc3QAAAAAAAAAAQAABwgAABAA\n",
       "AAEAAAAAAjxtZGlhAAAAIG1kaGQAAAAAAAAAAAAAAAAAACgAAABIAFXEAAAAAAAtaGRscgAAAAAA\n",
       "AAAAdmlkZQAAAAAAAAAAAAAAAFZpZGVvSGFuZGxlcgAAAAHnbWluZgAAABR2bWhkAAAAAQAAAAAA\n",
       "AAAAAAAAJGRpbmYAAAAcZHJlZgAAAAAAAAABAAAADHVybCAAAAABAAABp3N0YmwAAACzc3RzZAAA\n",
       "AAAAAAABAAAAo2F2YzEAAAAAAAAAAQAAAAAAAAAAAAAAAAAAAAABsAEgAEgAAABIAAAAAAAAAAEA\n",
       "AAAAAAAAAAAAAAAAAAAAAAAAAAAAAAAAAAAAAAAAAAAY//8AAAAxYXZjQwFkABX/4QAYZ2QAFazZ\n",
       "QbCWhAAAAwAEAAADACg8WLZYAQAGaOvjyyLAAAAAHHV1aWRraEDyXyRPxbo5pRvPAyPzAAAAAAAA\n",
       "ABhzdHRzAAAAAAAAAAEAAAAJAAAIAAAAABRzdHNzAAAAAAAAAAEAAAABAAAAWGN0dHMAAAAAAAAA\n",
       "CQAAAAEAABAAAAAAAQAAKAAAAAABAAAQAAAAAAEAAAAAAAAAAQAACAAAAAABAAAoAAAAAAEAABAA\n",
       "AAAAAQAAAAAAAAABAAAIAAAAABxzdHNjAAAAAAAAAAEAAAABAAAACQAAAAEAAAA4c3RzegAAAAAA\n",
       "AAAAAAAACQAAHMMAAASdAAAAmAAAAFsAAAAqAAAAOAAAADYAAAAhAAAAGwAAABRzdGNvAAAAAAAA\n",
       "AAEAAAAsAAAAYnVkdGEAAABabWV0YQAAAAAAAAAhaGRscgAAAAAAAAAAbWRpcmFwcGwAAAAAAAAA\n",
       "AAAAAAAtaWxzdAAAACWpdG9vAAAAHWRhdGEAAAABAAAAAExhdmY1OC4yOS4xMDA=\n",
       "\">\n",
       "  Your browser does not support the video tag.\n",
       "</video>"
      ],
      "text/plain": [
       "<IPython.core.display.HTML object>"
      ]
     },
     "execution_count": 30,
     "metadata": {},
     "output_type": "execute_result"
    },
    {
     "data": {
      "image/png": "[encoded data removed]",
      "text/plain": [
       "<Figure size 432x288 with 2 Axes>"
      ]
     },
     "metadata": {
      "needs_background": "light"
     },
     "output_type": "display_data"
    }
   ],
   "source": [
    "%matplotlib inline\n",
    "plot_results(output_ex_diff)"
   ]
  },
  {
   "cell_type": "markdown",
   "metadata": {},
   "source": [
    "<font size=4>\n",
    "    to plot last snapshot\n",
    "</font>"
   ]
  },
  {
   "cell_type": "code",
   "execution_count": 29,
   "metadata": {},
   "outputs": [
    {
     "data": {
      "image/png": "[encoded data removed]",
      "text/plain": [
       "<Figure size 720x720 with 1 Axes>"
      ]
     },
     "metadata": {
      "needs_background": "light"
     },
     "output_type": "display_data"
    }
   ],
   "source": [
    "%matplotlib inline\n",
    "plot_2d_profile(output_ex_diff, -1)"
   ]
  },
  {
   "cell_type": "markdown",
   "metadata": {},
   "source": [
    "<font size=4>\n",
    "    to plot evolution of max(u(x,y,t)) in time\n",
    "</font>"
   ]
  },
  {
   "cell_type": "code",
   "execution_count": 17,
   "metadata": {},
   "outputs": [],
   "source": [
    "from mpl_toolkits.mplot3d import Axes3D\n",
    "from utils.tools import extract_max\n",
    "figformat().apply()\n",
    "fig = plt.figure(figsize=(10,10))\n",
    "ax = fig.add_subplot(111, projection='3d')\n",
    "\n",
    "x = extract_max(output_ex_diff)[0]\n",
    "y = extract_max(output_ex_diff)[1]\n",
    "m = extract_max(output_ex_diff)[2]\n",
    "t = 1+np.arange(0, m.shape[0])\n",
    "ax.scatter(x,y,m, c=t, marker='o')\n",
    "# set log scale in y\n",
    "# ax.set_yscale('log')\n",
    "# set log scale in x\n",
    "# ax.set_xscale('log')\n",
    "\n",
    "plt.xlabel('x')\n",
    "plt.ylabel('y')\n",
    "\n",
    "plt.show()"
   ]
  },
  {
   "cell_type": "markdown",
   "metadata": {},
   "source": [
    "### Section 1 : diffusion in real space"
   ]
  },
  {
   "cell_type": "code",
   "execution_count": 18,
   "metadata": {
    "collapsed": true,
    "jupyter": {
     "outputs_hidden": true
    }
   },
   "outputs": [
    {
     "ename": "ValueError",
     "evalue": "Nx Value missing or not written as a number",
     "output_type": "error",
     "traceback": [
      "\u001b[1;31m---------------------------------------------------------------------------\u001b[0m",
      "\u001b[1;31mTypeError\u001b[0m                                 Traceback (most recent call last)",
      "\u001b[1;32m<ipython-input-6-486234f87221>\u001b[0m in \u001b[0;36mload_from_string\u001b[1;34m(params_str)\u001b[0m\n\u001b[0;32m     11\u001b[0m     \u001b[1;32mtry\u001b[0m\u001b[1;33m:\u001b[0m\u001b[1;33m\u001b[0m\u001b[1;33m\u001b[0m\u001b[0m\n\u001b[1;32m---> 12\u001b[1;33m         \u001b[0mdata\u001b[0m\u001b[1;33m[\u001b[0m\u001b[1;34m'Nx'\u001b[0m\u001b[1;33m]\u001b[0m \u001b[1;33m=\u001b[0m \u001b[0mnp\u001b[0m\u001b[1;33m.\u001b[0m\u001b[0mint\u001b[0m\u001b[1;33m(\u001b[0m\u001b[0mdata\u001b[0m\u001b[1;33m[\u001b[0m\u001b[1;34m'Nx'\u001b[0m\u001b[1;33m]\u001b[0m\u001b[1;33m)\u001b[0m\u001b[1;33m\u001b[0m\u001b[1;33m\u001b[0m\u001b[0m\n\u001b[0m\u001b[0;32m     13\u001b[0m     \u001b[1;32mexcept\u001b[0m \u001b[0mTypeError\u001b[0m\u001b[1;33m:\u001b[0m\u001b[1;33m\u001b[0m\u001b[1;33m\u001b[0m\u001b[0m\n",
      "\u001b[1;31mTypeError\u001b[0m: int() argument must be a string, a bytes-like object or a number, not 'NoneType'",
      "\nDuring handling of the above exception, another exception occurred:\n",
      "\u001b[1;31mValueError\u001b[0m                                Traceback (most recent call last)",
      "\u001b[1;32m<ipython-input-18-4984c264bb94>\u001b[0m in \u001b[0;36m<module>\u001b[1;34m()\u001b[0m\n\u001b[0;32m     11\u001b[0m \u001b[0mscheme\u001b[0m\u001b[1;33m:\u001b[0m \u001b[0meule\u001b[0m\u001b[1;33m\u001b[0m\u001b[1;33m\u001b[0m\u001b[0m\n\u001b[0;32m     12\u001b[0m \"\"\"\n\u001b[1;32m---> 13\u001b[1;33m \u001b[0mparams_diff\u001b[0m \u001b[1;33m=\u001b[0m \u001b[0mload_from_string\u001b[0m\u001b[1;33m(\u001b[0m\u001b[0mparams_for_diff\u001b[0m\u001b[1;33m)\u001b[0m\u001b[1;33m\u001b[0m\u001b[1;33m\u001b[0m\u001b[0m\n\u001b[0m\u001b[0;32m     14\u001b[0m \u001b[0mdisplay\u001b[0m\u001b[1;33m(\u001b[0m\u001b[0mparams_diff\u001b[0m\u001b[1;33m)\u001b[0m\u001b[1;33m\u001b[0m\u001b[1;33m\u001b[0m\u001b[0m\n",
      "\u001b[1;32m<ipython-input-6-486234f87221>\u001b[0m in \u001b[0;36mload_from_string\u001b[1;34m(params_str)\u001b[0m\n\u001b[0;32m     12\u001b[0m         \u001b[0mdata\u001b[0m\u001b[1;33m[\u001b[0m\u001b[1;34m'Nx'\u001b[0m\u001b[1;33m]\u001b[0m \u001b[1;33m=\u001b[0m \u001b[0mnp\u001b[0m\u001b[1;33m.\u001b[0m\u001b[0mint\u001b[0m\u001b[1;33m(\u001b[0m\u001b[0mdata\u001b[0m\u001b[1;33m[\u001b[0m\u001b[1;34m'Nx'\u001b[0m\u001b[1;33m]\u001b[0m\u001b[1;33m)\u001b[0m\u001b[1;33m\u001b[0m\u001b[1;33m\u001b[0m\u001b[0m\n\u001b[0;32m     13\u001b[0m     \u001b[1;32mexcept\u001b[0m \u001b[0mTypeError\u001b[0m\u001b[1;33m:\u001b[0m\u001b[1;33m\u001b[0m\u001b[1;33m\u001b[0m\u001b[0m\n\u001b[1;32m---> 14\u001b[1;33m         \u001b[1;32mraise\u001b[0m \u001b[0mValueError\u001b[0m\u001b[1;33m(\u001b[0m\u001b[1;34m'Nx Value missing or not written as a number'\u001b[0m\u001b[1;33m)\u001b[0m\u001b[1;33m\u001b[0m\u001b[1;33m\u001b[0m\u001b[0m\n\u001b[0m\u001b[0;32m     15\u001b[0m     \u001b[1;32mtry\u001b[0m\u001b[1;33m:\u001b[0m\u001b[1;33m\u001b[0m\u001b[1;33m\u001b[0m\u001b[0m\n\u001b[0;32m     16\u001b[0m         \u001b[0mdata\u001b[0m\u001b[1;33m[\u001b[0m\u001b[1;34m'Ny'\u001b[0m\u001b[1;33m]\u001b[0m \u001b[1;33m=\u001b[0m \u001b[0mnp\u001b[0m\u001b[1;33m.\u001b[0m\u001b[0mint\u001b[0m\u001b[1;33m(\u001b[0m\u001b[0mdata\u001b[0m\u001b[1;33m[\u001b[0m\u001b[1;34m'Ny'\u001b[0m\u001b[1;33m]\u001b[0m\u001b[1;33m)\u001b[0m\u001b[1;33m\u001b[0m\u001b[1;33m\u001b[0m\u001b[0m\n",
      "\u001b[1;31mValueError\u001b[0m: Nx Value missing or not written as a number"
     ]
    }
   ],
   "source": [
    "# fill this parameters to resolve time evolution of 1D diffusion\n",
    "\n",
    "params_for_diff = \"\"\"\n",
    "C: \n",
    "Nx: \n",
    "Tmax: \n",
    "Toutput: \n",
    "V: 0\n",
    "dt: \n",
    "dx: \n",
    "scheme: eule\n",
    "\"\"\"\n",
    "params_diff = load_from_string(params_for_diff)\n",
    "display(params_diff)"
   ]
  },
  {
   "cell_type": "markdown",
   "metadata": {},
   "source": [
    "### Section 2 : diffusion using Fourier decomposition"
   ]
  },
  {
   "cell_type": "markdown",
   "metadata": {},
   "source": [
    "When using Fourier decomposition, this time the main module is not any more h2d but h2d_spectral.\n",
    "So to run a new simulation you have to use the function h2d.simulate.\n",
    "\n",
    "Please note that the initial condition must be written as the function in real and not Fourier space. Moreover, outputs/snapshots are by default transformed to real spaces expressions"
   ]
  },
  {
   "cell_type": "code",
   "execution_count": null,
   "metadata": {},
   "outputs": [],
   "source": []
  },
  {
   "cell_type": "code",
   "execution_count": null,
   "metadata": {},
   "outputs": [],
   "source": [
    "params_ex_diff_fourier_str = \"\"\"\n",
    "C: 0.04\n",
    "Nx: 16\n",
    "Ny: 16\n",
    "Nm: 4\n",
    "Tmax: .0001\n",
    "Toutput: .00001 \n",
    "V: 0\n",
    "dt: 0.000000001\n",
    "dx: 0.1\n",
    "ky: 0.1\n",
    "scheme: eule\n",
    "# boundary can be default to use default boundaries implemented\n",
    "# or null to use the function null_bc (as asked in section 3.1)\n",
    "boundary: default\n",
    "\"\"\"\n",
    "params_ex_diff_fourier = load_from_string(params_ex_diff_fourier_str)\n",
    "display(params_ex_diff_fourier)"
   ]
  },
  {
   "cell_type": "code",
   "execution_count": 21,
   "metadata": {},
   "outputs": [
    {
     "name": "stdout",
     "output_type": "stream",
     "text": [
      "stability numbers : \n",
      "advection in x direction: 0.0\n",
      "advection in y direction: 0.0\n",
      "diffusion in x direction: 3.9999999999999994e-09\n",
      "diffusion in y direction: 3.9999999999999994e-09\n",
      "number of frames 10\n",
      "loop time  in µs 427551\n",
      "used time for 1 time step : 4.28\n",
      "Data saved to file : ./data_2D.npy\n"
     ]
    }
   ],
   "source": [
    "output_ex_diff_fourier = h2d_spectral.simulate(**params_ex_diff, init=initfield_2D, verbose=False)"
   ]
  },
  {
   "cell_type": "code",
   "execution_count": 28,
   "metadata": {},
   "outputs": [
    {
     "data": {
      "text/html": [
       "<video width=\"432\" height=\"288\" controls autoplay loop>\n",
       "  <source type=\"video/mp4\" src=\"data:video/mp4;base64,AAAAHGZ0eXBNNFYgAAACAGlzb21pc28yYXZjMQAAAAhmcmVlAAAjL21kYXQAAAKtBgX//6ncRem9\n",
       "5tlIt5Ys2CDZI+7veDI2NCAtIGNvcmUgMTU4IHIyOTg0IDM3NTlmY2IgLSBILjI2NC9NUEVHLTQg\n",
       "QVZDIGNvZGVjIC0gQ29weWxlZnQgMjAwMy0yMDE5IC0gaHR0cDovL3d3dy52aWRlb2xhbi5vcmcv\n",
       "eDI2NC5odG1sIC0gb3B0aW9uczogY2FiYWM9MSByZWY9MyBkZWJsb2NrPTE6MDowIGFuYWx5c2U9\n",
       "MHgzOjB4MTEzIG1lPWhleCBzdWJtZT03IHBzeT0xIHBzeV9yZD0xLjAwOjAuMDAgbWl4ZWRfcmVm\n",
       "PTEgbWVfcmFuZ2U9MTYgY2hyb21hX21lPTEgdHJlbGxpcz0xIDh4OGRjdD0xIGNxbT0wIGRlYWR6\n",
       "b25lPTIxLDExIGZhc3RfcHNraXA9MSBjaHJvbWFfcXBfb2Zmc2V0PS0yIHRocmVhZHM9OSBsb29r\n",
       "YWhlYWRfdGhyZWFkcz0xIHNsaWNlZF90aHJlYWRzPTAgbnI9MCBkZWNpbWF0ZT0xIGludGVybGFj\n",
       "ZWQ9MCBibHVyYXlfY29tcGF0PTAgY29uc3RyYWluZWRfaW50cmE9MCBiZnJhbWVzPTMgYl9weXJh\n",
       "bWlkPTIgYl9hZGFwdD0xIGJfYmlhcz0wIGRpcmVjdD0xIHdlaWdodGI9MSBvcGVuX2dvcD0wIHdl\n",
       "aWdodHA9MiBrZXlpbnQ9MjUwIGtleWludF9taW49NSBzY2VuZWN1dD00MCBpbnRyYV9yZWZyZXNo\n",
       "PTAgcmNfbG9va2FoZWFkPTQwIHJjPWNyZiBtYnRyZWU9MSBjcmY9MjMuMCBxY29tcD0wLjYwIHFw\n",
       "bWluPTAgcXBtYXg9NjkgcXBzdGVwPTQgaXBfcmF0aW89MS40MCBhcT0xOjEuMDAAgAAAGg5liIQA\n",
       "E//+97GPgU3IAA2XOop6H+EVsfSQUXqx2aBk6gAAAwAAiYGOFkC1uVpxUAEjj+HWci4ADoBYVmSi\n",
       "L1tR7MSqjNdguagGx0SVqUo0uA1TBYS6JKlmCzuK4JMxekz0YnJGeZGb8a9/NMnqSSFzd2CF/nzo\n",
       "h8VqrQxC8Cuh5ZX3hRyEhJT8nU82wO3yRssikzYLlioJsTDISXzTHmMe9Dyc8sho06rhtZMVExy/\n",
       "9gZObpRVtzGbosBYUscV3BVvEt/+XT7U4xQIGKn6XReAE/02NI1knsyZIs9YUAlDd3vmU1+X5gy/\n",
       "PyCFkq+yE8jmwrYNoJt78jmePLpVytRo09VXTy1RHkeaEWJHpXWlavZkoxthoME4O9OCchPTCl9B\n",
       "W5Vvlsx9l6soNNp+ZbKhkLDa99LX6S/y/vS4UdavkaVA75uA6y1blBdSkGBPkUGp7jPuGDk/3ogo\n",
       "X6fH/hFClRd2/Yy9sIJ+8S9YdpbXAHs2zunBOs17Y6KpTSyHOUNavHaZLr17MYzECKGAcpaTZ0Bb\n",
       "fFqGw8LKHgXLY8tsqu0uGiyQbK0GVjf41LWd5oK3ZjHBt63jR8Xo23y0AqA0vZm7ZQSPsnJCKXel\n",
       "XHKBuV1myke+kra5voh/XdsXRTfF1GINvgmqNkwIj/p1RvyzUIZDM4mBMeTCWTTDh/GJDuoaZ+2t\n",
       "iClvAuE8iP+b5QkAqDyV+BKgCHqrGvaDT2j5JexOkicTEJ6gbLGAbQyDe1/S6O0ivM1F4+ZkNIx4\n",
       "QBrNT+VngRobsGAeUSG/H97ABjoshm3zX3hhIKp0XqOqAhkK4bEZ//H3d7ha8MXR0581macqK0lR\n",
       "kAeCV8zT2j+qFG8jEjIu+cJ4zyLT+2O13+sTAYXoGEXkfXe/J2JpG9/BiyTcUTFPq7NYorNjr95z\n",
       "ZWpp2cj1PZopNdzl/qxjwnQ2dbXojP2zpOEirvH1Zjsv5VtOg2qKPFNLj45J1wtLA//L9jAEnDLo\n",
       "h6qEkc0brM1ZupptxOmewhloP5psbHV04BkiJ51W+cF0FnacE9udqlAxoffJ9YIdy7z0Jwz7KbOi\n",
       "uBQnN13FN12x/NxVvWyvQhYXU/htbu+haebHEnx7WuBwpfWGYokFNu7uLquDgYM5qNc6mpp/UknS\n",
       "A+XOAtgQHaL6XfRL0dTT2gAYLI/ld62KBTBW+DEuTY+Yp+2J3SG0zr1qHPWFJY+OSM/k9lq+O5P2\n",
       "6j5f40/Pp7ml0WTb9P91iHy4vUWPjxst/bQ/wV2Oz9ACc+ZkVLQzR+j0ws7DMxnaysKErSx3ZzhU\n",
       "HOAquGou/FgPfDp/XiCLeYJfoPR110+fnvxo41DPP5urFCq9Z+Tq67Fn9nUoAn6zqardplLSTkIZ\n",
       "t10d64YAGsKVZD+VQWfved+6Oat3wVNxhAoUIhDK8K5fSEpQpHoCz6jelL2qlfZfbhyjJIsCo/wk\n",
       "+5LBm7jGw1mXyA3zxZ7GlBbsdU0otB9jAoqghdrVsyWcnLowSvJwj0rbmK+6tH7pJPGvlsPuacIU\n",
       "Q+wcb+L2tKnwIp0oFCMA6AI8VLCrZ20spLBepzwbC2YG9J6XJTcxTcXGfMtV9b9bse60ZfrNMjUa\n",
       "PxAJQcVA3yYgVfJhyjqJ6o24fL8o/TN9+fY1Q6IG+9L9P0lLQ8APzVJxtKC447IKnXj1ww6KN9p+\n",
       "jxxQmZswKAFn50CkoPpxuRSQATyRSjltIHabzWlSDmE4KzdxF8aFIRhTpQP7SibyShHlyKbrqrx8\n",
       "d8FGsl3CjjnqnOA8bsxOf5EgfcD08lL+e7w4e4B+WcjB/rSKTsZ2AkXdAlm64De2ZrLEBRL77t37\n",
       "MUhCoNc0P50auUsjqsTyvjhbtBS+QbOYsQ9o04Jo0KpDp49zTCj7szY7ng5nx1UExo7B2XyePyE7\n",
       "+T32gJWwVj8LlPQhWLtuqzgcnsedW6IV5NhSvl8TsPiQYpSJvyz4ixCGsD///zIZuI8hiqr4u7Es\n",
       "ypDAgVPcOi7oXy4HkxPOAcETiHUot7yQs5AbiMp9aBQRCLyttXRDfM+RSkpnnXpv7AEqYkanSxGT\n",
       "Wbxt/a3srhZE98RkEZbAL5WoE/YsmbrtDWXPY17cYpH/XSl6TfQeTrdRdbdDSVsuuq0Bm4xRNLPS\n",
       "hfIkPVFsZ3xI7kwXfK+DZRKxZ5HbW6ox2BubFTdkrG5521U27HMZRmScr17SNhKzdETDtEE4xZtM\n",
       "Lh8RpuGDQ8nQ3v4zPRZM8wkkv43+MDyMj6Uq9CgGS0vdTpYCl8KGjp1UtY95rMAKwPcW4gtplELm\n",
       "BJofLA1Xvcb702krGHKwCNur67nAunOLrv4WpW50PXm4wu3zD6lyJ7gM0RYIFTGPNZuNkTkK37fs\n",
       "2Pnuq5BV3/BYVOQBstqbX3gdR2uJ6ZP2wE0Yn6U+bDxUwzsNyFQ/bqvO9YEuOSKU3K2fTmyChYfl\n",
       "TJpULX9GLknSvtmV/Yv/PdunIaJWCutJh3QB5KmIRTq8RZ6ursPyUSwo/E9OQn/L/8gNhVPuTqmK\n",
       "AHluG1uaa8j6vrr6tzqoniTf/yA+NuJV/xoz81gEklBQyGUq4XLr04lxzn+/ZGnC1yBU0G87FhnQ\n",
       "KdpmURfBeaa9g1fNQte+WNWJfPymsvzPogt0g6sk7jFmXnFYuWdcf0Yg8Ld9txMh2yGZ8OvxNA+f\n",
       "ip3ZBAF2GxSGOMu49kLFOaP1T2FLHVtHvnFwTsislvthuSk2KhPxuzAF2byqN4p9vVA2e/6+O753\n",
       "HqzpXQz43ab+c6LX1HFp4ItWhtrGx/xUPg88mDe97jXuH8ILlxs/fmlb42DtbXSKG6qem6lUzi68\n",
       "MbfybPAKChz5/O4eEH1DbDrxvPXnyujKFODKbP3DTDT7yKdeag87sSAcfyZhyh3H8CvLNYwBaN75\n",
       "tOpYGfrwGhAWvme8AWxFjwq3xX/CilCdm4PvhxV2SPr3+YyIs77MohSr7Eql+9noc9e77vTWtVkZ\n",
       "TKlI6lHxiZUUsH/PRJyMHg529dV2+E85zNEqhZdzNtYe9dWACEeuRIilILEK595e5NFdXMHAqqNU\n",
       "JEWh9eHIgaxElJhbzbIrouw7HnZv6x8CciOZ4GUBNQ/Qgul5LV6oCHRVRm1WS7jfjMZF6zEv4vQD\n",
       "n0J8z0eP0FyEyS6q43ukdyzlUh8+7ss5iqtQEoEfPJDJHqCyfddPN58zFR0RnVObYFG/NoBdr4TP\n",
       "4ApqaPODpy6pPQDZNclJHriw09itAV2tEbYZqA28OFhDLj1kw1H+FObkyXf291KwQZhAqbbZ9Lt6\n",
       "r9bkao9UflnXJXiRYdK3bswd/PBZgZKrDcxH1Qm2Hl56txt090xT0sLL1pTTY8+X8nryAM7lCyA5\n",
       "oYGMr/6mg2FMnMow9nQbzVJlUGrhoY0siVrFnsdnN0KatfXtoNBR5iNxmeSiyI8Llw3Y50Y4KqhQ\n",
       "i6/RWSoVBuu9SoQhiLAiGN4lCWJanyKkMnoBd+5l5llUVSls3g2ercHdoONXDLPIrP93dUwc3/5+\n",
       "FAxKRFKNQL8+MhcK4iHzF3+MQ9g5+OrGqlV4AFuwBNlesD+y33MwN2vw9AjE4enN+Wq0TqRzayfU\n",
       "H0N3yidvbWakxfdvgC3Kivyj9Xv3KiDio+PImnwlt/ykwA6YTBTjme7oR5LM7hdUmx/A+2U5D4fx\n",
       "e6fcD9zCHqpv44cvTJ51E4gdkCV1jBJdOt6uHXYMiGF8Ab8GUThS9S19pcu0ltXuHLy/81r6UHio\n",
       "wBM26uXsIqi5kNaH5ISkEQLfQDJkkQkezloIE7riXaO/yyuJi2zS4xzf/NW1bdAVDmkGkHwcudE5\n",
       "xACWl2E9NUJltuBnM3u5eGlROnT0US2Ys3D1xLBwHqdIB+XHGK3OqNq3eH3StSbKEiK+oQyz2nS9\n",
       "k4UcOWqxXhJpPEoW+qtcxFh9bZIP77wxKW97NJ160Uj7krq49qTt14Y9WyY7UkRVL3ZgeGyxL1LU\n",
       "6NJQXfCU1/7BlFrZrC1pqGWIzp9I1elUpLJIjHA8U/WBMCi1lw1Xsl/GqkrGLkDMv+LRjpk5bkTM\n",
       "OFG2maXnyunDUpVrHm46JojHXSJlq6hw6GQDdPMeDIcNqNUkXR1GwrV/hk4brmQxlA6ar8giBtgA\n",
       "F+N/suHurraX/ut1FD5GNYXyClnnUAxf/StNAqUKvyLfkrPdeK3IHWGnLG/onAM4M8E57dX1NEgl\n",
       "XaOJaEHH3JTBGkqzXo8ieRVVkiVfx6XO42qGUaz9RVFYUlfg+W8ttSvrwFJTgko9BhRd+UI4/mQe\n",
       "CAYmpPPdvFNpY97jxbfgN7pc2tFdjhJFLbtQ2c1X96bucEshBKnVTumFwWOvD0KNuyeH4rJEJqY/\n",
       "QI/rmIfN06mbpuvuRjJeJCIXs1rJp+64HoQ8z2MOAQb/SvjLXd6FfDG9Wkz7KuQTBAv3d5sSYLEZ\n",
       "QX+puqcZWMn8iSi/9I/I/Ww9wt3ED9U6TbZ2dbuNgQr8bYaQ7S9CAWoZHlgqVIjrMm9vzetpjGoW\n",
       "pu83ocCBB0Ev40HGv98vmo4NofjYVFBvJXqVzsSiyJNFA09diErwyhf+O/sllogVb+YYah2WdEJp\n",
       "BVJYAg808tRrYmXV/oo/uij/nx/JFfL0BYgktap2KZ22T2Q8xMKzRRdgOf3kOtB1w84wH8NCLbUK\n",
       "PEbjVhpyaAolYk4CUbgCl1WRp195IqFwzTqhcOWdQEjUToPZo8kb4C/UkbN+OlEVa1tcPveSQVBT\n",
       "pq6eRwjyuSvE/1CVAlOkqMoIAZfxB9j+bysIz6bpT8WJzza4bQ5+iOE52I1N/sKIwy3xpA2ZGBE2\n",
       "+iLOmqO4ckA2h+xIwSqbPzmF5Z7q/272qYGBFHYB2Typ2sjfvJmQdVB4OjbuChw6Z9bQ8HvwfPYB\n",
       "+vFb0tIpYXK50Ls26weIfdSdnVYyaBhHRFGY6yoblPT+YNtVfXV6Ebkd5RHrIlRni+oEwBdNf3TY\n",
       "ciu//3E1bJ1PqNhpvsZcunfQL+kivvsm+ZNOs3ve4FAZfAvGpS0cWmT3DUDgDE+ya7xrpRN2wJlW\n",
       "BgFVl9lR9HoeKHvAACmuAse/yc/AO1UGWIWYTNiAS+zEeBtzCVlu0/LiMsuEyQVl6taZNqfT18QL\n",
       "D9FFIcSNiAo38aXzwLGR2YWHbLTNomQrgeub1ltb5FMUBwFNLwJjO40ZfEeUl1tFjExgAU+N0Zd2\n",
       "vsXMBQrk1zfp/IIZq4CZgTtSo9JUTWe9pqPnK0mgx5AiFs+KYg058QPB+TnZo99At+Ti8ZbRXp9r\n",
       "6KZexll2zPX7a28tJGu40SxWnSMjgQTBo+PIJwzGZoi5l4NFkvP59edsaG1n4Dp3jpTcB8K0tByZ\n",
       "fM4Ru7bOhW8bO93+5VBTc7bJYurYE/bM6DrRC6LphaLHjzr5EUmpNkvq5hgegB5VqYWL/OgjNMi/\n",
       "RkWM7Ot+BzzRoOFwyr+9KPo5eFRburv6oWWLt6zBol/S116hWUaEU//0SSvHH/DNVQDRfjVIeQgP\n",
       "bkQD89cLyfOp5HXzYT1WPux8WtBvfLedEiNrABq9ixycBC1Apdrj9Heo9QOnpMI8rx1JMijAv0E/\n",
       "X5RE8216QxCwsiQnrOff3+kfLW+z5/SRNBphtFZef25wNKL89LYh6wOmyvNgoBq/O4nc+0Zgg/HJ\n",
       "egKABe/SpYpZKF1LPBSKS/LU0auFGzCGLir7vkjIBvQViiZrKiuhxFR+A+ColFoId3wV/p1myLdb\n",
       "Nlb7ozaB70dNgamjfKKZG6fTHDfbIjjcu3zGp6bC6BKSbrdCLiUIEDVbidzpqxDv6xLmICYIopp1\n",
       "3LvIujo+ehC6zIdnAcTVlUSiHtv5DEB6bJzDRpX51Yuz9KxopHj2hN6LiRb4s2y2pS1hPLjFXieG\n",
       "xBtjoAFkEQtgUFQ3BJpLRPMJwipX5Pv7TVyytNnS5NCrggSG0zurqKgl9SZZElG060cSBPI8g44A\n",
       "eR+baPKdCOnyq1TvOe5u/QWs/uKE/MgGAvy/J8wSY0f9+Lqfm/KxSW3skcP/RvTrH2Ug+sXgHbCH\n",
       "o55xvQOLUxEMbzhYbbgstQVfN2gwBYqbfF4+2KHf6ofk8ikh0zUE4sfsQy9EWP9+b7v17gzqQw8q\n",
       "72KKMf3wHn6hxXwmyHjOgDiKl2l9xPE2xZFzauY9eeSm6XGYA/LU2Lc44akuz6CazTl+XMWphkNP\n",
       "SQBtdRFXbfqPXCJ2KnfrmrGxQ6tLqNyAYFf6UTRTSpxY0LbMl4AsTmw7kcSiQoF0NBGg2i3KDjog\n",
       "S8Vo81hhfEWu+aSWmdP7jflViGLaQL4O6pAz6Bx9F0aFALC3PCMZZsQZTP8IqVaOAT42nirUz3F+\n",
       "VhslOYxJgaz5wV/JDFyNVA6r/y2dbA94h6QwzEAfvxMy+4CTAbaZsM0jq1tVNU2jEB7+jUdvyG5S\n",
       "mEANygbvPW5XEvjveaQYsP1dDdY5Tz7HvaWRLb6zdGUUWL+M5A4/tBTr9/Hmh/Y6UWEXbkYnY87A\n",
       "xt2HelFRm5kaFty2fqiqzBBufQujVEExPZ3di7EgvVv/yX9HVpbEmzFuO/ilnsUWmw36X8QFth+m\n",
       "GCvikwwNaWK0wEY9D4Luv1AnQJ6hCosc98HbD06tV8BGdNMNlPENALEauNdwnv/KE2ryKeqMGgpg\n",
       "d77IGuWrm6rG1jR7Hf39n0b9l1sJazfY+U/AW1r3PjPhzjnSJDKZkWcE88GoZeMd+OwpsgW6XvSv\n",
       "QKTfCTo9bbm1KF8UBnLgjqun/VcYhf8zkxlOJZ+BL1A+/0OKMZbhiB+iocf5z4oZ53u3Mg3KVy14\n",
       "JLVg5aa3+rHffagYjCiQHowExKUavJrWTr4gcav9ZrenfYsRW84rlvtZ63iBdZivZQyw/Qjg7S+9\n",
       "OZ0h9sBHxzJg2rTytxVWH4Xq6cfhor5PovNeoeio8/fDd1lrYsF5nTncxEjWRyyt+1Tlt/Gzzqnu\n",
       "gmnz/4DmO/escrNc1bQLw0qTYPTvkS46IUAhd/bJshwx7J7e8NkgouKN8AEGESVxyWpm/jVJIX7F\n",
       "s6EeG5TZV2h03Lt2HVqW44iQKjnxvGi8nKjSumc+Od0vITcpogvGoxduK0BJ9MUYSlpOSizxBJWj\n",
       "E3c/o2j2xqaLPiwgGmNKBMIBBGzx0sLOLFj+AEtbyhUB4VQxvJcDaEaEG492JqKGCvzOMJRKm2br\n",
       "Tfmwh8CDH7rh+/Zd7BNx4Ei5MHgJ+L09bENuSX4mo9CaLLp1t1wfcQz/qxFY28fT3qpdnY7kazEE\n",
       "lu+Uy/T2xUoPHuYNfe9/asmlgS1O6mCoRZNef6Cr5DjPG5YKIXuEadTnD3h8TtaZkBKPgWTD6hwi\n",
       "ykG3U8v8prl2mxsFWYcHCsWo3JfJblUQ3xKhyhjLBxWqdOA1cJNQYiHSI6CKykWQuD4JpHuOriVy\n",
       "gpPi5crWpJ5ivoH0Ef2JdvSmwGGX9ilCodIqWJ8QN0Ovf5nbpDplCPW12eTrToMJi1W5OKnFgyqT\n",
       "vYNbCxPccUxu5Um0WNReQpr6zl06Gs28JV75A/rv61Kf2WAo5F6nwwLXsfaXIZFrOoZZo9FRpGER\n",
       "VjZucIXksptwgA+GtW8qeRguWPKDOaP3cBnE7PDeGZrmK5l3M6qIRZrE99lbyVObbKZVW1uOnBUv\n",
       "x6Zu85M3W/eTSG++lLLB6YOWYi3iqc32p1T+fupwslCIgUoJAI8ndclV7siaGoIfvVBG+HkF63Q3\n",
       "7ns2i7rfAeWZas0lqeXVxAElvqYBFRx3w2lVDAXFdrPwjG6YZfA1gFewjbB7QwnhSBo4bqVaClZ3\n",
       "Tp3yQsqYOSpysQNDEs+VQl/df0igSDROJ5sZrK4WNoogn7DMUbATzVC75F6ShewA5rCNFlAoH7Zp\n",
       "5F/PokstzL8ABXP4lP//gdLF9PLCeKepVZsip3PbAvlHgXrgeTCTubeLpPaekn9n0mMj0M/r6mxj\n",
       "OlizaQidFcolemjRCNYN7vrXhacFdOSBW+qiKwtFa7NKo9u8vb/0HYKJR4T47O7LPxrMB35u60kc\n",
       "b8p3O6kxyLJCih6snDPC/ivkIdJbDXzS+73LhpnGPgesdQGv/x+Ch62pCHtQMf4/Il36Djixu2pi\n",
       "LcIBJ9hAs002xcW6w5Fz/VNRPTZ2vpzeCqXnR6V89xDNROpd7GcuYfWon61Sq0BKHmXsOEgFkZOq\n",
       "4ge4mPq2f2vUDi0gY/iqtetaiBX6uFiKEyFeBpIaInCgDRJzRw4QtkO4/STTSarkiXPPdsk5JQwz\n",
       "5X4XQ0oJ416okjA6QGfpf3ROK90aAAcOPfUyYIMLyCpwuwsiw/V/h6e6p4B/4cFdmyrrAupbSoRv\n",
       "ZHieE9PmZ6jpg0Zd5atSmoJvr/yKaJE+VJsKV3oQm4qWiahy3dkI/JY9vWrzcNy6RTFn/Sx7t8Yg\n",
       "4GbrQquvTwL74Wn17oohAJdarNV4FNOMl5JPyHweF+8lDELiPe9LwOfZcKft1J7HhP78f6ddXiom\n",
       "Vlt2Uq1FgFa9EsbZGOTrT87KfL1RFsZs6+yr3enzUgrvkWkbY7tcvUDYnxM8ZxNxQlvZ8rwtxp3i\n",
       "giJ0jHB6p6wv9ZsqPvUx3uNhGir5Xc3uIivy6qjLvDq0uf9L0ZTAu6AodQE5nq8dR1jAFyzE2yQG\n",
       "Ec6mTcoKpPNc5+sMz7XhcsEFufExGCqedbFYxMuwa3VZwlfwMbK8gBQ5pQjrMeX8l5+j2JiQW6rp\n",
       "I68rTnizQJlU9H3T27H//yUZGX/nPKvfYPols+4s5/jea7grfdd3q1htTzi5VrtL8Ghuytx0au6T\n",
       "a+LCYI4mSYWp01siYV/A27LUps1WrYbJhOnDyy1PBU1V9Y59u1ryfoxLa5Z/JJ6cPubcys2xAnY+\n",
       "TTn162+xLvCocb8+CzAWsUU21vRz5Q9QckE7lZiwUXe+bo5rg/zhfINrW8FJ0JJMAAJzQFHBAAAE\n",
       "mUGaJGxBL/61KoAiixWIASuQ6/kGXRJlP9aAxa1xfRShyhsGezANMYsNaBj1x8scrqMcEJISyXDs\n",
       "Xv+ZfrZ3ZJwFey1/Er3UiVZ6myBX+9+IrJe4fWtsOZj4vdTCOR5bsMeg4BA3mliriOvH4sRdEUL5\n",
       "gG6d4CN+TIMP7DDtuT4XAcbywcDbO6RW2hwyWboCM9F9KR1Q5tkNSRHFyzB0ObuUVBmDyt/foNrw\n",
       "9RUeZYBDwxxPLy+MgyLBINd3NzlUqSeWFQuPdqkto+wqKJ2iPW9tGdXfp+6A4UNFSHn0E9rtRISg\n",
       "MkL6E1Ctb7l1nqS775r9aAIiSCogfVhcTAHaJluzWJ8r9WqSzFnw57oULW4lY0wNkVhJx+9gaaD1\n",
       "EZfVx+thVlRGEVMndhTPz6Y5dFHxa4PfA2qAbEQEn6taDNOeHKH6wXlkN1pFyQiMIX7Qy/JzL9tt\n",
       "hx5B6Va0q2XS8xGx+iRE569avGgK0ipXBwkERAG0xez5MolVauT5mYR8GUcsRBTDnOE24kn0HpR+\n",
       "s71ekRsNnQ3bq8JmCqbIVLkHYPzWM81D7XKMLexMq+8whQXNCDLR6TwrWZwZc30ZKnwxNgJYw1/P\n",
       "/REMkqqjvkxAY0+D1KkTbdypFHFS/egl3zTEsrUDqMlQv2+hvnsGisKTwPGmPA5njtVi+yWTgtzh\n",
       "TToBFhd0zfvZ/PSpg4Ds4t45nnc1v/dkBtNhsJ+MHLtl+0qFZWfzqr9dMcAtB2mFnYJlP/rpN1EG\n",
       "+/yEZmJ7em5y2mkU7fNd8whxPfvt35G/EKhgYYEvfX28VgQu9XgNmzWRdbY+H9KPDQVeoyriMNtq\n",
       "mxMsY7qiXVSDVPi5rxF4XbvPH0BlJRghvs7kEGVXlrbnf+st9G1VZLTvFS7HHm0r0PHDmSqDY71z\n",
       "mlUo1m+3wkcGU6h2WnjKAfkhsvl09faE9Ab4cB4mjS7KBB0oUIWYJMnG5mSY/it1IBOQvBfn2Cc9\n",
       "fPo0uWr5H2dTDXEzZjUdiRCnWa38P0bIiBOtNHDcTWJ3Au/QhHaIPdb8iWnG/ghtVc1l67CL6r+8\n",
       "v8Fi2CyL8gSee40SUvIztqm4uUg2PqjC4dJbp/wwo5Kb4/zghpSCJDWJAtAy+fttFvuJBTF9KgHK\n",
       "txFkV37K+nmmsfK+gCxYeKi2PsLBH5VWJ/D4YzbONZpk+Z03LjttKN22pxpct6j0HlwoZo4XkdDA\n",
       "syIk63xBqba3nXhOqvmmFekuKUt0a9n5c9qkZmjMgbQ1zBPYrrUPgPeaTWw28Ej3JwxvCfKBpa33\n",
       "yujoQzGWM6XPQUmkXf4oeJRwaHxI3tskJnVhOfYSh+xy+rxq0aBFw1o1wNGjB9rN62rf6GDdpeJ/\n",
       "wGmysy+kPO4IOIdq/3HAwJ9FU/E+O4C03rx7EKrMqrDWG1ioejyzFMmIErJkUQzPBSND9V5mGHew\n",
       "D7mqsa6uR3CqGHz2huT4aiHdxQqzjfn1y7kE0rakd/34QTAUu5QqR3tUUKNar1LllduHf/Dkn7Ri\n",
       "mfCZcQ+FD03WWPMR68KUA5duO1Sx+/8yuYX7tNWs8NPjeNFgckAAAACUQZ5CeIIfACOIdqgpW0oN\n",
       "pvQALDXMKgXWYzbydiMC/hz449WtNAohc5c4co9rwrkadppz/illQRUgtBbgXKAVZCpNNCO8dAnh\n",
       "8WLyzpIIDpDEWCzLFKfM75yF+6v+RRw55KLqwoTsQOxoaF9YN8yYRo1QQ7chLyyl1exriqmHFpUf\n",
       "v3Fx3cpKcat/Ls2RAr+rC4cJyQAAAFcBnmF0Q/8AZSJup4FCFm/ylN8nw/gWQ5rfooBWaIBaTdmB\n",
       "CHj059Bm640VXGI6Yryfc6RiroxA1KuP7jPkTQTwXtV8vIJo7EW/g/HFY+Xq1dfipXbIxYAAAAAm\n",
       "AZ5jakP/AGUQgcP50c+cW7wbs3po8ah3vmuiJFEPw9DXYpUStzUAAAA0QZpoSahBaJlMCH///qmW\n",
       "AJAs3LsUnAB3RD363b9ZM1u6nuPu/nPH3Lk1Dbfhg5xH4ujeEQAAADJBnoZFESwQ/wAXL5+2crB6\n",
       "4lgzzZZO8CbJ4pHQAduEvcIcJqoihONjB77yGHnXJvc6gQAAAB0BnqV0Q/8AMzdKVf13/KTr0HFK\n",
       "Ok7CDhrjz6IqYQAAABcBnqdqQ/8AAAUdH5iesdrnceYctFUjgAAAA5ptb292AAAAbG12aGQAAAAA\n",
       "AAAAAAAAAAAAAAPoAAAHCAABAAABAAAAAAAAAAAAAAAAAQAAAAAAAAAAAAAAAAAAAAEAAAAAAAAA\n",
       "AAAAAAAAAEAAAAAAAAAAAAAAAAAAAAAAAAAAAAAAAAAAAAAAAAACAAACxHRyYWsAAABcdGtoZAAA\n",
       "AAMAAAAAAAAAAAAAAAEAAAAAAAAHCAAAAAAAAAAAAAAAAAAAAAAAAQAAAAAAAAAAAAAAAAAAAAEA\n",
       "AAAAAAAAAAAAAAAAAEAAAAABsAAAASAAAAAAACRlZHRzAAAAHGVsc3QAAAAAAAAAAQAABwgAABAA\n",
       "AAEAAAAAAjxtZGlhAAAAIG1kaGQAAAAAAAAAAAAAAAAAACgAAABIAFXEAAAAAAAtaGRscgAAAAAA\n",
       "AAAAdmlkZQAAAAAAAAAAAAAAAFZpZGVvSGFuZGxlcgAAAAHnbWluZgAAABR2bWhkAAAAAQAAAAAA\n",
       "AAAAAAAAJGRpbmYAAAAcZHJlZgAAAAAAAAABAAAADHVybCAAAAABAAABp3N0YmwAAACzc3RzZAAA\n",
       "AAAAAAABAAAAo2F2YzEAAAAAAAAAAQAAAAAAAAAAAAAAAAAAAAABsAEgAEgAAABIAAAAAAAAAAEA\n",
       "AAAAAAAAAAAAAAAAAAAAAAAAAAAAAAAAAAAAAAAAAAAY//8AAAAxYXZjQwFkABX/4QAYZ2QAFazZ\n",
       "QbCWhAAAAwAEAAADACg8WLZYAQAGaOvjyyLAAAAAHHV1aWRraEDyXyRPxbo5pRvPAyPzAAAAAAAA\n",
       "ABhzdHRzAAAAAAAAAAEAAAAJAAAIAAAAABRzdHNzAAAAAAAAAAEAAAABAAAAWGN0dHMAAAAAAAAA\n",
       "CQAAAAEAABAAAAAAAQAAKAAAAAABAAAQAAAAAAEAAAAAAAAAAQAACAAAAAABAAAoAAAAAAEAABAA\n",
       "AAAAAQAAAAAAAAABAAAIAAAAABxzdHNjAAAAAAAAAAEAAAABAAAACQAAAAEAAAA4c3RzegAAAAAA\n",
       "AAAAAAAACQAAHMMAAASdAAAAmAAAAFsAAAAqAAAAOAAAADYAAAAhAAAAGwAAABRzdGNvAAAAAAAA\n",
       "AAEAAAAsAAAAYnVkdGEAAABabWV0YQAAAAAAAAAhaGRscgAAAAAAAAAAbWRpcmFwcGwAAAAAAAAA\n",
       "AAAAAAAtaWxzdAAAACWpdG9vAAAAHWRhdGEAAAABAAAAAExhdmY1OC4yOS4xMDA=\n",
       "\">\n",
       "  Your browser does not support the video tag.\n",
       "</video>"
      ],
      "text/plain": [
       "<IPython.core.display.HTML object>"
      ]
     },
     "execution_count": 28,
     "metadata": {},
     "output_type": "execute_result"
    },
    {
     "data": {
      "image/png": "[encoded data removed]",
      "text/plain": [
       "<Figure size 432x288 with 2 Axes>"
      ]
     },
     "metadata": {
      "needs_background": "light"
     },
     "output_type": "display_data"
    }
   ],
   "source": [
    "%matplotlib inline\n",
    "\n",
    "plot_results(output_ex_diff_fourier, -1)"
   ]
  },
  {
   "cell_type": "code",
   "execution_count": 27,
   "metadata": {},
   "outputs": [
    {
     "data": {
      "image/png": "[encoded data removed]",
      "text/plain": [
       "<Figure size 720x720 with 1 Axes>"
      ]
     },
     "metadata": {
      "needs_background": "light"
     },
     "output_type": "display_data"
    }
   ],
   "source": [
    "%matplotlib inline\n",
    "\n",
    "plot_2d_profile(output_ex_diff_fourier, -1)"
   ]
  },
  {
   "cell_type": "code",
   "execution_count": null,
   "metadata": {},
   "outputs": [],
   "source": []
  }
 ],
 "metadata": {
  "kernelspec": {
   "display_name": "Python 3",
   "language": "python",
   "name": "python3"
  },
  "language_info": {
   "codemirror_mode": {
    "name": "ipython",
    "version": 3
   },
   "file_extension": ".py",
   "mimetype": "text/x-python",
   "name": "python",
   "nbconvert_exporter": "python",
   "pygments_lexer": "ipython3",
   "version": "3.7.4"
  }
 },
 "nbformat": 4,
 "nbformat_minor": 4
}
