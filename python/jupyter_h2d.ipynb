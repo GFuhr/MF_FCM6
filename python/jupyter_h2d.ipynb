{
 "cells": [
  {
   "cell_type": "markdown",
   "metadata": {},
   "source": [
    "# Student name and e-mail"
   ]
  },
  {
   "cell_type": "markdown",
   "metadata": {},
   "source": [
    "name : \n",
    "\n",
    "e-mail : "
   ]
  },
  {
   "cell_type": "code",
   "execution_count": 31,
   "metadata": {},
   "outputs": [],
   "source": [
    "USE_GOOGLE_COLAB = False"
   ]
  },
  {
   "cell_type": "code",
   "execution_count": null,
   "metadata": {},
   "outputs": [],
   "source": []
  },
  {
   "cell_type": "markdown",
   "metadata": {},
   "source": [
    "# python modules"
   ]
  },
  {
   "cell_type": "code",
   "execution_count": 32,
   "metadata": {},
   "outputs": [
    {
     "name": "stdout",
     "output_type": "stream",
     "text": [
      "The cython extension is already loaded. To reload it, use:\n",
      "  %reload_ext cython\n"
     ]
    }
   ],
   "source": [
    "%load_ext cython"
   ]
  },
  {
   "cell_type": "code",
   "execution_count": 33,
   "metadata": {},
   "outputs": [
    {
     "data": {
      "text/plain": [
       "'Good News, YAML format accepted'"
      ]
     },
     "metadata": {},
     "output_type": "display_data"
    }
   ],
   "source": [
    "import matplotlib\n",
    "# matplotlib.use('Qt5Agg')\n",
    "from IPython.display import HTML\n",
    "import matplotlib.pyplot as plt\n",
    "from matplotlib import animation\n",
    "\n",
    "import cython\n",
    "import datetime\n",
    "import numpy as np\n",
    "import os\n",
    "try:\n",
    "    import yaml\n",
    "    HAS_YAML=True\n",
    "    display('Good News, YAML format accepted')\n",
    "except ImportError:\n",
    "    import json as js\n",
    "    HAS_YAML=False\n",
    "    display('only json accepted')\n",
    "\n",
    "%matplotlib inline"
   ]
  },
  {
   "cell_type": "markdown",
   "metadata": {},
   "source": [
    "function used to generate animations and compute computation time"
   ]
  },
  {
   "cell_type": "markdown",
   "metadata": {},
   "source": [
    "# Additional functions\n",
    "\n",
    "<font size=3>\n",
    "    Functions defined here have been made to simplify representation of outputs. These functions are not part of the labs and can be used directly\n",
    "</font>"
   ]
  },
  {
   "cell_type": "code",
   "execution_count": 34,
   "metadata": {},
   "outputs": [],
   "source": [
    "from utils.timer import Timer\n",
    "from utils.plotting import plot_results, plot_profile, figformat, plot_2d_profile"
   ]
  },
  {
   "cell_type": "code",
   "execution_count": 35,
   "metadata": {},
   "outputs": [],
   "source": [
    "from utils.file import save_outputs\n",
    "\n",
    "def save_with_params(output, params):\n",
    "    prefix = ''\n",
    "    if params.get('C', None) is not None:\n",
    "        prefix = 'diff_'\n",
    "    if params.get('V', None) is not None:\n",
    "        prefix += 'adv_'\n",
    "    prefix += '{0:03d}_'.format(params['Nx'])\n",
    "    save_outputs(output, prefix=prefix)"
   ]
  },
  {
   "cell_type": "code",
   "execution_count": 36,
   "metadata": {},
   "outputs": [],
   "source": [
    "def load_from_string(params_str:str):\n",
    "    \"\"\"\n",
    "    function used to load parameters from a string and load it into a dict used by simulations\n",
    "    return : dict or ValueError if scheme is not correct\n",
    "    \"\"\"\n",
    "    if not HAS_YAML:\n",
    "        data = js.loads(params_str)\n",
    "    else:\n",
    "        data = yaml.safe_load (params_str)\n",
    "    data['V'] = np.double(data['V'])\n",
    "    try:\n",
    "        data['Nx'] = np.int(data['Nx'])\n",
    "    except TypeError:\n",
    "        raise ValueError('Nx Value missing or not written as a number')\n",
    "    try:\n",
    "        data['Ny'] = np.int(data['Ny'])\n",
    "    except TypeError:\n",
    "        raise ValueError('Ny Value missing or not written as a number')\n",
    "    except KeyError:\n",
    "        print('Ny key not found')\n",
    "    data['scheme'] = data['scheme'].lower().strip()\n",
    "    if data['scheme'] not in ('eule', 'euli', 'rk2', 'rk4', 'cn'):\n",
    "        raise ValueError('unknown time scheme')\n",
    "    return data"
   ]
  },
  {
   "cell_type": "markdown",
   "metadata": {},
   "source": [
    "# Finite difference solver imported from the h2d directory"
   ]
  },
  {
   "cell_type": "code",
   "execution_count": 37,
   "metadata": {},
   "outputs": [
    {
     "data": {
      "text/html": [
       "<font size=4> data saved in the ./run subfolder </font>"
      ],
      "text/plain": [
       "<IPython.core.display.HTML object>"
      ]
     },
     "metadata": {},
     "output_type": "display_data"
    }
   ],
   "source": [
    "os.getcwd()\n",
    "folder = os.path.split(os.getcwd())\n",
    "if ('h2d' in folder) or ('advdiff' in folder):\n",
    "    try:\n",
    "        os.mkdir('../run')\n",
    "    except FileExistsError:\n",
    "        pass\n",
    "    os.chdir('../run')\n",
    "elif ('run' in folder):\n",
    "    pass\n",
    "elif ('python' in folder):\n",
    "    try:\n",
    "        os.mkdir('./run')\n",
    "    except FileExistsError:\n",
    "        pass\n",
    "    os.chdir('./run')\n",
    "    \n",
    "display(HTML('<font size=4> data saved in the ./run subfolder </font>'))"
   ]
  },
  {
   "cell_type": "code",
   "execution_count": 38,
   "metadata": {},
   "outputs": [
    {
     "ename": "TypeError",
     "evalue": "dist must be a Distribution instance",
     "output_type": "error",
     "traceback": [
      "\u001b[1;31m---------------------------------------------------------------------------\u001b[0m",
      "\u001b[1;31mTypeError\u001b[0m                                 Traceback (most recent call last)",
      "\u001b[1;32m<ipython-input-38-5c923349f46d>\u001b[0m in \u001b[0;36m<module>\u001b[1;34m()\u001b[0m\n\u001b[1;32m----> 1\u001b[1;33m \u001b[0mget_ipython\u001b[0m\u001b[1;33m(\u001b[0m\u001b[1;33m)\u001b[0m\u001b[1;33m.\u001b[0m\u001b[0mrun_cell_magic\u001b[0m\u001b[1;33m(\u001b[0m\u001b[1;34m'cython'\u001b[0m\u001b[1;33m,\u001b[0m \u001b[1;34m''\u001b[0m\u001b[1;33m,\u001b[0m \u001b[1;34m\"import numpy as np\\nimport pyximport\\nimport setuptools\\n\\npyximport.install(reload_support=True, setup_args = {'include_dirs': np.get_include()})\"\u001b[0m\u001b[1;33m)\u001b[0m\u001b[1;33m\u001b[0m\u001b[1;33m\u001b[0m\u001b[0m\n\u001b[0m",
      "\u001b[1;32mC:\\Users\\Guillaume\\Miniconda3\\lib\\site-packages\\IPython\\core\\interactiveshell.py\u001b[0m in \u001b[0;36mrun_cell_magic\u001b[1;34m(self, magic_name, line, cell)\u001b[0m\n\u001b[0;32m   2115\u001b[0m             \u001b[0mmagic_arg_s\u001b[0m \u001b[1;33m=\u001b[0m \u001b[0mself\u001b[0m\u001b[1;33m.\u001b[0m\u001b[0mvar_expand\u001b[0m\u001b[1;33m(\u001b[0m\u001b[0mline\u001b[0m\u001b[1;33m,\u001b[0m \u001b[0mstack_depth\u001b[0m\u001b[1;33m)\u001b[0m\u001b[1;33m\u001b[0m\u001b[1;33m\u001b[0m\u001b[0m\n\u001b[0;32m   2116\u001b[0m             \u001b[1;32mwith\u001b[0m \u001b[0mself\u001b[0m\u001b[1;33m.\u001b[0m\u001b[0mbuiltin_trap\u001b[0m\u001b[1;33m:\u001b[0m\u001b[1;33m\u001b[0m\u001b[1;33m\u001b[0m\u001b[0m\n\u001b[1;32m-> 2117\u001b[1;33m                 \u001b[0mresult\u001b[0m \u001b[1;33m=\u001b[0m \u001b[0mfn\u001b[0m\u001b[1;33m(\u001b[0m\u001b[0mmagic_arg_s\u001b[0m\u001b[1;33m,\u001b[0m \u001b[0mcell\u001b[0m\u001b[1;33m)\u001b[0m\u001b[1;33m\u001b[0m\u001b[1;33m\u001b[0m\u001b[0m\n\u001b[0m\u001b[0;32m   2118\u001b[0m             \u001b[1;32mreturn\u001b[0m \u001b[0mresult\u001b[0m\u001b[1;33m\u001b[0m\u001b[1;33m\u001b[0m\u001b[0m\n\u001b[0;32m   2119\u001b[0m \u001b[1;33m\u001b[0m\u001b[0m\n",
      "\u001b[1;32m<C:\\Users\\Guillaume\\Miniconda3\\lib\\site-packages\\decorator.py:decorator-gen-126>\u001b[0m in \u001b[0;36mcython\u001b[1;34m(self, line, cell)\u001b[0m\n",
      "\u001b[1;32mC:\\Users\\Guillaume\\Miniconda3\\lib\\site-packages\\IPython\\core\\magic.py\u001b[0m in \u001b[0;36m<lambda>\u001b[1;34m(f, *a, **k)\u001b[0m\n\u001b[0;32m    186\u001b[0m     \u001b[1;31m# but it's overkill for just that one bit of state.\u001b[0m\u001b[1;33m\u001b[0m\u001b[1;33m\u001b[0m\u001b[1;33m\u001b[0m\u001b[0m\n\u001b[0;32m    187\u001b[0m     \u001b[1;32mdef\u001b[0m \u001b[0mmagic_deco\u001b[0m\u001b[1;33m(\u001b[0m\u001b[0marg\u001b[0m\u001b[1;33m)\u001b[0m\u001b[1;33m:\u001b[0m\u001b[1;33m\u001b[0m\u001b[1;33m\u001b[0m\u001b[0m\n\u001b[1;32m--> 188\u001b[1;33m         \u001b[0mcall\u001b[0m \u001b[1;33m=\u001b[0m \u001b[1;32mlambda\u001b[0m \u001b[0mf\u001b[0m\u001b[1;33m,\u001b[0m \u001b[1;33m*\u001b[0m\u001b[0ma\u001b[0m\u001b[1;33m,\u001b[0m \u001b[1;33m**\u001b[0m\u001b[0mk\u001b[0m\u001b[1;33m:\u001b[0m \u001b[0mf\u001b[0m\u001b[1;33m(\u001b[0m\u001b[1;33m*\u001b[0m\u001b[0ma\u001b[0m\u001b[1;33m,\u001b[0m \u001b[1;33m**\u001b[0m\u001b[0mk\u001b[0m\u001b[1;33m)\u001b[0m\u001b[1;33m\u001b[0m\u001b[1;33m\u001b[0m\u001b[0m\n\u001b[0m\u001b[0;32m    189\u001b[0m \u001b[1;33m\u001b[0m\u001b[0m\n\u001b[0;32m    190\u001b[0m         \u001b[1;32mif\u001b[0m \u001b[0mcallable\u001b[0m\u001b[1;33m(\u001b[0m\u001b[0marg\u001b[0m\u001b[1;33m)\u001b[0m\u001b[1;33m:\u001b[0m\u001b[1;33m\u001b[0m\u001b[1;33m\u001b[0m\u001b[0m\n",
      "\u001b[1;32mC:\\Users\\Guillaume\\Miniconda3\\lib\\site-packages\\Cython\\Build\\IpythonMagic.py\u001b[0m in \u001b[0;36mcython\u001b[1;34m(self, line, cell)\u001b[0m\n\u001b[0;32m    331\u001b[0m \u001b[1;33m\u001b[0m\u001b[0m\n\u001b[0;32m    332\u001b[0m         self._build_extension(extension, lib_dir, pgo_step_name='use' if args.pgo else None,\n\u001b[1;32m--> 333\u001b[1;33m                               quiet=args.quiet)\n\u001b[0m\u001b[0;32m    334\u001b[0m \u001b[1;33m\u001b[0m\u001b[0m\n\u001b[0;32m    335\u001b[0m         \u001b[0mmodule\u001b[0m \u001b[1;33m=\u001b[0m \u001b[0mimp\u001b[0m\u001b[1;33m.\u001b[0m\u001b[0mload_dynamic\u001b[0m\u001b[1;33m(\u001b[0m\u001b[0mmodule_name\u001b[0m\u001b[1;33m,\u001b[0m \u001b[0mmodule_path\u001b[0m\u001b[1;33m)\u001b[0m\u001b[1;33m\u001b[0m\u001b[1;33m\u001b[0m\u001b[0m\n",
      "\u001b[1;32mC:\\Users\\Guillaume\\Miniconda3\\lib\\site-packages\\Cython\\Build\\IpythonMagic.py\u001b[0m in \u001b[0;36m_build_extension\u001b[1;34m(self, extension, lib_dir, temp_dir, pgo_step_name, quiet)\u001b[0m\n\u001b[0;32m    436\u001b[0m     \u001b[1;32mdef\u001b[0m \u001b[0m_build_extension\u001b[0m\u001b[1;33m(\u001b[0m\u001b[0mself\u001b[0m\u001b[1;33m,\u001b[0m \u001b[0mextension\u001b[0m\u001b[1;33m,\u001b[0m \u001b[0mlib_dir\u001b[0m\u001b[1;33m,\u001b[0m \u001b[0mtemp_dir\u001b[0m\u001b[1;33m=\u001b[0m\u001b[1;32mNone\u001b[0m\u001b[1;33m,\u001b[0m \u001b[0mpgo_step_name\u001b[0m\u001b[1;33m=\u001b[0m\u001b[1;32mNone\u001b[0m\u001b[1;33m,\u001b[0m \u001b[0mquiet\u001b[0m\u001b[1;33m=\u001b[0m\u001b[1;32mTrue\u001b[0m\u001b[1;33m)\u001b[0m\u001b[1;33m:\u001b[0m\u001b[1;33m\u001b[0m\u001b[1;33m\u001b[0m\u001b[0m\n\u001b[0;32m    437\u001b[0m         build_extension = self._get_build_extension(\n\u001b[1;32m--> 438\u001b[1;33m             extension, lib_dir=lib_dir, temp_dir=temp_dir, pgo_step_name=pgo_step_name)\n\u001b[0m\u001b[0;32m    439\u001b[0m         \u001b[0mold_threshold\u001b[0m \u001b[1;33m=\u001b[0m \u001b[1;32mNone\u001b[0m\u001b[1;33m\u001b[0m\u001b[1;33m\u001b[0m\u001b[0m\n\u001b[0;32m    440\u001b[0m         \u001b[1;32mtry\u001b[0m\u001b[1;33m:\u001b[0m\u001b[1;33m\u001b[0m\u001b[1;33m\u001b[0m\u001b[0m\n",
      "\u001b[1;32mC:\\Users\\Guillaume\\Miniconda3\\lib\\site-packages\\Cython\\Build\\IpythonMagic.py\u001b[0m in \u001b[0;36m_get_build_extension\u001b[1;34m(self, extension, lib_dir, temp_dir, pgo_step_name, _build_ext)\u001b[0m\n\u001b[0;32m    517\u001b[0m                     \u001b[0mbase_build_ext\u001b[0m\u001b[1;33m.\u001b[0m\u001b[0mbuild_extensions\u001b[0m\u001b[1;33m(\u001b[0m\u001b[0mself\u001b[0m\u001b[1;33m)\u001b[0m\u001b[1;33m\u001b[0m\u001b[1;33m\u001b[0m\u001b[0m\n\u001b[0;32m    518\u001b[0m \u001b[1;33m\u001b[0m\u001b[0m\n\u001b[1;32m--> 519\u001b[1;33m         \u001b[0mbuild_extension\u001b[0m \u001b[1;33m=\u001b[0m \u001b[0m_build_ext\u001b[0m\u001b[1;33m(\u001b[0m\u001b[0mdist\u001b[0m\u001b[1;33m)\u001b[0m\u001b[1;33m\u001b[0m\u001b[1;33m\u001b[0m\u001b[0m\n\u001b[0m\u001b[0;32m    520\u001b[0m         \u001b[0mbuild_extension\u001b[0m\u001b[1;33m.\u001b[0m\u001b[0mfinalize_options\u001b[0m\u001b[1;33m(\u001b[0m\u001b[1;33m)\u001b[0m\u001b[1;33m\u001b[0m\u001b[1;33m\u001b[0m\u001b[0m\n\u001b[0;32m    521\u001b[0m         \u001b[1;32mif\u001b[0m \u001b[0mtemp_dir\u001b[0m\u001b[1;33m:\u001b[0m\u001b[1;33m\u001b[0m\u001b[1;33m\u001b[0m\u001b[0m\n",
      "\u001b[1;32mC:\\Users\\Guillaume\\Miniconda3\\lib\\distutils\\cmd.py\u001b[0m in \u001b[0;36m__init__\u001b[1;34m(self, dist)\u001b[0m\n\u001b[0;32m     55\u001b[0m \u001b[1;33m\u001b[0m\u001b[0m\n\u001b[0;32m     56\u001b[0m         \u001b[1;32mif\u001b[0m \u001b[1;32mnot\u001b[0m \u001b[0misinstance\u001b[0m\u001b[1;33m(\u001b[0m\u001b[0mdist\u001b[0m\u001b[1;33m,\u001b[0m \u001b[0mDistribution\u001b[0m\u001b[1;33m)\u001b[0m\u001b[1;33m:\u001b[0m\u001b[1;33m\u001b[0m\u001b[1;33m\u001b[0m\u001b[0m\n\u001b[1;32m---> 57\u001b[1;33m             \u001b[1;32mraise\u001b[0m \u001b[0mTypeError\u001b[0m\u001b[1;33m(\u001b[0m\u001b[1;34m\"dist must be a Distribution instance\"\u001b[0m\u001b[1;33m)\u001b[0m\u001b[1;33m\u001b[0m\u001b[1;33m\u001b[0m\u001b[0m\n\u001b[0m\u001b[0;32m     58\u001b[0m         \u001b[1;32mif\u001b[0m \u001b[0mself\u001b[0m\u001b[1;33m.\u001b[0m\u001b[0m__class__\u001b[0m \u001b[1;32mis\u001b[0m \u001b[0mCommand\u001b[0m\u001b[1;33m:\u001b[0m\u001b[1;33m\u001b[0m\u001b[1;33m\u001b[0m\u001b[0m\n\u001b[0;32m     59\u001b[0m             \u001b[1;32mraise\u001b[0m \u001b[0mRuntimeError\u001b[0m\u001b[1;33m(\u001b[0m\u001b[1;34m\"Command is an abstract class\"\u001b[0m\u001b[1;33m)\u001b[0m\u001b[1;33m\u001b[0m\u001b[1;33m\u001b[0m\u001b[0m\n",
      "\u001b[1;31mTypeError\u001b[0m: dist must be a Distribution instance"
     ]
    }
   ],
   "source": [
    "%%cython\n",
    "import numpy as np\n",
    "import pyximport\n",
    "import setuptools\n",
    "\n",
    "pyximport.install(reload_support=True, setup_args = {'include_dirs': np.get_include()})"
   ]
  },
  {
   "cell_type": "code",
   "execution_count": null,
   "metadata": {},
   "outputs": [],
   "source": [
    "import importlib\n",
    "os.chdir('../h2d')\n",
    "try: \n",
    "    importlib.reload(h2d); import h2d\n",
    "    importlib.reload(h2d_spectral); import h2d_spectral \n",
    "except NameError:\n",
    "    import h2d\n",
    "    import h2d_spectral \n",
    "os.chdir('../run')\n",
    "\n",
    "display(HTML('H2D imported in current notebook'))"
   ]
  },
  {
   "cell_type": "markdown",
   "metadata": {},
   "source": [
    "## definition of simulation's parameters"
   ]
  },
  {
   "cell_type": "code",
   "execution_count": null,
   "metadata": {},
   "outputs": [],
   "source": [
    "\n",
    "# list of parameters used in both advdiff et H2D.\n",
    "# Remark : the # starting line indicates a comment and is not necessary\n",
    "\n",
    "# definition of parameter input to be used\n",
    "\"\"\"\n",
    "# time step\n",
    "dt: .000001\n",
    "\n",
    "# x step\n",
    "dx:  .015\n",
    "\n",
    "# y step (used only for H2D simulations)\n",
    "dy: .01\n",
    "\n",
    "# Points in X direction\n",
    "Nx:  128\n",
    "\n",
    "# Points in Y direction\n",
    "Ny: 128\n",
    "\n",
    "# modes in Y direction\n",
    "Nm:  32\n",
    "\n",
    "# wave number in Y direction\n",
    "ky: .1\n",
    "\n",
    "# end time\n",
    "Tmax: .00001\n",
    "\n",
    "# output time\n",
    "Toutput: .000001\n",
    "\n",
    "# diffusion coefficient\n",
    "C:  .02\n",
    "\n",
    "# advection coefficient\n",
    "V:  -.2\n",
    "\n",
    "# time scheme\n",
    "# can be\n",
    "# eule for euler explicit (default)\n",
    "# euli for euler implicit\n",
    "# RK2 for Runge-Kutta 2\n",
    "# RK4 for Runge-Kutta 4\n",
    "# CN for Cranck-Nicholson\n",
    "scheme: eule\n",
    "\"\"\"\n",
    ";"
   ]
  },
  {
   "cell_type": "markdown",
   "metadata": {},
   "source": [
    "# Section 0 : Introduction"
   ]
  },
  {
   "cell_type": "markdown",
   "metadata": {
    "slideshow": {
     "slide_type": "notes"
    }
   },
   "source": [
    "Solve diffusion equation : \n",
    "$$\\Large \\frac{\\partial u(x,y,t)}{\\partial t}  = C\\frac{\\partial^2 u(x,y,t)}{\\partial x^2}+C\\frac{\\partial^2 u(x,y,t)}{\\partial y^2}$$\n",
    "$$\\Large u(x,y, t=0) = u_0(x,y) $$\n",
    "$$\\Large u(0,y, t) = u(L_x,y, t)=0 $$\n",
    "$$\\Large u(x,0, t) = u(x, L_y, t) $$"
   ]
  },
  {
   "cell_type": "markdown",
   "metadata": {},
   "source": [
    "<font size=4>\n",
    "<p>First, we define parameters in a string which will then be used for the simulation. All the parameters are described in the upper cell.\n",
    "This variable is converted to an usable dict through the function load_from_string.\n",
    "    </p>\n",
    "</font>"
   ]
  },
  {
   "cell_type": "code",
   "execution_count": null,
   "metadata": {},
   "outputs": [],
   "source": [
    "params_ex_diff_str = \"\"\"{\n",
    "\"C\": 0.04,\n",
    "\"Nx\": 16,\n",
    "\"Ny\": 16,\n",
    "\"Tmax\": .000001,\n",
    "\"Toutput\": .0000001, \n",
    "\"V\": 0,\n",
    "\"dt\": 0.000000001,\n",
    "\"dx\": 0.1,\n",
    "\"dy\": 0.1,\n",
    "\"scheme\": \"eule\"\n",
    "}\n",
    "\"\"\"\n",
    "params_ex_diff = load_from_string(params_ex_diff_str)\n",
    "display(params_ex_diff)"
   ]
  },
  {
   "cell_type": "markdown",
   "metadata": {},
   "source": [
    "<font size=4>\n",
    "    If YAML format is accepted, parameters can be written following this format. If YAML is not recognized, you will have an error message.\n",
    "</font>"
   ]
  },
  {
   "cell_type": "code",
   "execution_count": null,
   "metadata": {},
   "outputs": [],
   "source": [
    "params_ex_diff_str = \"\"\"\n",
    "C: 0.04\n",
    "Nx: 16\n",
    "Ny: 16\n",
    "Tmax: .0001\n",
    "Toutput: .00001 \n",
    "V: 0\n",
    "dt: 0.000000001\n",
    "dx: 0.1\n",
    "dy: 0.1\n",
    "scheme: eule\n",
    "# boundary can be default to use default boundaries implemented\n",
    "# or null to use the function null_bc (as asked in section 3.1)\n",
    "boundary: default\n",
    "\"\"\"\n",
    "params_ex_diff = load_from_string(params_ex_diff_str)\n",
    "display(params_ex_diff)"
   ]
  },
  {
   "cell_type": "markdown",
   "metadata": {},
   "source": [
    "<font size=4> \n",
    "    To run a new simulation you just need to use the function simulate with the parameters written previously as argument\n",
    "</font>"
   ]
  },
  {
   "cell_type": "code",
   "execution_count": null,
   "metadata": {},
   "outputs": [],
   "source": [
    "def initfield_2D(x: np.array, y: np.array):\n",
    "    \"\"\"\n",
    "    generate initial profile for H2D simulations,\n",
    "    :param x: meshgrid for X values\n",
    "    :param y: meshgrid for Y values\n",
    "    :return: 2D field\n",
    "    \"\"\"\n",
    "    u0 = x+y\n",
    "    return u0"
   ]
  },
  {
   "cell_type": "code",
   "execution_count": null,
   "metadata": {},
   "outputs": [],
   "source": [
    "output_ex_diff = h2d.simulate(**params_ex_diff, init=initfield_2D, verbose=False)"
   ]
  },
  {
   "cell_type": "markdown",
   "metadata": {},
   "source": [
    "<font size=4> \n",
    "    To see the result as an animation you can use the function plot_results with the returned value from the function simulate as argument\n",
    "</font>"
   ]
  },
  {
   "cell_type": "code",
   "execution_count": null,
   "metadata": {},
   "outputs": [],
   "source": [
    "%matplotlib inline\n",
    "plot_results(output_ex_diff)"
   ]
  },
  {
   "cell_type": "markdown",
   "metadata": {},
   "source": [
    "<font size=4>\n",
    "    to plot last snapshot\n",
    "</font>"
   ]
  },
  {
   "cell_type": "code",
   "execution_count": null,
   "metadata": {},
   "outputs": [],
   "source": [
    "%matplotlib inline\n",
    "plot_2d_profile(output_ex_diff, -1)"
   ]
  },
  {
   "cell_type": "markdown",
   "metadata": {},
   "source": [
    "<font size=4>\n",
    "    to plot evolution of max(u(x,y,t)) in time\n",
    "</font>"
   ]
  },
  {
   "cell_type": "code",
   "execution_count": null,
   "metadata": {},
   "outputs": [],
   "source": [
    "from mpl_toolkits.mplot3d import Axes3D\n",
    "from utils.tools import extract_max\n",
    "figformat().apply()\n",
    "fig = plt.figure(figsize=(10,10))\n",
    "ax = fig.add_subplot(111, projection='3d')\n",
    "\n",
    "x = extract_max(output_ex_diff)[0]\n",
    "y = extract_max(output_ex_diff)[1]\n",
    "m = extract_max(output_ex_diff)[2]\n",
    "t = 1+np.arange(0, m.shape[0])\n",
    "ax.scatter(x,y,m, c=t, marker='o')\n",
    "# set log scale in y\n",
    "# ax.set_yscale('log')\n",
    "# set log scale in x\n",
    "# ax.set_xscale('log')\n",
    "\n",
    "plt.xlabel('x')\n",
    "plt.ylabel('y')\n",
    "\n",
    "plt.show()"
   ]
  },
  {
   "cell_type": "markdown",
   "metadata": {},
   "source": [
    "### Section 1 : diffusion in real space"
   ]
  },
  {
   "cell_type": "code",
   "execution_count": null,
   "metadata": {},
   "outputs": [],
   "source": [
    "# fill this parameters to resolve time evolution of 1D diffusion\n",
    "\n",
    "params_for_diff = \"\"\"\n",
    "C: \n",
    "Nx: \n",
    "Tmax: \n",
    "Toutput: \n",
    "V: 0\n",
    "dt: \n",
    "dx: \n",
    "scheme: eule\n",
    "\"\"\"\n",
    "params_diff = load_from_string(params_for_diff)\n",
    "display(params_diff)"
   ]
  },
  {
   "cell_type": "markdown",
   "metadata": {},
   "source": [
    "### Section 2 : diffusion using Fourier decomposition"
   ]
  },
  {
   "cell_type": "markdown",
   "metadata": {},
   "source": [
    "When using Fourier decomposition, this time the main module is not any more h2d but h2d_spectral.\n",
    "So to run a new simulation you have to use the function h2d.simulate.\n",
    "\n",
    "Please note that the initial condition must be written as the function in real and not Fourier space. Moreover, outputs/snapshots are by default transformed to real spaces expressions"
   ]
  },
  {
   "cell_type": "code",
   "execution_count": null,
   "metadata": {},
   "outputs": [],
   "source": []
  },
  {
   "cell_type": "code",
   "execution_count": null,
   "metadata": {},
   "outputs": [],
   "source": [
    "params_ex_diff_fourier_str = \"\"\"\n",
    "C: 0.04\n",
    "Nx: 16\n",
    "Ny: 16\n",
    "Nm: 4\n",
    "Tmax: .0001\n",
    "Toutput: .00001 \n",
    "V: 0\n",
    "dt: 0.000000001\n",
    "dx: 0.1\n",
    "ky: 0.1\n",
    "scheme: eule\n",
    "# boundary can be default to use default boundaries implemented\n",
    "# or null to use the function null_bc (as asked in section 3.1)\n",
    "boundary: default\n",
    "\"\"\"\n",
    "params_ex_diff_fourier = load_from_string(params_ex_diff_fourier_str)\n",
    "display(params_ex_diff_fourier)"
   ]
  },
  {
   "cell_type": "code",
   "execution_count": null,
   "metadata": {},
   "outputs": [],
   "source": [
    "output_ex_diff_fourier = h2d_spectral.simulate(**params_ex_diff, init=initfield_2D, verbose=False)"
   ]
  },
  {
   "cell_type": "code",
   "execution_count": null,
   "metadata": {},
   "outputs": [],
   "source": [
    "%matplotlib inline\n",
    "\n",
    "plot_results(output_ex_diff_fourier, -1)"
   ]
  },
  {
   "cell_type": "code",
   "execution_count": null,
   "metadata": {},
   "outputs": [],
   "source": [
    "%matplotlib inline\n",
    "\n",
    "plot_2d_profile(output_ex_diff_fourier, -1)"
   ]
  },
  {
   "cell_type": "code",
   "execution_count": null,
   "metadata": {},
   "outputs": [],
   "source": []
  }
 ],
 "metadata": {
  "kernelspec": {
   "display_name": "Python 3",
   "language": "python",
   "name": "python3"
  },
  "language_info": {
   "codemirror_mode": {
    "name": "ipython",
    "version": 3
   },
   "file_extension": ".py",
   "mimetype": "text/x-python",
   "name": "python",
   "nbconvert_exporter": "python",
   "pygments_lexer": "ipython3",
   "version": "3.7.4"
  }
 },
 "nbformat": 4,
 "nbformat_minor": 4
}
